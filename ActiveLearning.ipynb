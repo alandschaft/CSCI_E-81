{
 "cells": [
  {
   "cell_type": "markdown",
   "metadata": {
    "slideshow": {
     "slide_type": "-"
    }
   },
   "source": [
    "# Active Learning - Committee-Based Sampling\n",
    "\n",
    "The purpose of this notebook is to demonstrate the Active Learning technique: Committee-Based Sampling.\n",
    "\n",
    "The notebook has been developed by Assaf Landschaft and Bernard Mcshea for the \"in class paper presentation\" for the course \"CSCI E-81 Section 2 2016\" in Harvard Extension School."
   ]
  },
  {
   "cell_type": "markdown",
   "metadata": {},
   "source": [
    "## What is Active Learning\n",
    "\n",
    "The goal of active learning is to minimize annotation costs. In other words – to minimize the costs of creating sufficient training data for a supervised learning algorithm. The standard approach to supervised learning is to acquire a large random sample of training instances to be labeled before any learning begins. When labeling costs are high, Active Learning algorithms are used to select the most informative unlabeled instances so only those will be annotated.\n"
   ]
  },
  {
   "cell_type": "markdown",
   "metadata": {},
   "source": [
    "## Standard imports and settings"
   ]
  },
  {
   "cell_type": "code",
   "execution_count": 1,
   "metadata": {
    "collapsed": false
   },
   "outputs": [],
   "source": [
    "%matplotlib inline\n",
    "import matplotlib as mpl\n",
    "mpl.rcParams['font.size'] = 16.0\n",
    "import matplotlib.pyplot as plt\n",
    "import numpy as np\n",
    "import pandas as pd            # process data with pandas dataframe\n",
    "pd.set_option('display.width', 500)\n",
    "pd.set_option('display.max_columns', 100)\n",
    "pd.set_option('display.notebook_repr_html', True)\n",
    "import seaborn as sns\n",
    "sns.set_style(\"whitegrid\")\n",
    "sns.set_context(\"poster\")\n",
    "import time\n",
    "import os"
   ]
  },
  {
   "cell_type": "markdown",
   "metadata": {},
   "source": [
    "# The data \n",
    "\n",
    "The **Ohsumed** test collection (available at <ftp://medir.ohsu.edu/pub/ohsumed>) is a subset of the MEDLINE database, which is a bibliographic database of important, peer-reviewed medical literature maintained by the National Library of Medicine. The initial subset I consider in the project is the collection consisting of the first 20,000 documents from the 50,216 medical abstracts of the year 1991. The classification scheme consists of the 23 Medical Subject Headings (MeSH) categories of cardiovascular diseases group: \n",
    "\n",
    "| Category      | Description   |        \n",
    "| ------------- | ------------- |\n",
    "| C01 | Bacterial Infections and Mycoses |\n",
    "| C02 | Virus Diseases |\n",
    "| C03 | Parasitic Diseases |\n",
    "| C04 | Neoplasms |\n",
    "| C05 | Musculoskeletal Diseases |\n",
    "| C06 | Digestive System Diseases |\n",
    "| C07 | Stomatognathic Diseases |\n",
    "| C08 | Respiratory Tract Diseases |\n",
    "| C09 | Otorhinolaryngologic Diseases |\n",
    "| C10 | Nervous System Diseases |\n",
    "| C11 | Eye Diseases |\n",
    "| C12 | Urologic and Male Genital Diseases |\n",
    "| C13 | Female Genital Diseases and Pregnancy Complications |\n",
    "| C14 | Cardiovascular Diseases |\n",
    "| C15 | Hemic and Lymphatic Diseases |\n",
    "| C16 | Neonatal Diseases and Abnormalities |\n",
    "| C17 | Skin and Connective Tissue Diseases |\n",
    "| C18 | Nutritional and Metabolic Diseases |\n",
    "| C19 | Endocrine Diseases |\n",
    "| C20 | Immunologic Diseases |\n",
    "| C21 | Disorders of Environmental Origin |\n",
    "| C22 | Animal Diseases |\n",
    "| C23 | Pathological Conditions, Signs and Symptoms |\n",
    "\n",
    "\n",
    "## Downloading the data:\n",
    "\n",
    "* [Cardiovascular diseases abstracts](http://disi.unitn.it/moschitti/corpora/ohsumed-first-20000-docs.tar.gz) (the first 20,000 abstracts of the year 1991)\n",
    "\n",
    "** The following code assumes that the data is extracted into folder with the name 'Data' in the same folder of the IPython notebook**\n",
    "\n",
    "## Storing the data in a sql database\n",
    "\n",
    "The following code iterates over the extracted data and converts the ohsumed directory structure to a single sqlite databse with the data. The original dataset is already divided to Test and Training datasets. We will keep this division."
   ]
  },
  {
   "cell_type": "code",
   "execution_count": 2,
   "metadata": {
    "collapsed": false
   },
   "outputs": [],
   "source": [
    "import sqlite3 as sqlite\n",
    "\n",
    "def get_all_tables(c):\n",
    "    \"\"\"\n",
    "    Helper function - Gets a list of all the tables in the database.\n",
    "    \"\"\"\n",
    "    all_tables = []\n",
    "    c.execute('SELECT name FROM SQLITE_MASTER WHERE type = \"table\"')\n",
    "    for tbl in c:\n",
    "        all_tables.append(tbl[0])\n",
    "    return all_tables\n",
    "\n",
    "def drop_tables(c, tables):\n",
    "    \"\"\"\n",
    "    Helper function - Checks that the specified tables exist, and for those that do, drop them.\n",
    "    \"\"\"\n",
    "    all_tables = get_all_tables(c)\n",
    "    for t in tables:\n",
    "        if t in all_tables:\n",
    "            c.execute('DROP TABLE %s' % t)\n",
    "\n",
    "def create_documents_table(c):\n",
    "    \"\"\"\n",
    "    Helper function - This function uses SQL to create the Documents table\n",
    "    \"\"\"\n",
    "    drop_tables(c, [ 'Documents' ])\n",
    "    c.execute(\"\"\"CREATE TABLE Documents ( \n",
    "            DOCID TEXT PRIMARY KEY,\n",
    "            NOTE_TEXT TEXT, \n",
    "            CATEGORY TEXT\n",
    "        )\"\"\")\n",
    "\n",
    "def add_document(c, docid, text, category):\n",
    "    \"\"\"\n",
    "    Helper function - Adds one document to sql Documents database\n",
    "    \"\"\"\n",
    "    c.execute('insert or replace into Documents values ( ?, ?, ? )', (docid, text, category))\n",
    "\n",
    "def ohsumed2sqlite(src_root_dir, dest_sqlite):\n",
    "    start_time = time.time()\n",
    "    print ('Converting ohsumed directory structure {0} to sqlite database'.format(src_root_dir))\n",
    "\n",
    "    conn_out = sqlite.connect(dest_sqlite)\n",
    "    c_out = conn_out.cursor()\n",
    "\n",
    "    fout = open(dest_sqlite, 'w')\n",
    "    fout.close()\n",
    "\n",
    "    create_documents_table(c_out)\n",
    "    # Process the ohsumed directory\n",
    "    dict = {}\n",
    "    for root, dirs, files in os.walk(src_root_dir):\n",
    "        for f in files:\n",
    "            category = os.path.basename(root) # directory name is the category\n",
    "            with open (os.path.join(root, f), \"r\") as cur_file:\n",
    "                data=cur_file.read()\n",
    "                if f in dict:\n",
    "                    category = dict[f] + ',' + category\n",
    "                dict[f] = category\n",
    "                add_document(c_out, f, data, category)\n",
    "    conn_out.commit()\n",
    "    c_out.close()\n",
    "    print(\"--- ohsumed2sqlite %s seconds ---\" % (time.time() - start_time))"
   ]
  },
  {
   "cell_type": "code",
   "execution_count": 3,
   "metadata": {
    "collapsed": false
   },
   "outputs": [
    {
     "name": "stdout",
     "output_type": "stream",
     "text": [
      "Converting ohsumed directory structure .\\Data\\ohsumed-first-20000-docs\\training to sqlite database\n",
      "--- ohsumed2sqlite 1.0526394844055176 seconds ---\n",
      "Converting ohsumed directory structure .\\Data\\ohsumed-first-20000-docs\\test to sqlite database\n",
      "--- ohsumed2sqlite 1.2720887660980225 seconds ---\n"
     ]
    }
   ],
   "source": [
    "# Convert the training data\n",
    "ohsumed2sqlite('.\\\\Data\\\\ohsumed-first-20000-docs\\\\training', 'training.sqlite')\n",
    "\n",
    "# Convert the test data\n",
    "ohsumed2sqlite('.\\\\Data\\\\ohsumed-first-20000-docs\\\\test', 'test.sqlite')"
   ]
  },
  {
   "cell_type": "markdown",
   "metadata": {},
   "source": [
    "## Data exploration and preparation \n",
    "\n"
   ]
  },
  {
   "cell_type": "markdown",
   "metadata": {},
   "source": [
    "### Read the data from the sqlite databases into Pandas dataframes"
   ]
  },
  {
   "cell_type": "code",
   "execution_count": 4,
   "metadata": {
    "collapsed": false
   },
   "outputs": [],
   "source": [
    "con = sqlite.connect('training.sqlite')\n",
    "\n",
    "df_train = pd.read_sql_query(\"SELECT * from Documents\", con)\n",
    "\n",
    "con.close()\n",
    "\n",
    "con = sqlite.connect('test.sqlite')\n",
    "\n",
    "df_test = pd.read_sql_query(\"SELECT * from Documents\", con)\n",
    "\n",
    "con.close()\n"
   ]
  },
  {
   "cell_type": "markdown",
   "metadata": {},
   "source": [
    "### Output a random sample of 20 records"
   ]
  },
  {
   "cell_type": "code",
   "execution_count": 5,
   "metadata": {
    "collapsed": false,
    "scrolled": true
   },
   "outputs": [
    {
     "data": {
      "text/html": [
       "<div>\n",
       "<table border=\"1\" class=\"dataframe\">\n",
       "  <thead>\n",
       "    <tr style=\"text-align: right;\">\n",
       "      <th></th>\n",
       "      <th>DOCID</th>\n",
       "      <th>NOTE_TEXT</th>\n",
       "      <th>CATEGORY</th>\n",
       "    </tr>\n",
       "  </thead>\n",
       "  <tbody>\n",
       "    <tr>\n",
       "      <th>3382</th>\n",
       "      <td>0008241</td>\n",
       "      <td>Management of hypercholesterolemia in a family practice setting.\\n A study was undertaken to assess physician adherence and patient compliance with the National Cholesterol Education Program guide...</td>\n",
       "      <td>C18</td>\n",
       "    </tr>\n",
       "    <tr>\n",
       "      <th>5112</th>\n",
       "      <td>0004119</td>\n",
       "      <td>Effect of activity on supraventricular tachyarrhythmias after coronary artery bypass surgery.\\n The purpose of this study was to evaluate patient activities, professional staff activities, backres...</td>\n",
       "      <td>C14,C23</td>\n",
       "    </tr>\n",
       "    <tr>\n",
       "      <th>2453</th>\n",
       "      <td>0006190</td>\n",
       "      <td>Are ioxaglate and iopamidol equally safe and well tolerated in cardiac angiography? A randomized, double-blind clinical study.\\n A randomized, double-blind, parallel-group study was performed in 5...</td>\n",
       "      <td>C14</td>\n",
       "    </tr>\n",
       "    <tr>\n",
       "      <th>3158</th>\n",
       "      <td>0009916</td>\n",
       "      <td>Adherent synovial cells from nonrheumatoid arthritis do not release interleukin 1 beta and prostaglandin E2 spontaneously in longterm culture.\\n Adherent synovial cells from both 13 patients witho...</td>\n",
       "      <td>C05,C17</td>\n",
       "    </tr>\n",
       "    <tr>\n",
       "      <th>5802</th>\n",
       "      <td>0007571</td>\n",
       "      <td>Importance of hemodynamic response to therapy in predicting survival with ejection fraction less than or equal to 20% secondary to ischemic or nonischemic dilated cardiomyopathy.\\n To identify pat...</td>\n",
       "      <td>C14,C23</td>\n",
       "    </tr>\n",
       "    <tr>\n",
       "      <th>4541</th>\n",
       "      <td>0000384</td>\n",
       "      <td>Transient mitral regurgitation due to mitral valve prolapse accompanied by systolic anterior motion of the mitral valve.\\n A grade 4/6 systolic murmur, systolic anterior motion of the mitral valve...</td>\n",
       "      <td>C06,C14,C23</td>\n",
       "    </tr>\n",
       "    <tr>\n",
       "      <th>844</th>\n",
       "      <td>0005676</td>\n",
       "      <td>Diarrhea.\\n Diarrhea is one manifestation of GI disturbance.\\n Symptoms may be acute if caused by such things as infections, drug reactions, alterations in diet, heavy metal poisoning, or fecal im...</td>\n",
       "      <td>C06</td>\n",
       "    </tr>\n",
       "    <tr>\n",
       "      <th>589</th>\n",
       "      <td>0009360</td>\n",
       "      <td>Bilateral familial carotid body paragangliomas. Report of a case with DNA flow cytometric and cytogenetic analyses.\\n A case study of bilateral familial carotid body paragangliomas with DNA flow c...</td>\n",
       "      <td>C04</td>\n",
       "    </tr>\n",
       "    <tr>\n",
       "      <th>5622</th>\n",
       "      <td>0006795</td>\n",
       "      <td>Titration streptomycin therapy for bilateral Meniere's disease. Follow-up report.\\n Initial reports of the use of parenteral streptomycin for bilateral Meniere's disease (MD) have demonstrated suc...</td>\n",
       "      <td>C09,C23</td>\n",
       "    </tr>\n",
       "    <tr>\n",
       "      <th>4718</th>\n",
       "      <td>0002262</td>\n",
       "      <td>Tryptophan-induced eosinophilia-myalgia syndrome \\n Eight patients who became ill while taking tryptophan had myalgia, fatigue, rash, fever, edema, alopecia, arthralgias, diminished joint motion, ...</td>\n",
       "      <td>C05,C10,C15,C17,C23</td>\n",
       "    </tr>\n",
       "    <tr>\n",
       "      <th>3279</th>\n",
       "      <td>0004159</td>\n",
       "      <td>Effects of exercise on insulin-induced hypoglycemia.\\n The purpose of this study was to determine the effect of exercise on the rate of onset of hypoglycemia induced by infusion of excess insulin ...</td>\n",
       "      <td>C18</td>\n",
       "    </tr>\n",
       "    <tr>\n",
       "      <th>3320</th>\n",
       "      <td>0006002</td>\n",
       "      <td>Primary prevention of coronary artery disease through a family-oriented cardiac risk factor clinic.\\n Primary prevention of coronary artery disease in children and young adults is important and ca...</td>\n",
       "      <td>C14,C18</td>\n",
       "    </tr>\n",
       "    <tr>\n",
       "      <th>3547</th>\n",
       "      <td>0008477</td>\n",
       "      <td>Management of Cushing's syndrome secondary to adrenal adenoma during pregnancy.\\n This report discusses our experience with two patients who had unilateral adrenalectomy during pregnancy as treatm...</td>\n",
       "      <td>C04,C19</td>\n",
       "    </tr>\n",
       "    <tr>\n",
       "      <th>5248</th>\n",
       "      <td>0004999</td>\n",
       "      <td>Pediatric blunt liver injury and coagulopathy managed with packs and a silo: case report.\\n Packing the abdomen can be lifesaving when severe hepatic trauma is complicated by refractory hypothermi...</td>\n",
       "      <td>C15,C21,C23</td>\n",
       "    </tr>\n",
       "    <tr>\n",
       "      <th>1036</th>\n",
       "      <td>0002950</td>\n",
       "      <td>Results in 104 patients undergoing bronchoplastic procedures for bronchial lesions.\\n Bronchoplastic procedures were used in 104 patients with various bronchial disorders.\\n Ten had benign lesions...</td>\n",
       "      <td>C08</td>\n",
       "    </tr>\n",
       "    <tr>\n",
       "      <th>4471</th>\n",
       "      <td>0006661</td>\n",
       "      <td>Manual translaryngeal jet ventilation and the risk of aspiration in a canine model.\\n STUDY OBJECTIVES: Manual translaryngeal jet ventilation (TLJV) is a safe and effective method of maintaining n...</td>\n",
       "      <td>C08,C22</td>\n",
       "    </tr>\n",
       "    <tr>\n",
       "      <th>1063</th>\n",
       "      <td>0003771</td>\n",
       "      <td>Kyphoscoliosis and respiratory failure. A patient treated with assisted ventilation for 27 years.\\n A 62-year-old woman had had kyphoscoliosis since age 12 years.\\n Respiratory failure developed a...</td>\n",
       "      <td>C05,C08</td>\n",
       "    </tr>\n",
       "    <tr>\n",
       "      <th>407</th>\n",
       "      <td>0005774</td>\n",
       "      <td>Adult T-cell leukemia-derived factor/thioredoxin, produced by both human T-lymphotropic virus type I- and Epstein-Barr virus-transformed lymphocytes, acts as an autocrine growth factor and synergi...</td>\n",
       "      <td>C04</td>\n",
       "    </tr>\n",
       "    <tr>\n",
       "      <th>2919</th>\n",
       "      <td>0006370</td>\n",
       "      <td>Localization of the microsatellite probe DXS426 between DXS7 and DXS255 on Xp and linkage to X-linked retinitis pigmentosa.\\n The microsatellite marker DXS426 maps to the interval Xp21.1-Xp11.21, ...</td>\n",
       "      <td>C16</td>\n",
       "    </tr>\n",
       "    <tr>\n",
       "      <th>1170</th>\n",
       "      <td>0008846</td>\n",
       "      <td>The adult respiratory distress syndrome.\\n The adult respiratory distress syndrome remains an enigmatic disorder with a high mortality rate, although it can sometimes be managed effectively.\\n Rec...</td>\n",
       "      <td>C08</td>\n",
       "    </tr>\n",
       "  </tbody>\n",
       "</table>\n",
       "</div>"
      ],
      "text/plain": [
       "        DOCID                                                                                                                                                                                                NOTE_TEXT             CATEGORY\n",
       "3382  0008241  Management of hypercholesterolemia in a family practice setting.\\n A study was undertaken to assess physician adherence and patient compliance with the National Cholesterol Education Program guide...                  C18\n",
       "5112  0004119  Effect of activity on supraventricular tachyarrhythmias after coronary artery bypass surgery.\\n The purpose of this study was to evaluate patient activities, professional staff activities, backres...              C14,C23\n",
       "2453  0006190  Are ioxaglate and iopamidol equally safe and well tolerated in cardiac angiography? A randomized, double-blind clinical study.\\n A randomized, double-blind, parallel-group study was performed in 5...                  C14\n",
       "3158  0009916  Adherent synovial cells from nonrheumatoid arthritis do not release interleukin 1 beta and prostaglandin E2 spontaneously in longterm culture.\\n Adherent synovial cells from both 13 patients witho...              C05,C17\n",
       "5802  0007571  Importance of hemodynamic response to therapy in predicting survival with ejection fraction less than or equal to 20% secondary to ischemic or nonischemic dilated cardiomyopathy.\\n To identify pat...              C14,C23\n",
       "4541  0000384  Transient mitral regurgitation due to mitral valve prolapse accompanied by systolic anterior motion of the mitral valve.\\n A grade 4/6 systolic murmur, systolic anterior motion of the mitral valve...          C06,C14,C23\n",
       "844   0005676  Diarrhea.\\n Diarrhea is one manifestation of GI disturbance.\\n Symptoms may be acute if caused by such things as infections, drug reactions, alterations in diet, heavy metal poisoning, or fecal im...                  C06\n",
       "589   0009360  Bilateral familial carotid body paragangliomas. Report of a case with DNA flow cytometric and cytogenetic analyses.\\n A case study of bilateral familial carotid body paragangliomas with DNA flow c...                  C04\n",
       "5622  0006795  Titration streptomycin therapy for bilateral Meniere's disease. Follow-up report.\\n Initial reports of the use of parenteral streptomycin for bilateral Meniere's disease (MD) have demonstrated suc...              C09,C23\n",
       "4718  0002262  Tryptophan-induced eosinophilia-myalgia syndrome \\n Eight patients who became ill while taking tryptophan had myalgia, fatigue, rash, fever, edema, alopecia, arthralgias, diminished joint motion, ...  C05,C10,C15,C17,C23\n",
       "3279  0004159  Effects of exercise on insulin-induced hypoglycemia.\\n The purpose of this study was to determine the effect of exercise on the rate of onset of hypoglycemia induced by infusion of excess insulin ...                  C18\n",
       "3320  0006002  Primary prevention of coronary artery disease through a family-oriented cardiac risk factor clinic.\\n Primary prevention of coronary artery disease in children and young adults is important and ca...              C14,C18\n",
       "3547  0008477  Management of Cushing's syndrome secondary to adrenal adenoma during pregnancy.\\n This report discusses our experience with two patients who had unilateral adrenalectomy during pregnancy as treatm...              C04,C19\n",
       "5248  0004999  Pediatric blunt liver injury and coagulopathy managed with packs and a silo: case report.\\n Packing the abdomen can be lifesaving when severe hepatic trauma is complicated by refractory hypothermi...          C15,C21,C23\n",
       "1036  0002950  Results in 104 patients undergoing bronchoplastic procedures for bronchial lesions.\\n Bronchoplastic procedures were used in 104 patients with various bronchial disorders.\\n Ten had benign lesions...                  C08\n",
       "4471  0006661  Manual translaryngeal jet ventilation and the risk of aspiration in a canine model.\\n STUDY OBJECTIVES: Manual translaryngeal jet ventilation (TLJV) is a safe and effective method of maintaining n...              C08,C22\n",
       "1063  0003771  Kyphoscoliosis and respiratory failure. A patient treated with assisted ventilation for 27 years.\\n A 62-year-old woman had had kyphoscoliosis since age 12 years.\\n Respiratory failure developed a...              C05,C08\n",
       "407   0005774  Adult T-cell leukemia-derived factor/thioredoxin, produced by both human T-lymphotropic virus type I- and Epstein-Barr virus-transformed lymphocytes, acts as an autocrine growth factor and synergi...                  C04\n",
       "2919  0006370  Localization of the microsatellite probe DXS426 between DXS7 and DXS255 on Xp and linkage to X-linked retinitis pigmentosa.\\n The microsatellite marker DXS426 maps to the interval Xp21.1-Xp11.21, ...                  C16\n",
       "1170  0008846  The adult respiratory distress syndrome.\\n The adult respiratory distress syndrome remains an enigmatic disorder with a high mortality rate, although it can sometimes be managed effectively.\\n Rec...                  C08"
      ]
     },
     "execution_count": 5,
     "metadata": {},
     "output_type": "execute_result"
    }
   ],
   "source": [
    "pd.options.display.max_colwidth = 200\n",
    "\n",
    "df_train.sample(20)"
   ]
  },
  {
   "cell_type": "markdown",
   "metadata": {},
   "source": [
    "### Creating binary classification dataset\n",
    "\n",
    "** As we see, each document is assigned one class or more. ** In this exercise I would like to implement a simple binary classification workflow, so I define 2 binary classes:\n",
    "* **Positive / True** - Documents that belong to class **C14 - Cardiovascular Diseases**\n",
    "* **Negative / False** - Documents that do not belong to C14\n",
    "\n",
    "The following code converts that data to a binary classification dataset:\n"
   ]
  },
  {
   "cell_type": "code",
   "execution_count": 6,
   "metadata": {
    "collapsed": false
   },
   "outputs": [],
   "source": [
    "import re\n",
    "\n",
    "def ConvertCategoryColToBinVal(df, poscat):\n",
    "    df['CATEGORY'] = df['CATEGORY'].apply(lambda x: bool(re.search(poscat, x, re.IGNORECASE) and True))\n",
    "    \n",
    "ConvertCategoryColToBinVal(df_train, 'C14')\n",
    "\n",
    "ConvertCategoryColToBinVal(df_test, 'C14')"
   ]
  },
  {
   "cell_type": "markdown",
   "metadata": {},
   "source": [
    "Let's take another look at the data:"
   ]
  },
  {
   "cell_type": "code",
   "execution_count": 7,
   "metadata": {
    "collapsed": false
   },
   "outputs": [
    {
     "data": {
      "text/html": [
       "<div>\n",
       "<table border=\"1\" class=\"dataframe\">\n",
       "  <thead>\n",
       "    <tr style=\"text-align: right;\">\n",
       "      <th></th>\n",
       "      <th>DOCID</th>\n",
       "      <th>NOTE_TEXT</th>\n",
       "      <th>CATEGORY</th>\n",
       "    </tr>\n",
       "  </thead>\n",
       "  <tbody>\n",
       "    <tr>\n",
       "      <th>5497</th>\n",
       "      <td>0006271</td>\n",
       "      <td>Effects of common illnesses on infants' energy intakes from breast milk and other foods during longitudinal community-based studies in Huascar (Lima), Peru.\\n To assess the effects of common infec...</td>\n",
       "      <td>False</td>\n",
       "    </tr>\n",
       "    <tr>\n",
       "      <th>2430</th>\n",
       "      <td>0005926</td>\n",
       "      <td>Listerial myocarditis in cardiac transplantation.\\n Clinical signs of heart failure developed in two cardiac transplant recipients and were interpreted initially as graft rejection.\\n Morphologic ...</td>\n",
       "      <td>True</td>\n",
       "    </tr>\n",
       "    <tr>\n",
       "      <th>1861</th>\n",
       "      <td>0009997</td>\n",
       "      <td>Intracavernous injection of prostaglandin E1 in combination with papaverine: enhanced effectiveness in comparison with papaverine plus phentolamine and prostaglandin E1 alone.\\n We compared the er...</td>\n",
       "      <td>False</td>\n",
       "    </tr>\n",
       "    <tr>\n",
       "      <th>142</th>\n",
       "      <td>0002275</td>\n",
       "      <td>Ascariasis.\\n Ascaris lumbricoides is the most common helminth to infect humans.\\n Infection occurs when contaminated soil containing mature eggs is swallowed.\\n Clinically, infection ranges from ...</td>\n",
       "      <td>False</td>\n",
       "    </tr>\n",
       "    <tr>\n",
       "      <th>4459</th>\n",
       "      <td>0005464</td>\n",
       "      <td>Spinal cord thromboplastin-induced coagulopathy in a rabbit model.\\n Coagulopathy results from many diverse events, including several neurogenic causes.\\n Using a rabbit model, we produced coagulo...</td>\n",
       "      <td>False</td>\n",
       "    </tr>\n",
       "    <tr>\n",
       "      <th>3394</th>\n",
       "      <td>0008752</td>\n",
       "      <td>Can prepregnancy care of diabetic women reduce the risk of abnormal babies?\\n OBJECTIVE--To see whether a prepregnancy clinic for diabetic women can achieve tight glycaemic control in early pregna...</td>\n",
       "      <td>False</td>\n",
       "    </tr>\n",
       "    <tr>\n",
       "      <th>621</th>\n",
       "      <td>0002088</td>\n",
       "      <td>High levels of inflammatory phospholipase A2 activity in lumbar disc herniations.\\n Inflammation of neural elements is frequently mentioned clinically in association with lumbar radiculopathy.\\n M...</td>\n",
       "      <td>False</td>\n",
       "    </tr>\n",
       "    <tr>\n",
       "      <th>6134</th>\n",
       "      <td>0009274</td>\n",
       "      <td>Was CEPOD right?\\n This retrospective study found that the long-term (greater than 6 months) postoperative survival in ASA 4E and 5E patients was 41% and 21% respectively, in 1986.\\n This supports...</td>\n",
       "      <td>False</td>\n",
       "    </tr>\n",
       "    <tr>\n",
       "      <th>6081</th>\n",
       "      <td>0009000</td>\n",
       "      <td>Techniques of adjustable suture strabismus surgery.\\n Adjustable sutures allow eye muscle positions to be changed following strabismus surgery, when the patient is awake and able to cooperate in m...</td>\n",
       "      <td>False</td>\n",
       "    </tr>\n",
       "    <tr>\n",
       "      <th>1301</th>\n",
       "      <td>0003023</td>\n",
       "      <td>Childhood stroke after minor neck trauma: case report.\\n Cerebral infarction after minor trauma to the neck has rarely been reported.\\n A case is presented of a child with trauma to the vertebroba...</td>\n",
       "      <td>False</td>\n",
       "    </tr>\n",
       "    <tr>\n",
       "      <th>1682</th>\n",
       "      <td>0003602</td>\n",
       "      <td>The treatment of mesangial IgA nephropathy with cyclophosphamide, dipyridamole and warfarin: a two-year prospective trial.\\n Of 52 patients with mesangial IgA nephropathy, 25 were allocated to tre...</td>\n",
       "      <td>False</td>\n",
       "    </tr>\n",
       "    <tr>\n",
       "      <th>6256</th>\n",
       "      <td>0009835</td>\n",
       "      <td>Leukocyte larceny: spurious hypoxemia confirmed with pulse oximetry \\n Leukemic patients with extremely high white blood counts may exhibit the phenomenon of leukocyte larceny, in which white bloo...</td>\n",
       "      <td>False</td>\n",
       "    </tr>\n",
       "    <tr>\n",
       "      <th>3732</th>\n",
       "      <td>0004726</td>\n",
       "      <td>Mid-line presentation of cervical lymphomata.\\n Three cases of lymphoma are reported, all of which presented as a mid-line cervical swelling and appeared to be localised disease.\\n The importance ...</td>\n",
       "      <td>False</td>\n",
       "    </tr>\n",
       "    <tr>\n",
       "      <th>3170</th>\n",
       "      <td>0000455</td>\n",
       "      <td>Lack of cutaneous hyperemia in response to insulin-induced hypoglycemia in IDDM.\\n Cutaneous blood flow was measured with the laser Doppler technique and by recording cutaneous O2 tension on the f...</td>\n",
       "      <td>True</td>\n",
       "    </tr>\n",
       "    <tr>\n",
       "      <th>4882</th>\n",
       "      <td>0003021</td>\n",
       "      <td>Strapless oral-nasal interface for positive-pressure ventilation.\\n A custom-fabricated strapless oral-nasal interface (SONI) is described.\\n It was used in the long-term administration of intermi...</td>\n",
       "      <td>False</td>\n",
       "    </tr>\n",
       "    <tr>\n",
       "      <th>793</th>\n",
       "      <td>0003753</td>\n",
       "      <td>Systemic hemodynamic and cardiac function changes in patients undergoing orthotopic liver transplantation.\\n The objective of this study was to determine the changes in systemic hemodynamics (syst...</td>\n",
       "      <td>False</td>\n",
       "    </tr>\n",
       "    <tr>\n",
       "      <th>2899</th>\n",
       "      <td>0004948</td>\n",
       "      <td>Early ribavirin treatment of respiratory syncytial viral infection in high-risk children.\\n A 3-year prospective, blinded, multicenter study was done to assess the efficacy of early ribavirin inte...</td>\n",
       "      <td>False</td>\n",
       "    </tr>\n",
       "    <tr>\n",
       "      <th>1199</th>\n",
       "      <td>0002657</td>\n",
       "      <td>Patterns of cervical lymph node metastasis from squamous carcinomas of the upper aerodigestive tract.\\n A consecutive series of 1,081 previously untreated patients undergoing 1,119 radical neck di...</td>\n",
       "      <td>False</td>\n",
       "    </tr>\n",
       "    <tr>\n",
       "      <th>408</th>\n",
       "      <td>0005775</td>\n",
       "      <td>The recombinant immunotoxin anti-Tac(Fv)-Pseudomonas exotoxin 40 is cytotoxic toward peripheral blood malignant cells from patients with adult T-cell leukemia.\\n Anti-Tac(Fv)-PE40 is a recombinant...</td>\n",
       "      <td>False</td>\n",
       "    </tr>\n",
       "    <tr>\n",
       "      <th>2000</th>\n",
       "      <td>0008287</td>\n",
       "      <td>Hip pain in late pregnancy.\\n Hip pain in late pregnancy is quite common, and its etiology is rarely established unless acute demineralization occurs.\\n We measured the bone mineral content of bot...</td>\n",
       "      <td>False</td>\n",
       "    </tr>\n",
       "  </tbody>\n",
       "</table>\n",
       "</div>"
      ],
      "text/plain": [
       "        DOCID                                                                                                                                                                                                NOTE_TEXT CATEGORY\n",
       "5497  0006271  Effects of common illnesses on infants' energy intakes from breast milk and other foods during longitudinal community-based studies in Huascar (Lima), Peru.\\n To assess the effects of common infec...    False\n",
       "2430  0005926  Listerial myocarditis in cardiac transplantation.\\n Clinical signs of heart failure developed in two cardiac transplant recipients and were interpreted initially as graft rejection.\\n Morphologic ...     True\n",
       "1861  0009997  Intracavernous injection of prostaglandin E1 in combination with papaverine: enhanced effectiveness in comparison with papaverine plus phentolamine and prostaglandin E1 alone.\\n We compared the er...    False\n",
       "142   0002275  Ascariasis.\\n Ascaris lumbricoides is the most common helminth to infect humans.\\n Infection occurs when contaminated soil containing mature eggs is swallowed.\\n Clinically, infection ranges from ...    False\n",
       "4459  0005464  Spinal cord thromboplastin-induced coagulopathy in a rabbit model.\\n Coagulopathy results from many diverse events, including several neurogenic causes.\\n Using a rabbit model, we produced coagulo...    False\n",
       "3394  0008752  Can prepregnancy care of diabetic women reduce the risk of abnormal babies?\\n OBJECTIVE--To see whether a prepregnancy clinic for diabetic women can achieve tight glycaemic control in early pregna...    False\n",
       "621   0002088  High levels of inflammatory phospholipase A2 activity in lumbar disc herniations.\\n Inflammation of neural elements is frequently mentioned clinically in association with lumbar radiculopathy.\\n M...    False\n",
       "6134  0009274  Was CEPOD right?\\n This retrospective study found that the long-term (greater than 6 months) postoperative survival in ASA 4E and 5E patients was 41% and 21% respectively, in 1986.\\n This supports...    False\n",
       "6081  0009000  Techniques of adjustable suture strabismus surgery.\\n Adjustable sutures allow eye muscle positions to be changed following strabismus surgery, when the patient is awake and able to cooperate in m...    False\n",
       "1301  0003023  Childhood stroke after minor neck trauma: case report.\\n Cerebral infarction after minor trauma to the neck has rarely been reported.\\n A case is presented of a child with trauma to the vertebroba...    False\n",
       "1682  0003602  The treatment of mesangial IgA nephropathy with cyclophosphamide, dipyridamole and warfarin: a two-year prospective trial.\\n Of 52 patients with mesangial IgA nephropathy, 25 were allocated to tre...    False\n",
       "6256  0009835  Leukocyte larceny: spurious hypoxemia confirmed with pulse oximetry \\n Leukemic patients with extremely high white blood counts may exhibit the phenomenon of leukocyte larceny, in which white bloo...    False\n",
       "3732  0004726  Mid-line presentation of cervical lymphomata.\\n Three cases of lymphoma are reported, all of which presented as a mid-line cervical swelling and appeared to be localised disease.\\n The importance ...    False\n",
       "3170  0000455  Lack of cutaneous hyperemia in response to insulin-induced hypoglycemia in IDDM.\\n Cutaneous blood flow was measured with the laser Doppler technique and by recording cutaneous O2 tension on the f...     True\n",
       "4882  0003021  Strapless oral-nasal interface for positive-pressure ventilation.\\n A custom-fabricated strapless oral-nasal interface (SONI) is described.\\n It was used in the long-term administration of intermi...    False\n",
       "793   0003753  Systemic hemodynamic and cardiac function changes in patients undergoing orthotopic liver transplantation.\\n The objective of this study was to determine the changes in systemic hemodynamics (syst...    False\n",
       "2899  0004948  Early ribavirin treatment of respiratory syncytial viral infection in high-risk children.\\n A 3-year prospective, blinded, multicenter study was done to assess the efficacy of early ribavirin inte...    False\n",
       "1199  0002657  Patterns of cervical lymph node metastasis from squamous carcinomas of the upper aerodigestive tract.\\n A consecutive series of 1,081 previously untreated patients undergoing 1,119 radical neck di...    False\n",
       "408   0005775  The recombinant immunotoxin anti-Tac(Fv)-Pseudomonas exotoxin 40 is cytotoxic toward peripheral blood malignant cells from patients with adult T-cell leukemia.\\n Anti-Tac(Fv)-PE40 is a recombinant...    False\n",
       "2000  0008287  Hip pain in late pregnancy.\\n Hip pain in late pregnancy is quite common, and its etiology is rarely established unless acute demineralization occurs.\\n We measured the bone mineral content of bot...    False"
      ]
     },
     "execution_count": 7,
     "metadata": {},
     "output_type": "execute_result"
    }
   ],
   "source": [
    "df_train.sample(20)"
   ]
  },
  {
   "cell_type": "markdown",
   "metadata": {},
   "source": [
    "### How many records do we have in the test / train datasets ?"
   ]
  },
  {
   "cell_type": "code",
   "execution_count": 8,
   "metadata": {
    "collapsed": false
   },
   "outputs": [
    {
     "name": "stdout",
     "output_type": "stream",
     "text": [
      "Training data has:  6286  documents\n",
      "Test data has:  7643  documents\n"
     ]
    }
   ],
   "source": [
    "print ('Training data has: ', len(df_train.index), ' documents')\n",
    "\n",
    "print ('Test data has: ', len(df_test.index), ' documents')"
   ]
  },
  {
   "cell_type": "markdown",
   "metadata": {},
   "source": [
    "### Data distribution"
   ]
  },
  {
   "cell_type": "code",
   "execution_count": 9,
   "metadata": {
    "collapsed": false
   },
   "outputs": [
    {
     "data": {
      "image/png": "[encoded data removed]",
      "text/plain": [
       "<matplotlib.figure.Figure at 0x14c9c85f668>"
      ]
     },
     "metadata": {},
     "output_type": "display_data"
    }
   ],
   "source": [
    "plt.axis('equal')\n",
    "plt.pie(\n",
    "    df_train.CATEGORY.value_counts().tolist(), \n",
    "    labels=['False', 'True'], \n",
    "    autopct='%1.1f%%', \n",
    "    colors=(\"#E13F29\", \"#D69A80\"));"
   ]
  },
  {
   "cell_type": "markdown",
   "metadata": {},
   "source": [
    "**The accuracy of a dumb classifier that classifies all the documents as False is >80%**"
   ]
  },
  {
   "cell_type": "markdown",
   "metadata": {},
   "source": [
    "# Define Target classifier and test method"
   ]
  },
  {
   "cell_type": "code",
   "execution_count": 10,
   "metadata": {
    "collapsed": true
   },
   "outputs": [],
   "source": [
    "from sklearn.feature_extraction.text import CountVectorizer\n",
    "from sklearn.naive_bayes import MultinomialNB\n",
    "from sklearn.grid_search import GridSearchCV\n",
    "from sklearn.pipeline import Pipeline\n",
    "from sklearn.linear_model import SGDClassifier\n",
    "from sklearn.feature_extraction.text import TfidfTransformer\n",
    "from sklearn.metrics import classification_report, accuracy_score\n",
    "\n",
    "\n",
    "from nltk.stem.porter import *\n",
    "from nltk.tokenize import word_tokenize\n",
    "import string\n",
    "\n",
    "stemmer = PorterStemmer()\n",
    "def stem_tokens(tokens, stemmer):\n",
    "    stemmed = []\n",
    "    for item in tokens:\n",
    "        stemmed.append(stemmer.stem(item))\n",
    "    return stemmed\n",
    "\n",
    "def tokenize(text):\n",
    "    text = \"\".join([ch for ch in text if ch not in string.punctuation])\n",
    "    tokens = word_tokenize(text)\n",
    "    tokens = [item for item in tokens if item.isalpha()]\n",
    "    stems = stem_tokens(tokens, stemmer)\n",
    "    return stems\n",
    "\n",
    "def RenderConfusionMatrix(ytrue, ypred):\n",
    "    \"\"\"\n",
    "    Helper function - renders confusion matrix\n",
    "    \"\"\"\n",
    "    print(pd.crosstab(pd.Series(ytrue), pd.Series(ypred), rownames=['Actual'], colnames=['Predicted'], margins=True)) \n",
    "\n",
    "\n",
    "def TrainAndClassify_SVM(df_train, df_test):\n",
    "    \"\"\"\n",
    "    Trains the target classifier with the df_train DataFrame dataset and then \n",
    "    classifies df_test DataFrame dataset, compares the classification results to\n",
    "    the real labels and outputs the performance\n",
    "    \"\"\"    \n",
    "    \n",
    "    # Make sure there are no NaNs in the input\n",
    "    df_train = df_train.dropna(subset=['NOTE_TEXT'])\n",
    "    df_test = df_test.dropna(subset=['NOTE_TEXT'])\n",
    "    \n",
    "    \n",
    "    text_clf_pipeline = Pipeline([('vect', CountVectorizer()),\n",
    "                                  ('tfidf', TfidfTransformer()),\n",
    "                                  ('clf', SGDClassifier(loss='hinge', penalty='l2',alpha=0.002, n_iter=10, random_state=314)),\n",
    "                                 ])\n",
    "\n",
    "    # Fit a classifier to the training data\n",
    "    text_clf_pipeline.fit(df_train['NOTE_TEXT'].tolist(), df_train.CATEGORY.tolist())\n",
    "    \n",
    "    # Make predictions on the test data\n",
    "    predictions = text_clf_pipeline.predict(df_test['NOTE_TEXT'].tolist())\n",
    "    \n",
    "    # Render confusion matrix\n",
    "    RenderConfusionMatrix(df_test.CATEGORY.tolist(), predictions)\n",
    "    \n",
    "    # Output performance\n",
    "    print ()\n",
    "    print ('Accuracy: ', accuracy_score(df_test.CATEGORY.tolist(), predictions))\n",
    "    print ()\n",
    "    print (classification_report(df_test.CATEGORY.tolist(), predictions))"
   ]
  },
  {
   "cell_type": "markdown",
   "metadata": {},
   "source": [
    "# Create and explore an initial training set of 200 documents"
   ]
  },
  {
   "cell_type": "markdown",
   "metadata": {},
   "source": [
    "<img src=\"BASELINE.png\">"
   ]
  },
  {
   "cell_type": "code",
   "execution_count": 11,
   "metadata": {
    "collapsed": true
   },
   "outputs": [],
   "source": [
    "def ExploreData(df):\n",
    "    \"\"\"\n",
    "    Helper function - data exploration\n",
    "    \"\"\"\n",
    "    print ('Training data has: ', len(df.index), ' documents')\n",
    "    print (df.columns)\n",
    "    print ('The shape of the data is ', (df.shape))\n",
    "    plt.axis('equal')\n",
    "    plt.pie(\n",
    "        df.CATEGORY.value_counts().tolist(), \n",
    "        labels=['False', 'True'], \n",
    "        autopct='%1.1f%%', \n",
    "        colors=(\"#E13F29\", \"#D69A80\"));"
   ]
  },
  {
   "cell_type": "code",
   "execution_count": 12,
   "metadata": {
    "collapsed": false
   },
   "outputs": [],
   "source": [
    "K = 200 # Size of the initial training set\n",
    "L = 200  # The number of documents we will add to the dataset each active learning iteration\n"
   ]
  },
  {
   "cell_type": "code",
   "execution_count": 13,
   "metadata": {
    "collapsed": false
   },
   "outputs": [],
   "source": [
    "import random\n",
    "\n",
    "# Create empty data frame with the columns of the test set\n",
    "df_reserved_init_train_set = pd.DataFrame(columns=df_train.columns)\n",
    "\n",
    "# Sample K random indices\n",
    "random.seed(314)\n",
    "initial_indices = random.sample(range(0, len(df_train.index)), K)\n",
    "\n",
    "def MoveIndices(df_source, df_target, indices):\n",
    "    \"\"\"\n",
    "    Helper function - moves rows in the given indices from source to target\n",
    "    \"\"\"\n",
    "    # Add lines to target\n",
    "    df_target_new = df_target.append(df_source.ix[indices])\n",
    "    return df_target_new\n",
    "\n",
    "df_reserved_init_train_set = MoveIndices(df_train, df_reserved_init_train_set, initial_indices)  \n",
    "\n"
   ]
  },
  {
   "cell_type": "code",
   "execution_count": 14,
   "metadata": {
    "collapsed": false
   },
   "outputs": [
    {
     "name": "stdout",
     "output_type": "stream",
     "text": [
      "Training data has:  200  documents\n",
      "Index(['DOCID', 'NOTE_TEXT', 'CATEGORY'], dtype='object')\n",
      "The shape of the data is  (200, 3)\n"
     ]
    },
    {
     "data": {
      "image/png": "[encoded data removed]",
      "text/plain": [
       "<matplotlib.figure.Figure at 0x14ca39d2ef0>"
      ]
     },
     "metadata": {},
     "output_type": "display_data"
    }
   ],
   "source": [
    "ExploreData(df_reserved_init_train_set)"
   ]
  },
  {
   "cell_type": "markdown",
   "metadata": {},
   "source": [
    "# Train and Classify with the initial training "
   ]
  },
  {
   "cell_type": "code",
   "execution_count": 15,
   "metadata": {
    "collapsed": false
   },
   "outputs": [
    {
     "name": "stdout",
     "output_type": "stream",
     "text": [
      "Predicted  False  True   All\n",
      "Actual                      \n",
      "False       6255    87  6342\n",
      "True         790   511  1301\n",
      "All         7045   598  7643\n",
      "\n",
      "Accuracy:  0.885254481225\n",
      "\n",
      "             precision    recall  f1-score   support\n",
      "\n",
      "      False       0.89      0.99      0.93      6342\n",
      "       True       0.85      0.39      0.54      1301\n",
      "\n",
      "avg / total       0.88      0.89      0.87      7643\n",
      "\n"
     ]
    }
   ],
   "source": [
    "TrainAndClassify_SVM(df_reserved_init_train_set, df_test)"
   ]
  },
  {
   "cell_type": "markdown",
   "metadata": {},
   "source": [
    "# Baseline training set + L randomly selected  \n",
    "\n",
    "<img src=\"RANDOM.png\">"
   ]
  },
  {
   "cell_type": "code",
   "execution_count": 16,
   "metadata": {
    "collapsed": false
   },
   "outputs": [
    {
     "name": "stdout",
     "output_type": "stream",
     "text": [
      "Training data has:  400  documents\n",
      "Index(['DOCID', 'NOTE_TEXT', 'CATEGORY'], dtype='object')\n",
      "The shape of the data is  (400, 3)\n"
     ]
    },
    {
     "data": {
      "image/png": "[encoded data removed]",
      "text/plain": [
       "<matplotlib.figure.Figure at 0x14ca39ecbe0>"
      ]
     },
     "metadata": {},
     "output_type": "display_data"
    }
   ],
   "source": [
    "# Baseline training set + L randomly selected\n",
    "\n",
    "# Create a copy of the initial training set\n",
    "df_random_sample_train_set = df_reserved_init_train_set.copy(deep=True)\n",
    "\n",
    "L_random_indices = random.sample(range(0, len(df_train.index)), L)\n",
    "\n",
    "df_random_sample_train_set = MoveIndices(df_train, df_random_sample_train_set, L_random_indices)  \n",
    "\n",
    "ExploreData(df_random_sample_train_set)"
   ]
  },
  {
   "cell_type": "code",
   "execution_count": 17,
   "metadata": {
    "collapsed": false
   },
   "outputs": [
    {
     "name": "stdout",
     "output_type": "stream",
     "text": [
      "Predicted  False  True   All\n",
      "Actual                      \n",
      "False       6274    68  6342\n",
      "True         784   517  1301\n",
      "All         7058   585  7643\n",
      "\n",
      "Accuracy:  0.888525448122\n",
      "\n",
      "             precision    recall  f1-score   support\n",
      "\n",
      "      False       0.89      0.99      0.94      6342\n",
      "       True       0.88      0.40      0.55      1301\n",
      "\n",
      "avg / total       0.89      0.89      0.87      7643\n",
      "\n"
     ]
    }
   ],
   "source": [
    "TrainAndClassify_SVM(df_random_sample_train_set, df_test)"
   ]
  },
  {
   "cell_type": "markdown",
   "metadata": {},
   "source": [
    "# Results (so far) summary\n",
    "\n",
    "| Training set | Accuracy | True-recall | True-f1-score |        \n",
    "| ------------- | ------------- | ------------- | ------------- |\n",
    "| 200 randomly selected | 0.885 | 0.39 | 0.54 |\n",
    "| 200 randomly selected + 200 randomly selected | 0.888 | 0.40 | 0.55 |"
   ]
  },
  {
   "cell_type": "markdown",
   "metadata": {},
   "source": [
    "# Add samples to the training set using Active Learning\n",
    "\n",
    "\n",
    "<img src=\"ACTIVE.png\">"
   ]
  },
  {
   "cell_type": "code",
   "execution_count": 22,
   "metadata": {
    "collapsed": false
   },
   "outputs": [],
   "source": [
    "# Citation:: 'http://scikit-learn.org/stable/auto_examples/ensemble/plot_voting_probas.html' \n",
    "\n",
    "# Active Learning - Committee-Based Sampling\n",
    "\n",
    "import itertools\n",
    "from sklearn.linear_model import LogisticRegression\n",
    "from sklearn.naive_bayes import GaussianNB\n",
    "from sklearn.ensemble import RandomForestClassifier\n",
    "\n",
    "def ActiveLearn(df_train, df_candidates, L):\n",
    "    \"\"\"\n",
    "    Implementation of the Active Learning algorithm Committee-Based Sampling.\n",
    "    Selects the L most informative records from the labeled set df_candidates,\n",
    "    , copies them to df_train and returns the extended df_train\n",
    "    \"\"\"  \n",
    "    \n",
    "    # The classifiers in our Committee-of-classifiers\n",
    "    clf1 = LogisticRegression(random_state=123)\n",
    "    clf2 = RandomForestClassifier(random_state=123)\n",
    "    clf3 = GaussianNB()\n",
    "\n",
    "    # Extract the relevant data \n",
    "    X_train = df_train['NOTE_TEXT'].tolist()\n",
    "    Y_train = df_train.CATEGORY.tolist()\n",
    "    X_candidates = df_candidates['NOTE_TEXT'].tolist()\n",
    "    \n",
    "    # Convert from text to word counts\n",
    "    vectorizer = CountVectorizer(tokenizer=tokenize, ngram_range=(1,2))\n",
    "    wcounts_train = vectorizer.fit_transform(X_train)    \n",
    "    wcounts_candidates = vectorizer.transform(X_candidates)\n",
    "    \n",
    "    # Use each member in the Committee-of-classifiers to predict true/false probabilities\n",
    "    probas = [c.fit(wcounts_train.toarray(), Y_train).predict_proba(wcounts_candidates.toarray()) \n",
    "              for c in (clf1, clf2, clf3)]\n",
    "    \n",
    "    K = len(df_candidates.index)\n",
    "    \n",
    "    # For each record - calculate one value that represents the level of disagreement\n",
    "    # between all the members in the Committee-of-classifiers \n",
    "    np_doc_id_pr = np.empty((K,2), dtype=np.float64)\n",
    "    num_classifer_method = 3\n",
    "\n",
    "    for row_index in range(K):\n",
    "    \n",
    "        false_pr = 0.0\n",
    "        true_pr = 0.0\n",
    "        \n",
    "        # Measure the disagreement between the classifiers for true and false predictions \n",
    "        for x in list(itertools.combinations(range(3), 2)):\n",
    "            false_pr += abs(probas[x[0]][row_index][0] - probas[x[1]][row_index][0])\n",
    "            true_pr += abs(probas[x[0]][row_index][1] - probas[x[1]][row_index][1])\n",
    "        \n",
    "        # Calculate one disagreement value - \n",
    "        # True disagreement and falst disagreement\n",
    "        amortizeVotingClassifier = false_pr + true_pr\n",
    "\n",
    "        np_doc_id_pr[row_index][0] = row_index\n",
    "        np_doc_id_pr[row_index][1] = amortizeVotingClassifier\n",
    "    \n",
    "    tmp_np_array =  np_doc_id_pr[np_doc_id_pr[:,1].argsort()[::-1]]\n",
    "    \n",
    "    # Add to the training set the L samples with the highest values of disagreement\n",
    "    for i in range(L):\n",
    "        df_train = df_train.append(df_candidates.iloc[int(tmp_np_array[i][0])])\n",
    "    return df_train\n",
    "\n"
   ]
  },
  {
   "cell_type": "code",
   "execution_count": 23,
   "metadata": {
    "collapsed": true
   },
   "outputs": [],
   "source": [
    "# Create a copy of the initial training set\n",
    "df_active_learning_train_set = df_reserved_init_train_set.copy(deep=True)\n",
    "\n",
    "L_random_indices = random.sample(range(0, len(df_train.index)), L)\n"
   ]
  },
  {
   "cell_type": "code",
   "execution_count": 24,
   "metadata": {
    "collapsed": false
   },
   "outputs": [],
   "source": [
    "df_final_active_learning_dataset = ActiveLearn(df_active_learning_train_set,df_train, L)"
   ]
  },
  {
   "cell_type": "code",
   "execution_count": 25,
   "metadata": {
    "collapsed": false
   },
   "outputs": [
    {
     "name": "stdout",
     "output_type": "stream",
     "text": [
      "Training data has:  400  documents\n",
      "Index(['DOCID', 'NOTE_TEXT', 'CATEGORY'], dtype='object')\n",
      "The shape of the data is  (400, 3)\n"
     ]
    },
    {
     "data": {
      "image/png": "[encoded data removed]",
      "text/plain": [
       "<matplotlib.figure.Figure at 0x14ca4fee7f0>"
      ]
     },
     "metadata": {},
     "output_type": "display_data"
    }
   ],
   "source": [
    "ExploreData(df_final_active_learning_dataset)"
   ]
  },
  {
   "cell_type": "code",
   "execution_count": 26,
   "metadata": {
    "collapsed": false
   },
   "outputs": [
    {
     "name": "stdout",
     "output_type": "stream",
     "text": [
      "Predicted  False  True   All\n",
      "Actual                      \n",
      "False       6055   287  6342\n",
      "True         381   920  1301\n",
      "All         6436  1207  7643\n",
      "\n",
      "Accuracy:  0.91259976449\n",
      "\n",
      "             precision    recall  f1-score   support\n",
      "\n",
      "      False       0.94      0.95      0.95      6342\n",
      "       True       0.76      0.71      0.73      1301\n",
      "\n",
      "avg / total       0.91      0.91      0.91      7643\n",
      "\n"
     ]
    }
   ],
   "source": [
    "TrainAndClassify_SVM(df_final_active_learning_dataset, df_test)"
   ]
  },
  {
   "cell_type": "markdown",
   "metadata": {
    "collapsed": true
   },
   "source": [
    "# Results Summary\n",
    "\n",
    "| Training set | Accuracy | True-recall | True-f1-score |        \n",
    "| ------------- | ------------- | ------------- | ------------- |\n",
    "| 200 randomly selected | 0.885 | 0.39 | 0.54 |\n",
    "| 200 randomly selected + 200 randomly selected | 0.888 | 0.40 | 0.55 |\n",
    "| 200 randomly selected + 200 selected by Committee-Based Sampling| **0.912** | **0.71** | **0.73** |\n"
   ]
  },
  {
   "cell_type": "code",
   "execution_count": null,
   "metadata": {
    "collapsed": true
   },
   "outputs": [],
   "source": []
  }
 ],
 "metadata": {
  "anaconda-cloud": {},
  "kernelspec": {
   "display_name": "Python [Root]",
   "language": "python",
   "name": "Python [Root]"
  },
  "language_info": {
   "codemirror_mode": {
    "name": "ipython",
    "version": 3
   },
   "file_extension": ".py",
   "mimetype": "text/x-python",
   "name": "python",
   "nbconvert_exporter": "python",
   "pygments_lexer": "ipython3",
   "version": "3.5.2"
  }
 },
 "nbformat": 4,
 "nbformat_minor": 0
}
