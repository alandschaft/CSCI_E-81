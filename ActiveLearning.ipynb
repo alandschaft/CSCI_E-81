{
 "cells": [
  {
   "cell_type": "markdown",
   "metadata": {
    "slideshow": {
     "slide_type": "-"
    }
   },
   "source": [
    "# Active Learning - Committee-Based Sampling\n",
    "\n",
    "The purpose of this notebook is to demonstrate the Active Learning technique: Committee-Based Sampling.\n",
    "\n",
    "The notebook has been developed by Assaf Landschaft and Bernard Mcshea for the \"in class paper presentation\" for the course \"CSCI E-81 Section 2 2016\" in Harvard Extension School."
   ]
  },
  {
   "cell_type": "markdown",
   "metadata": {},
   "source": [
    "## What is Active Learning\n",
    "\n",
    "The goal of active learning is to minimize annotation costs. In other words – to minimize the costs of creating sufficient training data for a supervised learning algorithm. The standard approach to supervised learning is to acquire a large random sample of training instances to be labeled before any learning begins. When labeling costs are high, Active Learning algorithms are used to select the most informative unlabeled instances so only those will be annotated.\n"
   ]
  },
  {
   "cell_type": "markdown",
   "metadata": {},
   "source": [
    "## Standard imports and settings"
   ]
  },
  {
   "cell_type": "code",
   "execution_count": 2,
   "metadata": {
    "collapsed": false
   },
   "outputs": [],
   "source": [
    "%matplotlib inline\n",
    "import matplotlib as mpl\n",
    "mpl.rcParams['font.size'] = 16.0\n",
    "import matplotlib.pyplot as plt\n",
    "import numpy as np\n",
    "import pandas as pd            # process data with pandas dataframe\n",
    "pd.set_option('display.width', 500)\n",
    "pd.set_option('display.max_columns', 100)\n",
    "pd.set_option('display.notebook_repr_html', True)\n",
    "import seaborn as sns\n",
    "sns.set_style(\"whitegrid\")\n",
    "sns.set_context(\"poster\")\n",
    "import time\n",
    "import os"
   ]
  },
  {
   "cell_type": "markdown",
   "metadata": {},
   "source": [
    "# The data \n",
    "\n",
    "The **Ohsumed** test collection (available at <ftp://medir.ohsu.edu/pub/ohsumed>) is a subset of the MEDLINE database, which is a bibliographic database of important, peer-reviewed medical literature maintained by the National Library of Medicine. The initial subset I consider in the project is the collection consisting of the first 20,000 documents from the 50,216 medical abstracts of the year 1991. The classification scheme consists of the 23 Medical Subject Headings (MeSH) categories of cardiovascular diseases group: \n",
    "\n",
    "| Category      | Description   |        \n",
    "| ------------- | ------------- |\n",
    "| C01 | Bacterial Infections and Mycoses |\n",
    "| C02 | Virus Diseases |\n",
    "| C03 | Parasitic Diseases |\n",
    "| C04 | Neoplasms |\n",
    "| C05 | Musculoskeletal Diseases |\n",
    "| C06 | Digestive System Diseases |\n",
    "| C07 | Stomatognathic Diseases |\n",
    "| C08 | Respiratory Tract Diseases |\n",
    "| C09 | Otorhinolaryngologic Diseases |\n",
    "| C10 | Nervous System Diseases |\n",
    "| C11 | Eye Diseases |\n",
    "| C12 | Urologic and Male Genital Diseases |\n",
    "| C13 | Female Genital Diseases and Pregnancy Complications |\n",
    "| C14 | Cardiovascular Diseases |\n",
    "| C15 | Hemic and Lymphatic Diseases |\n",
    "| C16 | Neonatal Diseases and Abnormalities |\n",
    "| C17 | Skin and Connective Tissue Diseases |\n",
    "| C18 | Nutritional and Metabolic Diseases |\n",
    "| C19 | Endocrine Diseases |\n",
    "| C20 | Immunologic Diseases |\n",
    "| C21 | Disorders of Environmental Origin |\n",
    "| C22 | Animal Diseases |\n",
    "| C23 | Pathological Conditions, Signs and Symptoms |\n",
    "\n",
    "\n",
    "## Downloading the data:\n",
    "\n",
    "* [Cardiovascular diseases abstracts](http://disi.unitn.it/moschitti/corpora/ohsumed-first-20000-docs.tar.gz) (the first 20,000 abstracts of the year 1991)\n",
    "\n",
    "** The following code assumes that the data is extracted into folder with the name 'Data' in the same folder of the IPython notebook**\n",
    "\n",
    "## Storing the data in a sql database\n",
    "\n",
    "The following code iterates over the extracted data and converts the ohsumed directory structure to a single sqlite databse with the data. The original dataset is already divided to Test and Training datasets. We will keep this division."
   ]
  },
  {
   "cell_type": "code",
   "execution_count": 3,
   "metadata": {
    "collapsed": false
   },
   "outputs": [],
   "source": [
    "import sqlite3 as sqlite\n",
    "\n",
    "def get_all_tables(c):\n",
    "    \"\"\"\n",
    "    Helper function - Gets a list of all the tables in the database.\n",
    "    \"\"\"\n",
    "    all_tables = []\n",
    "    c.execute('SELECT name FROM SQLITE_MASTER WHERE type = \"table\"')\n",
    "    for tbl in c:\n",
    "        all_tables.append(tbl[0])\n",
    "    return all_tables\n",
    "\n",
    "def drop_tables(c, tables):\n",
    "    \"\"\"\n",
    "    Helper function - Checks that the specified tables exist, and for those that do, drop them.\n",
    "    \"\"\"\n",
    "    all_tables = get_all_tables(c)\n",
    "    for t in tables:\n",
    "        if t in all_tables:\n",
    "            c.execute('DROP TABLE %s' % t)\n",
    "\n",
    "def create_documents_table(c):\n",
    "    \"\"\"\n",
    "    Helper function - This function uses SQL to create the Documents table\n",
    "    \"\"\"\n",
    "    drop_tables(c, [ 'Documents' ])\n",
    "    c.execute(\"\"\"CREATE TABLE Documents ( \n",
    "            DOCID TEXT PRIMARY KEY,\n",
    "            NOTE_TEXT TEXT, \n",
    "            CATEGORY TEXT\n",
    "        )\"\"\")\n",
    "\n",
    "def add_document(c, docid, text, category):\n",
    "    \"\"\"\n",
    "    Helper function - Adds one document to sql Documents database\n",
    "    \"\"\"\n",
    "    c.execute('insert or replace into Documents values ( ?, ?, ? )', (docid, text, category))\n",
    "\n",
    "def ohsumed2sqlite(src_root_dir, dest_sqlite):\n",
    "    start_time = time.time()\n",
    "    print ('Converting ohsumed directory structure {0} to sqlite database'.format(src_root_dir))\n",
    "\n",
    "    conn_out = sqlite.connect(dest_sqlite)\n",
    "    c_out = conn_out.cursor()\n",
    "\n",
    "    fout = open(dest_sqlite, 'w')\n",
    "    fout.close()\n",
    "\n",
    "    create_documents_table(c_out)\n",
    "    # Process the ohsumed directory\n",
    "    dict = {}\n",
    "    for root, dirs, files in os.walk(src_root_dir):\n",
    "        for f in files:\n",
    "            category = os.path.basename(root) # directory name is the category\n",
    "            with open (os.path.join(root, f), \"r\") as cur_file:\n",
    "                data=cur_file.read()\n",
    "                if f in dict:\n",
    "                    category = dict[f] + ',' + category\n",
    "                dict[f] = category\n",
    "                add_document(c_out, f, data, category)\n",
    "    conn_out.commit()\n",
    "    c_out.close()\n",
    "    print(\"--- ohsumed2sqlite %s seconds ---\" % (time.time() - start_time))"
   ]
  },
  {
   "cell_type": "code",
   "execution_count": 4,
   "metadata": {
    "collapsed": false
   },
   "outputs": [
    {
     "name": "stdout",
     "output_type": "stream",
     "text": [
      "Converting ohsumed directory structure .\\Data\\ohsumed-first-20000-docs\\training to sqlite database\n",
      "--- ohsumed2sqlite 18.718414545059204 seconds ---\n",
      "Converting ohsumed directory structure .\\Data\\ohsumed-first-20000-docs\\test to sqlite database\n",
      "--- ohsumed2sqlite 23.18361735343933 seconds ---\n"
     ]
    }
   ],
   "source": [
    "# Convert the training data\n",
    "ohsumed2sqlite('.\\\\Data\\\\ohsumed-first-20000-docs\\\\training', 'training.sqlite')\n",
    "\n",
    "# Convert the test data\n",
    "ohsumed2sqlite('.\\\\Data\\\\ohsumed-first-20000-docs\\\\test', 'test.sqlite')"
   ]
  },
  {
   "cell_type": "markdown",
   "metadata": {},
   "source": [
    "## Data exploration and preparation \n",
    "\n"
   ]
  },
  {
   "cell_type": "markdown",
   "metadata": {},
   "source": [
    "### Read the data from the sqlite databases into Pandas dataframes"
   ]
  },
  {
   "cell_type": "code",
   "execution_count": 5,
   "metadata": {
    "collapsed": false
   },
   "outputs": [],
   "source": [
    "con = sqlite.connect('training.sqlite')\n",
    "\n",
    "df_train = pd.read_sql_query(\"SELECT * from Documents\", con)\n",
    "\n",
    "con.close()\n",
    "\n",
    "con = sqlite.connect('test.sqlite')\n",
    "\n",
    "df_test = pd.read_sql_query(\"SELECT * from Documents\", con)\n",
    "\n",
    "con.close()\n"
   ]
  },
  {
   "cell_type": "markdown",
   "metadata": {},
   "source": [
    "### Output a random sample of 20 records"
   ]
  },
  {
   "cell_type": "code",
   "execution_count": 6,
   "metadata": {
    "collapsed": false,
    "scrolled": true
   },
   "outputs": [
    {
     "data": {
      "text/html": [
       "<div>\n",
       "<table border=\"1\" class=\"dataframe\">\n",
       "  <thead>\n",
       "    <tr style=\"text-align: right;\">\n",
       "      <th></th>\n",
       "      <th>DOCID</th>\n",
       "      <th>NOTE_TEXT</th>\n",
       "      <th>CATEGORY</th>\n",
       "    </tr>\n",
       "  </thead>\n",
       "  <tbody>\n",
       "    <tr>\n",
       "      <th>3462</th>\n",
       "      <td>0003032</td>\n",
       "      <td>The operative management of coexisting thyroid and parathyroid disease.\\n Three hundred eight patients who underwent operation for hyperparathyroidism were studied.\\n Fifty-two (17%) were identifi...</td>\n",
       "      <td>C04,C19</td>\n",
       "    </tr>\n",
       "    <tr>\n",
       "      <th>2216</th>\n",
       "      <td>0002938</td>\n",
       "      <td>Intraoperative ultrasonic imaging of the ascending aorta in ischemic heart disease.\\n In an attempt to locate any atherosclerotic lesion in the ascending aorta and to prevent embolization, intraop...</td>\n",
       "      <td>C10,C14</td>\n",
       "    </tr>\n",
       "    <tr>\n",
       "      <th>2254</th>\n",
       "      <td>0003155</td>\n",
       "      <td>Increase of calmodulin activator in hypertension. Modulation by dietary sodium and calcium.\\n The aim of this study was to investigate the effects of dietary calcium and sodium on blood pressure (...</td>\n",
       "      <td>C14</td>\n",
       "    </tr>\n",
       "    <tr>\n",
       "      <th>1821</th>\n",
       "      <td>0009426</td>\n",
       "      <td>Shortening of the hemodialysis procedure and mortality in \"healthy\" dialysis patients.\\n The influence of shortening chronic hemodialysis on mortality was studied by following cumulative survival ...</td>\n",
       "      <td>C12</td>\n",
       "    </tr>\n",
       "    <tr>\n",
       "      <th>4616</th>\n",
       "      <td>0000765</td>\n",
       "      <td>Lumbar intervertebral disc prolapse in teenage twins. A case report and review of the literature.\\n We report the cases of teenage twin girls presenting within months of each other with severe sym...</td>\n",
       "      <td>C05,C23</td>\n",
       "    </tr>\n",
       "    <tr>\n",
       "      <th>40</th>\n",
       "      <td>0004625</td>\n",
       "      <td>Monoclonal antibody to mouse lipopolysaccharide receptor protects mice against the lethal effects of endotoxin.\\n Specific endotoxic lipopolysaccharide (LPS) binding sites on the cell membranes of...</td>\n",
       "      <td>C01</td>\n",
       "    </tr>\n",
       "    <tr>\n",
       "      <th>3948</th>\n",
       "      <td>0009138</td>\n",
       "      <td>Cardiovascular anomalies associated with prenatal exposure to theophylline.\\n Theophylline has been shown to be a potent cardiovascular teratogen in animals, but there has been no evidence linking...</td>\n",
       "      <td>C13,C16,C20</td>\n",
       "    </tr>\n",
       "    <tr>\n",
       "      <th>1842</th>\n",
       "      <td>0009576</td>\n",
       "      <td>One year of rHuEPO therapy prolongs RBC survival and may stabilize RBC membranes despite natural progression of chronic renal failure to uremia and need for dialysis.\\n rHuEPO was administered to ...</td>\n",
       "      <td>C12</td>\n",
       "    </tr>\n",
       "    <tr>\n",
       "      <th>2155</th>\n",
       "      <td>0002348</td>\n",
       "      <td>Percutaneous excimer laser coronary angioplasty.\\n To determine the efficacy of percutaneous excimer laser coronary angioplasty as an adjunct or alternative to conventional balloon angioplasty, 55...</td>\n",
       "      <td>C14</td>\n",
       "    </tr>\n",
       "    <tr>\n",
       "      <th>1877</th>\n",
       "      <td>0002521</td>\n",
       "      <td>Contraception and ectopic pregnancy risk.\\n Studies of the association of ectopic pregnancy with contraception have generated a conflicting array of results because of methodologic differences bet...</td>\n",
       "      <td>C13</td>\n",
       "    </tr>\n",
       "    <tr>\n",
       "      <th>4318</th>\n",
       "      <td>0007554</td>\n",
       "      <td>Flumazenil: a benzodiazepine antagonist.\\n Although benzodiazepines have been proven safe and effective for the induction and maintenance of sedation, some instances require the reversal of these ...</td>\n",
       "      <td>C21</td>\n",
       "    </tr>\n",
       "    <tr>\n",
       "      <th>5454</th>\n",
       "      <td>0006063</td>\n",
       "      <td>High or low hepaticojejunostomy for bile duct strictures?\\n The 19 patients who underwent 22 postoperative repairs of bile duct stricture in our institution between 1973 and 1984 were evaluated to...</td>\n",
       "      <td>C06,C23</td>\n",
       "    </tr>\n",
       "    <tr>\n",
       "      <th>2673</th>\n",
       "      <td>0009132</td>\n",
       "      <td>Apical hypertrophic cardiomyopathy in a non-Oriental man.\\n Japanese investigators first described apical HCM in 2.9% of patients who had diagnostic left ventricular catheterization for suspected ...</td>\n",
       "      <td>C14</td>\n",
       "    </tr>\n",
       "    <tr>\n",
       "      <th>5303</th>\n",
       "      <td>0005278</td>\n",
       "      <td>Infective dermatitis of Jamaican children: a marker for HTLV-I infection \\n In Jamaican children infective dermatitis is a chronic eczema associated with refractory nonvirulent Staphylococcus aure...</td>\n",
       "      <td>C01,C17,C20,C23</td>\n",
       "    </tr>\n",
       "    <tr>\n",
       "      <th>2282</th>\n",
       "      <td>0003488</td>\n",
       "      <td>Enhanced alpha 1-adrenergic responsiveness in cardiomyopathic hamster cardiac myocytes. Relation to the expression of pertussis toxin-sensitive G protein and alpha 1-adrenergic receptors.\\n The pa...</td>\n",
       "      <td>C14</td>\n",
       "    </tr>\n",
       "    <tr>\n",
       "      <th>4055</th>\n",
       "      <td>0002416</td>\n",
       "      <td>Accidental death from a black-powder rifle breech plug.\\n Authentic black-powder muzzle-loader weapons and replicas are used today primarily for hunting game such as deer and hogs.\\n The following...</td>\n",
       "      <td>C10,C21</td>\n",
       "    </tr>\n",
       "    <tr>\n",
       "      <th>705</th>\n",
       "      <td>0000359</td>\n",
       "      <td>Prospective trial comparing a combination pH probe-nasogastric tube with aspirated gastric pH in intensive care unit patients.\\n Upper GI bleeding related to stress ulcer syndrome is estimated to ...</td>\n",
       "      <td>C06</td>\n",
       "    </tr>\n",
       "    <tr>\n",
       "      <th>5671</th>\n",
       "      <td>0006929</td>\n",
       "      <td>Hyperammonemic encephalopathy in urinary diversion with urea-splitting urinary tract infection.\\n We present two cases of hyperammonemic encephalopathy secondary to urea-splitting urinary tract in...</td>\n",
       "      <td>C12,C18,C23</td>\n",
       "    </tr>\n",
       "    <tr>\n",
       "      <th>2175</th>\n",
       "      <td>0002459</td>\n",
       "      <td>Systolic hypertension in the elderly: reasons not to treat.\\n Isolated systolic hypertension in the elderly is associated with increased morbidity and mortality.\\n Accurate measurement of blood pr...</td>\n",
       "      <td>C14</td>\n",
       "    </tr>\n",
       "    <tr>\n",
       "      <th>815</th>\n",
       "      <td>0004207</td>\n",
       "      <td>Left retroperitoneal exposure for distal mesenteric artery repair.\\n Distal disease in the mesenteric arteries has usually been repaired transabdominally since it is believed that only the proxima...</td>\n",
       "      <td>C06</td>\n",
       "    </tr>\n",
       "  </tbody>\n",
       "</table>\n",
       "</div>"
      ],
      "text/plain": [
       "        DOCID                                                                                                                                                                                                NOTE_TEXT         CATEGORY\n",
       "3462  0003032  The operative management of coexisting thyroid and parathyroid disease.\\n Three hundred eight patients who underwent operation for hyperparathyroidism were studied.\\n Fifty-two (17%) were identifi...          C04,C19\n",
       "2216  0002938  Intraoperative ultrasonic imaging of the ascending aorta in ischemic heart disease.\\n In an attempt to locate any atherosclerotic lesion in the ascending aorta and to prevent embolization, intraop...          C10,C14\n",
       "2254  0003155  Increase of calmodulin activator in hypertension. Modulation by dietary sodium and calcium.\\n The aim of this study was to investigate the effects of dietary calcium and sodium on blood pressure (...              C14\n",
       "1821  0009426  Shortening of the hemodialysis procedure and mortality in \"healthy\" dialysis patients.\\n The influence of shortening chronic hemodialysis on mortality was studied by following cumulative survival ...              C12\n",
       "4616  0000765  Lumbar intervertebral disc prolapse in teenage twins. A case report and review of the literature.\\n We report the cases of teenage twin girls presenting within months of each other with severe sym...          C05,C23\n",
       "40    0004625  Monoclonal antibody to mouse lipopolysaccharide receptor protects mice against the lethal effects of endotoxin.\\n Specific endotoxic lipopolysaccharide (LPS) binding sites on the cell membranes of...              C01\n",
       "3948  0009138  Cardiovascular anomalies associated with prenatal exposure to theophylline.\\n Theophylline has been shown to be a potent cardiovascular teratogen in animals, but there has been no evidence linking...      C13,C16,C20\n",
       "1842  0009576  One year of rHuEPO therapy prolongs RBC survival and may stabilize RBC membranes despite natural progression of chronic renal failure to uremia and need for dialysis.\\n rHuEPO was administered to ...              C12\n",
       "2155  0002348  Percutaneous excimer laser coronary angioplasty.\\n To determine the efficacy of percutaneous excimer laser coronary angioplasty as an adjunct or alternative to conventional balloon angioplasty, 55...              C14\n",
       "1877  0002521  Contraception and ectopic pregnancy risk.\\n Studies of the association of ectopic pregnancy with contraception have generated a conflicting array of results because of methodologic differences bet...              C13\n",
       "4318  0007554  Flumazenil: a benzodiazepine antagonist.\\n Although benzodiazepines have been proven safe and effective for the induction and maintenance of sedation, some instances require the reversal of these ...              C21\n",
       "5454  0006063  High or low hepaticojejunostomy for bile duct strictures?\\n The 19 patients who underwent 22 postoperative repairs of bile duct stricture in our institution between 1973 and 1984 were evaluated to...          C06,C23\n",
       "2673  0009132  Apical hypertrophic cardiomyopathy in a non-Oriental man.\\n Japanese investigators first described apical HCM in 2.9% of patients who had diagnostic left ventricular catheterization for suspected ...              C14\n",
       "5303  0005278  Infective dermatitis of Jamaican children: a marker for HTLV-I infection \\n In Jamaican children infective dermatitis is a chronic eczema associated with refractory nonvirulent Staphylococcus aure...  C01,C17,C20,C23\n",
       "2282  0003488  Enhanced alpha 1-adrenergic responsiveness in cardiomyopathic hamster cardiac myocytes. Relation to the expression of pertussis toxin-sensitive G protein and alpha 1-adrenergic receptors.\\n The pa...              C14\n",
       "4055  0002416  Accidental death from a black-powder rifle breech plug.\\n Authentic black-powder muzzle-loader weapons and replicas are used today primarily for hunting game such as deer and hogs.\\n The following...          C10,C21\n",
       "705   0000359  Prospective trial comparing a combination pH probe-nasogastric tube with aspirated gastric pH in intensive care unit patients.\\n Upper GI bleeding related to stress ulcer syndrome is estimated to ...              C06\n",
       "5671  0006929  Hyperammonemic encephalopathy in urinary diversion with urea-splitting urinary tract infection.\\n We present two cases of hyperammonemic encephalopathy secondary to urea-splitting urinary tract in...      C12,C18,C23\n",
       "2175  0002459  Systolic hypertension in the elderly: reasons not to treat.\\n Isolated systolic hypertension in the elderly is associated with increased morbidity and mortality.\\n Accurate measurement of blood pr...              C14\n",
       "815   0004207  Left retroperitoneal exposure for distal mesenteric artery repair.\\n Distal disease in the mesenteric arteries has usually been repaired transabdominally since it is believed that only the proxima...              C06"
      ]
     },
     "execution_count": 6,
     "metadata": {},
     "output_type": "execute_result"
    }
   ],
   "source": [
    "pd.options.display.max_colwidth = 200\n",
    "\n",
    "df_train.sample(20)"
   ]
  },
  {
   "cell_type": "markdown",
   "metadata": {},
   "source": [
    "### Creating binary classification dataset\n",
    "\n",
    "** As we see, each document is assigned one class or more. ** In this exercise I would like to implement a simple binary classification workflow, so I define 2 binary classes:\n",
    "* **Positive / True** - Documents that belong to class **C14 - Cardiovascular Diseases**\n",
    "* **Negative / False** - Documents that do not belong to C14\n",
    "\n",
    "The following code converts that data to a binary classification dataset:\n"
   ]
  },
  {
   "cell_type": "code",
   "execution_count": 7,
   "metadata": {
    "collapsed": false
   },
   "outputs": [],
   "source": [
    "import re\n",
    "\n",
    "def ConvertCategoryColToBinVal(df, poscat):\n",
    "    df['CATEGORY'] = df['CATEGORY'].apply(lambda x: bool(re.search(poscat, x, re.IGNORECASE) and True))\n",
    "    \n",
    "ConvertCategoryColToBinVal(df_train, 'C14')\n",
    "\n",
    "ConvertCategoryColToBinVal(df_test, 'C14')"
   ]
  },
  {
   "cell_type": "markdown",
   "metadata": {},
   "source": [
    "Let's take another look at the data:"
   ]
  },
  {
   "cell_type": "code",
   "execution_count": 8,
   "metadata": {
    "collapsed": false
   },
   "outputs": [
    {
     "data": {
      "text/html": [
       "<div>\n",
       "<table border=\"1\" class=\"dataframe\">\n",
       "  <thead>\n",
       "    <tr style=\"text-align: right;\">\n",
       "      <th></th>\n",
       "      <th>DOCID</th>\n",
       "      <th>NOTE_TEXT</th>\n",
       "      <th>CATEGORY</th>\n",
       "    </tr>\n",
       "  </thead>\n",
       "  <tbody>\n",
       "    <tr>\n",
       "      <th>551</th>\n",
       "      <td>0008799</td>\n",
       "      <td>Immunohistochemical differentiation of basal cell epithelioma from cutaneous appendages using monoclonal anti-glycoprotein antibody TNKH1. Its application in Mohs' micrographic surgery.\\n TNKH1, w...</td>\n",
       "      <td>False</td>\n",
       "    </tr>\n",
       "    <tr>\n",
       "      <th>4911</th>\n",
       "      <td>0003175</td>\n",
       "      <td>Cardiac arrhythmias from a malpositioned Greenfield filter in a traumatic quadriplegic.\\n A case study is presented of premature Greenfield filter discharge with intracardiac migration and resulti...</td>\n",
       "      <td>True</td>\n",
       "    </tr>\n",
       "    <tr>\n",
       "      <th>4145</th>\n",
       "      <td>0003819</td>\n",
       "      <td>Electrolyte abnormalities in the alcoholic patient.\\n The acute effect of ethyl alcohol ingestion is to induce diuresis with excretion of free water and preservation of electrolytes.\\n This occurs...</td>\n",
       "      <td>False</td>\n",
       "    </tr>\n",
       "    <tr>\n",
       "      <th>3822</th>\n",
       "      <td>0006720</td>\n",
       "      <td>Formoterol, a new inhaled beta-2 adrenergic agonist, has a longer blocking effect than albuterol on hyperventilation-induced bronchoconstriction.\\n The duration of effect of inhaled formoterol (24...</td>\n",
       "      <td>False</td>\n",
       "    </tr>\n",
       "    <tr>\n",
       "      <th>3385</th>\n",
       "      <td>0008432</td>\n",
       "      <td>Lovastatin decreases coenzyme Q levels in humans.\\n Lovastatin is clinically used to treat patients with hypercholesterolemia and successfully lowers cholesterol levels.\\n The mechanism of action ...</td>\n",
       "      <td>True</td>\n",
       "    </tr>\n",
       "    <tr>\n",
       "      <th>1835</th>\n",
       "      <td>0009521</td>\n",
       "      <td>A prospective randomized evaluation of chronic peritoneal catheters. Insertion site and intraperitoneal segment.\\n The insertion site (midline or through the lateral rectus muscle) and type of chr...</td>\n",
       "      <td>False</td>\n",
       "    </tr>\n",
       "    <tr>\n",
       "      <th>1165</th>\n",
       "      <td>0008657</td>\n",
       "      <td>Ventilator dependency in the United Kingdom.\\n There are 24 children who are currently long term ventilator dependent in the UK.\\n Nine of these are cared for entirely at home.\\n An additional 11 ...</td>\n",
       "      <td>False</td>\n",
       "    </tr>\n",
       "    <tr>\n",
       "      <th>904</th>\n",
       "      <td>0008464</td>\n",
       "      <td>Congenital biliary tract disease.\\n Jaundice in the pediatric patient requires prompt and directed evaluation.\\n This dictum is highlighted in infants with biliary atresia, in whom the progressive...</td>\n",
       "      <td>False</td>\n",
       "    </tr>\n",
       "    <tr>\n",
       "      <th>6076</th>\n",
       "      <td>0008969</td>\n",
       "      <td>Induction of RNA-stabilized DNA conformers by transcription of an immunoglobulin switch region \\n A deletion DNA rearrangement is associated with immunoglobulin class switching from IgM to IgG, Ig...</td>\n",
       "      <td>False</td>\n",
       "    </tr>\n",
       "    <tr>\n",
       "      <th>1325</th>\n",
       "      <td>0003893</td>\n",
       "      <td>Efficacy and safety of vagus nerve stimulation in patients with complex partial seizures.\\n A clinical trial of chronic intermittent vagal stimulation in five patients suggests that the procedure ...</td>\n",
       "      <td>False</td>\n",
       "    </tr>\n",
       "    <tr>\n",
       "      <th>617</th>\n",
       "      <td>0000896</td>\n",
       "      <td>The restorative and surgical technique for the full maxillary subperiosteal implant.\\n The edentulous atrophic maxilla represents one of the most challenging implant restorative opportunities.\\n W...</td>\n",
       "      <td>False</td>\n",
       "    </tr>\n",
       "    <tr>\n",
       "      <th>1320</th>\n",
       "      <td>0003656</td>\n",
       "      <td>Cemented and ingrowth fixation of the Miller-Galante prosthesis. Clinical and roentgenographic comparison after three- to six-year follow-up studies.\\n One hundred thirty-nine cemented and 132 cem...</td>\n",
       "      <td>False</td>\n",
       "    </tr>\n",
       "    <tr>\n",
       "      <th>2022</th>\n",
       "      <td>0000039</td>\n",
       "      <td>Flow patterns in dilated cardiomyopathy: a pulsed-wave and color flow Doppler study.\\n In 48 patients with dilated cardiomyopathy, pulsed-wave and color Doppler examination were performed.\\n In ad...</td>\n",
       "      <td>True</td>\n",
       "    </tr>\n",
       "    <tr>\n",
       "      <th>1821</th>\n",
       "      <td>0009426</td>\n",
       "      <td>Shortening of the hemodialysis procedure and mortality in \"healthy\" dialysis patients.\\n The influence of shortening chronic hemodialysis on mortality was studied by following cumulative survival ...</td>\n",
       "      <td>False</td>\n",
       "    </tr>\n",
       "    <tr>\n",
       "      <th>5275</th>\n",
       "      <td>0005132</td>\n",
       "      <td>Femur fracture with limb shortening causing occlusion of a polytetrafluoroethylene femoral popliteal graft.\\n Traumatic occlusion of lower extremity polytetrafluoroethylene arterial grafts is exce...</td>\n",
       "      <td>True</td>\n",
       "    </tr>\n",
       "    <tr>\n",
       "      <th>1123</th>\n",
       "      <td>0007059</td>\n",
       "      <td>Metastasizing pleomorphic adenoma of the nasal septum.\\n Pleomorphic adenoma is the most common benign tumor of glandular tissue occurring in the head and neck region.\\n There have been several re...</td>\n",
       "      <td>False</td>\n",
       "    </tr>\n",
       "    <tr>\n",
       "      <th>4144</th>\n",
       "      <td>0003818</td>\n",
       "      <td>Alcoholic ketoacidosis.\\n Alcoholic ketoacidosis is characterized by a metabolic acidosis with an elevated anion gap.\\n It generally is seen in the chronic alcoholic patient who has recently gone ...</td>\n",
       "      <td>False</td>\n",
       "    </tr>\n",
       "    <tr>\n",
       "      <th>2463</th>\n",
       "      <td>0006214</td>\n",
       "      <td>Timing and triggers of transient myocardial ischemia.\\n Use of exercise tolerance testing and new techniques of ambulatory electrocardiographic monitoring to more objectively measure myocardial is...</td>\n",
       "      <td>True</td>\n",
       "    </tr>\n",
       "    <tr>\n",
       "      <th>5019</th>\n",
       "      <td>0003633</td>\n",
       "      <td>Humeral head retroversion in patients with unstable humeroscapular joints.\\n Humeral head retroversion and shoulder rotation in both the frontal and scapular plane were studied in 34 patients with...</td>\n",
       "      <td>False</td>\n",
       "    </tr>\n",
       "    <tr>\n",
       "      <th>1747</th>\n",
       "      <td>0005120</td>\n",
       "      <td>Cell injury associated calcium oxalate crystalluria.\\n Renal tubular cell damage, resulting in membranuria, was induced by the administration of subcutaneous gentamicin to male Sprague-Dawley rats...</td>\n",
       "      <td>False</td>\n",
       "    </tr>\n",
       "  </tbody>\n",
       "</table>\n",
       "</div>"
      ],
      "text/plain": [
       "        DOCID                                                                                                                                                                                                NOTE_TEXT CATEGORY\n",
       "551   0008799  Immunohistochemical differentiation of basal cell epithelioma from cutaneous appendages using monoclonal anti-glycoprotein antibody TNKH1. Its application in Mohs' micrographic surgery.\\n TNKH1, w...    False\n",
       "4911  0003175  Cardiac arrhythmias from a malpositioned Greenfield filter in a traumatic quadriplegic.\\n A case study is presented of premature Greenfield filter discharge with intracardiac migration and resulti...     True\n",
       "4145  0003819  Electrolyte abnormalities in the alcoholic patient.\\n The acute effect of ethyl alcohol ingestion is to induce diuresis with excretion of free water and preservation of electrolytes.\\n This occurs...    False\n",
       "3822  0006720  Formoterol, a new inhaled beta-2 adrenergic agonist, has a longer blocking effect than albuterol on hyperventilation-induced bronchoconstriction.\\n The duration of effect of inhaled formoterol (24...    False\n",
       "3385  0008432  Lovastatin decreases coenzyme Q levels in humans.\\n Lovastatin is clinically used to treat patients with hypercholesterolemia and successfully lowers cholesterol levels.\\n The mechanism of action ...     True\n",
       "1835  0009521  A prospective randomized evaluation of chronic peritoneal catheters. Insertion site and intraperitoneal segment.\\n The insertion site (midline or through the lateral rectus muscle) and type of chr...    False\n",
       "1165  0008657  Ventilator dependency in the United Kingdom.\\n There are 24 children who are currently long term ventilator dependent in the UK.\\n Nine of these are cared for entirely at home.\\n An additional 11 ...    False\n",
       "904   0008464  Congenital biliary tract disease.\\n Jaundice in the pediatric patient requires prompt and directed evaluation.\\n This dictum is highlighted in infants with biliary atresia, in whom the progressive...    False\n",
       "6076  0008969  Induction of RNA-stabilized DNA conformers by transcription of an immunoglobulin switch region \\n A deletion DNA rearrangement is associated with immunoglobulin class switching from IgM to IgG, Ig...    False\n",
       "1325  0003893  Efficacy and safety of vagus nerve stimulation in patients with complex partial seizures.\\n A clinical trial of chronic intermittent vagal stimulation in five patients suggests that the procedure ...    False\n",
       "617   0000896  The restorative and surgical technique for the full maxillary subperiosteal implant.\\n The edentulous atrophic maxilla represents one of the most challenging implant restorative opportunities.\\n W...    False\n",
       "1320  0003656  Cemented and ingrowth fixation of the Miller-Galante prosthesis. Clinical and roentgenographic comparison after three- to six-year follow-up studies.\\n One hundred thirty-nine cemented and 132 cem...    False\n",
       "2022  0000039  Flow patterns in dilated cardiomyopathy: a pulsed-wave and color flow Doppler study.\\n In 48 patients with dilated cardiomyopathy, pulsed-wave and color Doppler examination were performed.\\n In ad...     True\n",
       "1821  0009426  Shortening of the hemodialysis procedure and mortality in \"healthy\" dialysis patients.\\n The influence of shortening chronic hemodialysis on mortality was studied by following cumulative survival ...    False\n",
       "5275  0005132  Femur fracture with limb shortening causing occlusion of a polytetrafluoroethylene femoral popliteal graft.\\n Traumatic occlusion of lower extremity polytetrafluoroethylene arterial grafts is exce...     True\n",
       "1123  0007059  Metastasizing pleomorphic adenoma of the nasal septum.\\n Pleomorphic adenoma is the most common benign tumor of glandular tissue occurring in the head and neck region.\\n There have been several re...    False\n",
       "4144  0003818  Alcoholic ketoacidosis.\\n Alcoholic ketoacidosis is characterized by a metabolic acidosis with an elevated anion gap.\\n It generally is seen in the chronic alcoholic patient who has recently gone ...    False\n",
       "2463  0006214  Timing and triggers of transient myocardial ischemia.\\n Use of exercise tolerance testing and new techniques of ambulatory electrocardiographic monitoring to more objectively measure myocardial is...     True\n",
       "5019  0003633  Humeral head retroversion in patients with unstable humeroscapular joints.\\n Humeral head retroversion and shoulder rotation in both the frontal and scapular plane were studied in 34 patients with...    False\n",
       "1747  0005120  Cell injury associated calcium oxalate crystalluria.\\n Renal tubular cell damage, resulting in membranuria, was induced by the administration of subcutaneous gentamicin to male Sprague-Dawley rats...    False"
      ]
     },
     "execution_count": 8,
     "metadata": {},
     "output_type": "execute_result"
    }
   ],
   "source": [
    "df_train.sample(20)"
   ]
  },
  {
   "cell_type": "markdown",
   "metadata": {},
   "source": [
    "### How many records do we have in the test / train datasets ?"
   ]
  },
  {
   "cell_type": "code",
   "execution_count": 9,
   "metadata": {
    "collapsed": false
   },
   "outputs": [
    {
     "name": "stdout",
     "output_type": "stream",
     "text": [
      "Training data has:  6286  documents\n",
      "Test data has:  7643  documents\n"
     ]
    }
   ],
   "source": [
    "print ('Training data has: ', len(df_train.index), ' documents')\n",
    "\n",
    "print ('Test data has: ', len(df_test.index), ' documents')"
   ]
  },
  {
   "cell_type": "markdown",
   "metadata": {},
   "source": [
    "### Data distribution"
   ]
  },
  {
   "cell_type": "code",
   "execution_count": 10,
   "metadata": {
    "collapsed": false
   },
   "outputs": [
    {
     "data": {
      "image/png": "[encoded data removed]",
      "text/plain": [
       "<matplotlib.figure.Figure at 0x17de518c518>"
      ]
     },
     "metadata": {},
     "output_type": "display_data"
    }
   ],
   "source": [
    "plt.axis('equal')\n",
    "plt.pie(\n",
    "    df_train.CATEGORY.value_counts().tolist(), \n",
    "    labels=['False', 'True'], \n",
    "    autopct='%1.1f%%', \n",
    "    colors=(\"#E13F29\", \"#D69A80\"));"
   ]
  },
  {
   "cell_type": "markdown",
   "metadata": {},
   "source": [
    "**The accuracy of a dumb classifier that classifies all the documents as False is >80%**"
   ]
  },
  {
   "cell_type": "markdown",
   "metadata": {},
   "source": [
    "# Define Target classifier and test method"
   ]
  },
  {
   "cell_type": "code",
   "execution_count": 11,
   "metadata": {
    "collapsed": true
   },
   "outputs": [],
   "source": [
    "from sklearn.feature_extraction.text import CountVectorizer\n",
    "from sklearn.naive_bayes import MultinomialNB\n",
    "from sklearn.grid_search import GridSearchCV\n",
    "from sklearn.pipeline import Pipeline\n",
    "from sklearn.linear_model import SGDClassifier\n",
    "from sklearn.feature_extraction.text import TfidfTransformer\n",
    "from sklearn.metrics import classification_report, accuracy_score\n",
    "\n",
    "\n",
    "from nltk.stem.porter import *\n",
    "from nltk.tokenize import word_tokenize\n",
    "import string\n",
    "\n",
    "stemmer = PorterStemmer()\n",
    "def stem_tokens(tokens, stemmer):\n",
    "    stemmed = []\n",
    "    for item in tokens:\n",
    "        stemmed.append(stemmer.stem(item))\n",
    "    return stemmed\n",
    "\n",
    "def tokenize(text):\n",
    "    text = \"\".join([ch for ch in text if ch not in string.punctuation])\n",
    "    tokens = word_tokenize(text)\n",
    "    tokens = [item for item in tokens if item.isalpha()]\n",
    "    stems = stem_tokens(tokens, stemmer)\n",
    "    return stems\n",
    "\n",
    "def RenderConfusionMatrix(ytrue, ypred):\n",
    "    \"\"\"\n",
    "    Helper function - renders confusion matrix\n",
    "    \"\"\"\n",
    "    print(pd.crosstab(pd.Series(ytrue), pd.Series(ypred), rownames=['Actual'], colnames=['Predicted'], margins=True)) \n",
    "\n",
    "\n",
    "def TrainAndClassify_SVM(df_train, df_test):\n",
    "    \"\"\"\n",
    "    Trains the target classifier with the df_train DataFrame dataset and then \n",
    "    classifies df_test DataFrame dataset, compares the classification results to\n",
    "    the real labels and outputs the performance\n",
    "    \"\"\"    \n",
    "    \n",
    "    # Make sure there are no NaNs in the input\n",
    "    df_train = df_train.dropna(subset=['NOTE_TEXT'])\n",
    "    df_test = df_test.dropna(subset=['NOTE_TEXT'])\n",
    "    \n",
    "    \n",
    "    text_clf_pipeline = Pipeline([('vect', CountVectorizer()),\n",
    "                                  ('tfidf', TfidfTransformer()),\n",
    "                                  ('clf', SGDClassifier(loss='hinge', penalty='l2',alpha=0.002, n_iter=10, random_state=314)),\n",
    "                                 ])\n",
    "\n",
    "    # Fit a classifier to the training data\n",
    "    text_clf_pipeline.fit(df_train['NOTE_TEXT'].tolist(), df_train.CATEGORY.tolist())\n",
    "    \n",
    "    # Make predictions on the test data\n",
    "    predictions = text_clf_pipeline.predict(df_test['NOTE_TEXT'].tolist())\n",
    "    \n",
    "    # Render confusion matrix\n",
    "    RenderConfusionMatrix(df_test.CATEGORY.tolist(), predictions)\n",
    "    \n",
    "    # Output performance\n",
    "    print ()\n",
    "    print ('Accuracy: ', accuracy_score(df_test.CATEGORY.tolist(), predictions))\n",
    "    print ()\n",
    "    print (classification_report(df_test.CATEGORY.tolist(), predictions))"
   ]
  },
  {
   "cell_type": "markdown",
   "metadata": {},
   "source": [
    "# Create and explore an initial training set of 200 documents"
   ]
  },
  {
   "cell_type": "markdown",
   "metadata": {},
   "source": [
    "<img src=\"BASELINE.png\">"
   ]
  },
  {
   "cell_type": "code",
   "execution_count": 12,
   "metadata": {
    "collapsed": true
   },
   "outputs": [],
   "source": [
    "def ExploreData(df):\n",
    "    \"\"\"\n",
    "    Helper function - data exploration\n",
    "    \"\"\"\n",
    "    print ('Training data has: ', len(df.index), ' documents')\n",
    "    print (df.columns)\n",
    "    print ('The shape of the data is ', (df.shape))\n",
    "    plt.axis('equal')\n",
    "    plt.pie(\n",
    "        df.CATEGORY.value_counts().tolist(), \n",
    "        labels=['False', 'True'], \n",
    "        autopct='%1.1f%%', \n",
    "        colors=(\"#E13F29\", \"#D69A80\"));"
   ]
  },
  {
   "cell_type": "code",
   "execution_count": 13,
   "metadata": {
    "collapsed": false
   },
   "outputs": [],
   "source": [
    "K = 200 # Size of the initial training set\n",
    "L = 200  # The number of documents we will add to the dataset each active learning iteration\n"
   ]
  },
  {
   "cell_type": "code",
   "execution_count": 14,
   "metadata": {
    "collapsed": false
   },
   "outputs": [],
   "source": [
    "import random\n",
    "\n",
    "# Create empty data frame with the columns of the test set\n",
    "df_reserved_init_train_set = pd.DataFrame(columns=df_train.columns)\n",
    "\n",
    "# Sample K random indices\n",
    "random.seed(314)\n",
    "initial_indices = random.sample(range(0, len(df_train.index)), K)\n",
    "\n",
    "def MoveIndices(df_source, df_target, indices):\n",
    "    \"\"\"\n",
    "    Helper function - moves rows in the given indices from source to target\n",
    "    \"\"\"\n",
    "    # Add lines to target\n",
    "    df_target_new = df_target.append(df_source.ix[indices])\n",
    "    return df_target_new\n",
    "\n",
    "df_reserved_init_train_set = MoveIndices(df_train, df_reserved_init_train_set, initial_indices)  \n",
    "\n"
   ]
  },
  {
   "cell_type": "code",
   "execution_count": 15,
   "metadata": {
    "collapsed": false
   },
   "outputs": [
    {
     "name": "stdout",
     "output_type": "stream",
     "text": [
      "Training data has:  200  documents\n",
      "Index(['DOCID', 'NOTE_TEXT', 'CATEGORY'], dtype='object')\n",
      "The shape of the data is  (200, 3)\n"
     ]
    },
    {
     "data": {
      "image/png": "[encoded data removed]",
      "text/plain": [
       "<matplotlib.figure.Figure at 0x17de6366d68>"
      ]
     },
     "metadata": {},
     "output_type": "display_data"
    }
   ],
   "source": [
    "ExploreData(df_reserved_init_train_set)"
   ]
  },
  {
   "cell_type": "markdown",
   "metadata": {},
   "source": [
    "# Train and Classify with the initial training "
   ]
  },
  {
   "cell_type": "code",
   "execution_count": 16,
   "metadata": {
    "collapsed": false
   },
   "outputs": [
    {
     "name": "stdout",
     "output_type": "stream",
     "text": [
      "Predicted  False  True   All\n",
      "Actual                      \n",
      "False       6255    87  6342\n",
      "True         790   511  1301\n",
      "All         7045   598  7643\n",
      "\n",
      "Accuracy:  0.885254481225\n",
      "\n",
      "             precision    recall  f1-score   support\n",
      "\n",
      "      False       0.89      0.99      0.93      6342\n",
      "       True       0.85      0.39      0.54      1301\n",
      "\n",
      "avg / total       0.88      0.89      0.87      7643\n",
      "\n"
     ]
    }
   ],
   "source": [
    "TrainAndClassify_SVM(df_reserved_init_train_set, df_test)"
   ]
  },
  {
   "cell_type": "markdown",
   "metadata": {},
   "source": [
    "# Baseline training set + L randomly selected  \n",
    "\n",
    "<img src=\"RANDOM.png\">"
   ]
  },
  {
   "cell_type": "code",
   "execution_count": 17,
   "metadata": {
    "collapsed": false
   },
   "outputs": [
    {
     "name": "stdout",
     "output_type": "stream",
     "text": [
      "Training data has:  400  documents\n",
      "Index(['DOCID', 'NOTE_TEXT', 'CATEGORY'], dtype='object')\n",
      "The shape of the data is  (400, 3)\n"
     ]
    },
    {
     "data": {
      "image/png": "[encoded data removed]",
      "text/plain": [
       "<matplotlib.figure.Figure at 0x17de6366f60>"
      ]
     },
     "metadata": {},
     "output_type": "display_data"
    }
   ],
   "source": [
    "# Baseline training set + L randomly selected\n",
    "\n",
    "# Create a copy of the initial training set\n",
    "df_random_sample_train_set = df_reserved_init_train_set.copy(deep=True)\n",
    "\n",
    "L_random_indices = random.sample(range(0, len(df_train.index)), L)\n",
    "\n",
    "df_random_sample_train_set = MoveIndices(df_train, df_random_sample_train_set, L_random_indices)  \n",
    "\n",
    "ExploreData(df_random_sample_train_set)"
   ]
  },
  {
   "cell_type": "code",
   "execution_count": 18,
   "metadata": {
    "collapsed": false
   },
   "outputs": [
    {
     "name": "stdout",
     "output_type": "stream",
     "text": [
      "Predicted  False  True   All\n",
      "Actual                      \n",
      "False       6274    68  6342\n",
      "True         784   517  1301\n",
      "All         7058   585  7643\n",
      "\n",
      "Accuracy:  0.888525448122\n",
      "\n",
      "             precision    recall  f1-score   support\n",
      "\n",
      "      False       0.89      0.99      0.94      6342\n",
      "       True       0.88      0.40      0.55      1301\n",
      "\n",
      "avg / total       0.89      0.89      0.87      7643\n",
      "\n"
     ]
    }
   ],
   "source": [
    "TrainAndClassify_SVM(df_random_sample_train_set, df_test)"
   ]
  },
  {
   "cell_type": "markdown",
   "metadata": {},
   "source": [
    "# Results (so far) summary\n",
    "\n",
    "| Training set | Accuracy | True-recall | True-f1-score |        \n",
    "| ------------- | ------------- | ------------- | ------------- |\n",
    "| 200 randomly selected | 0.885 | 0.39 | 0.54 |\n",
    "| 200 randomly selected + 200 randomly selected | 0.888 | 0.40 | 0.55 |"
   ]
  },
  {
   "cell_type": "markdown",
   "metadata": {},
   "source": [
    "# Add samples to the training set using Active Learning\n",
    "\n",
    "\n",
    "<img src=\"ACTIVE.png\">"
   ]
  },
  {
   "cell_type": "code",
   "execution_count": 19,
   "metadata": {
    "collapsed": false
   },
   "outputs": [],
   "source": [
    "# Citation:: 'http://scikit-learn.org/stable/auto_examples/ensemble/plot_voting_probas.html' \n",
    "\n",
    "# Active Learning - Committee-Based Sampling\n",
    "\n",
    "from sklearn.linear_model import LogisticRegression\n",
    "from sklearn.naive_bayes import GaussianNB\n",
    "from sklearn.ensemble import RandomForestClassifier\n",
    "\n",
    "def ActiveLearn(df_train, df_candidates, L):\n",
    "    \"\"\"\n",
    "    Implementation of the Active Learning algorithm Committee-Based Sampling.\n",
    "    Selects the L most informative records from the labeled set df_candidates,\n",
    "    , copies them to df_train and returns the extended df_train\n",
    "    \"\"\"  \n",
    "    \n",
    "    # The classifiers in our Committee-of-classifiers\n",
    "    clf1 = LogisticRegression(random_state=123)\n",
    "    clf2 = RandomForestClassifier(random_state=123)\n",
    "    clf3 = GaussianNB()\n",
    "\n",
    "    # Extract the relevant data \n",
    "    X_train = df_train['NOTE_TEXT'].tolist()\n",
    "    Y_train = df_train.CATEGORY.tolist()\n",
    "    X_candidates = df_candidates['NOTE_TEXT'].tolist()\n",
    "    \n",
    "    # Convert from text to word counts\n",
    "    vectorizer = CountVectorizer(tokenizer=tokenize, ngram_range=(1,2))\n",
    "    wcounts_train = vectorizer.fit_transform(X_train)    \n",
    "    wcounts_candidates = vectorizer.transform(X_candidates)\n",
    "    \n",
    "    # Use each member in the Committee-of-classifiers to predict true/false probabilities\n",
    "    probas = [c.fit(wcounts_train.toarray(), Y_train).predict_proba(wcounts_candidates.toarray()) \n",
    "              for c in (clf1, clf2, clf3)]\n",
    "    \n",
    "    K = len(df_candidates.index)\n",
    "    \n",
    "    # For each record - calculate one value that represents the level of disagreement\n",
    "    # between all the members in the Committee-of-classifiers \n",
    "    np_doc_id_pr = np.empty((K,2), dtype=np.float64)\n",
    "    num_classifer_method = 3\n",
    "\n",
    "    for row_index in range(K):\n",
    "    \n",
    "        false_pr = 0.0\n",
    "        true_pr = 0.0\n",
    "\n",
    "        for x in range(num_classifer_method-1):\n",
    "            false_pr += abs(probas[x][row_index][0] - probas[x+1][row_index][0])\n",
    "            true_pr += abs(probas[x][row_index][1] - probas[x+1][row_index][1])\n",
    "\n",
    "        amortizeVotingClassifier = abs(false_pr - true_pr)\n",
    "\n",
    "        np_doc_id_pr[row_index][0] = row_index\n",
    "        np_doc_id_pr[row_index][1] = amortizeVotingClassifier\n",
    "    \n",
    "    tmp_np_array =  np_doc_id_pr[np_doc_id_pr[:,1].argsort()[::-1]]\n",
    "    \n",
    "    # Add to the training set the L samples with the highest values of disagreement\n",
    "    for i in range(L):\n",
    "        df_train = df_train.append(df_candidates.iloc[int(tmp_np_array[i][0])])\n",
    "    return df_train\n",
    "\n"
   ]
  },
  {
   "cell_type": "code",
   "execution_count": 20,
   "metadata": {
    "collapsed": true
   },
   "outputs": [],
   "source": [
    "# Create a copy of the initial training set\n",
    "df_active_learning_train_set = df_reserved_init_train_set.copy(deep=True)\n",
    "\n",
    "L_random_indices = random.sample(range(0, len(df_train.index)), L)\n"
   ]
  },
  {
   "cell_type": "code",
   "execution_count": 22,
   "metadata": {
    "collapsed": false
   },
   "outputs": [],
   "source": [
    "df_final_active_learning_dataset = ActiveLearn(df_active_learning_train_set,df_train, L)"
   ]
  },
  {
   "cell_type": "code",
   "execution_count": 23,
   "metadata": {
    "collapsed": false
   },
   "outputs": [
    {
     "name": "stdout",
     "output_type": "stream",
     "text": [
      "Training data has:  400  documents\n",
      "Index(['DOCID', 'NOTE_TEXT', 'CATEGORY'], dtype='object')\n",
      "The shape of the data is  (400, 3)\n"
     ]
    },
    {
     "data": {
      "image/png": "[encoded data removed]",
      "text/plain": [
       "<matplotlib.figure.Figure at 0x17de55fd9e8>"
      ]
     },
     "metadata": {},
     "output_type": "display_data"
    }
   ],
   "source": [
    "ExploreData(df_final_active_learning_dataset)"
   ]
  },
  {
   "cell_type": "code",
   "execution_count": 25,
   "metadata": {
    "collapsed": false
   },
   "outputs": [
    {
     "name": "stdout",
     "output_type": "stream",
     "text": [
      "Predicted  False  True   All\n",
      "Actual                      \n",
      "False       6195   147  6342\n",
      "True         502   799  1301\n",
      "All         6697   946  7643\n",
      "\n",
      "Accuracy:  0.915085699333\n",
      "\n",
      "             precision    recall  f1-score   support\n",
      "\n",
      "      False       0.93      0.98      0.95      6342\n",
      "       True       0.84      0.61      0.71      1301\n",
      "\n",
      "avg / total       0.91      0.92      0.91      7643\n",
      "\n"
     ]
    }
   ],
   "source": [
    "TrainAndClassify_SVM(df_final_active_learning_dataset, df_test)"
   ]
  },
  {
   "cell_type": "markdown",
   "metadata": {
    "collapsed": true
   },
   "source": [
    "# Results Summary\n",
    "\n",
    "| Training set | Accuracy | True-recall | True-f1-score |        \n",
    "| ------------- | ------------- | ------------- | ------------- |\n",
    "| 200 randomly selected | 0.885 | 0.39 | 0.54 |\n",
    "| 200 randomly selected + 200 randomly selected | 0.888 | 0.40 | 0.55 |\n",
    "| 200 randomly selected + 200 selected by Committee-Based Sampling| **0.915** | **0.61** | **0.71** |\n"
   ]
  },
  {
   "cell_type": "code",
   "execution_count": null,
   "metadata": {
    "collapsed": true
   },
   "outputs": [],
   "source": []
  }
 ],
 "metadata": {
  "anaconda-cloud": {},
  "kernelspec": {
   "display_name": "Python [Root]",
   "language": "python",
   "name": "Python [Root]"
  },
  "language_info": {
   "codemirror_mode": {
    "name": "ipython",
    "version": 3
   },
   "file_extension": ".py",
   "mimetype": "text/x-python",
   "name": "python",
   "nbconvert_exporter": "python",
   "pygments_lexer": "ipython3",
   "version": "3.5.2"
  }
 },
 "nbformat": 4,
 "nbformat_minor": 0
}
