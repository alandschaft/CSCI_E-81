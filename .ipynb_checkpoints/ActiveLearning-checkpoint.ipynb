{
 "cells": [
  {
   "cell_type": "markdown",
   "metadata": {
    "slideshow": {
     "slide_type": "-"
    }
   },
   "source": [
    "# Active Learning\n",
    "\n",
    "The purpose of this notebook is to show a simple medical text classification workflow using IPython notebook."
   ]
  },
  {
   "cell_type": "markdown",
   "metadata": {},
   "source": [
    "## Standard imports and settings"
   ]
  },
  {
   "cell_type": "code",
   "execution_count": 30,
   "metadata": {
    "collapsed": true
   },
   "outputs": [],
   "source": [
    "%matplotlib inline\n",
    "import matplotlib as mpl\n",
    "mpl.rcParams['font.size'] = 16.0\n",
    "import matplotlib.pyplot as plt\n",
    "import numpy as np\n",
    "import pandas as pd            # process data with pandas dataframe\n",
    "pd.set_option('display.width', 500)\n",
    "pd.set_option('display.max_columns', 100)\n",
    "pd.set_option('display.notebook_repr_html', True)\n",
    "import seaborn as sns\n",
    "sns.set_style(\"whitegrid\")\n",
    "sns.set_context(\"poster\")\n",
    "import time\n",
    "import os"
   ]
  },
  {
   "cell_type": "markdown",
   "metadata": {},
   "source": [
    "# The data \n",
    "\n",
    "The **Ohsumed** test collection (available at <ftp://medir.ohsu.edu/pub/ohsumed>) is a subset of the MEDLINE database, which is a bibliographic database of important, peer-reviewed medical literature maintained by the National Library of Medicine. The initial subset I consider in the project is the collection consisting of the first 20,000 documents from the 50,216 medical abstracts of the year 1991. The classification scheme consists of the 23 Medical Subject Headings (MeSH) categories of cardiovascular diseases group: \n",
    "\n",
    "| Category      | Description   |        \n",
    "| ------------- | ------------- |\n",
    "| C01 | Bacterial Infections and Mycoses |\n",
    "| C02 | Virus Diseases |\n",
    "| C03 | Parasitic Diseases |\n",
    "| C04 | Neoplasms |\n",
    "| C05 | Musculoskeletal Diseases |\n",
    "| C06 | Digestive System Diseases |\n",
    "| C07 | Stomatognathic Diseases |\n",
    "| C08 | Respiratory Tract Diseases |\n",
    "| C09 | Otorhinolaryngologic Diseases |\n",
    "| C10 | Nervous System Diseases |\n",
    "| C11 | Eye Diseases |\n",
    "| C12 | Urologic and Male Genital Diseases |\n",
    "| C13 | Female Genital Diseases and Pregnancy Complications |\n",
    "| C14 | Cardiovascular Diseases |\n",
    "| C15 | Hemic and Lymphatic Diseases |\n",
    "| C16 | Neonatal Diseases and Abnormalities |\n",
    "| C17 | Skin and Connective Tissue Diseases |\n",
    "| C18 | Nutritional and Metabolic Diseases |\n",
    "| C19 | Endocrine Diseases |\n",
    "| C20 | Immunologic Diseases |\n",
    "| C21 | Disorders of Environmental Origin |\n",
    "| C22 | Animal Diseases |\n",
    "| C23 | Pathological Conditions, Signs and Symptoms |\n",
    "\n",
    "\n",
    "## Downloading the data:\n",
    "\n",
    "* [Cardiovascular diseases abstracts](http://disi.unitn.it/moschitti/corpora/ohsumed-first-20000-docs.tar.gz) (the first 20,000 abstracts of the year 1991)\n",
    "\n",
    "** The following code assumes that the data is extracted into folder with the name 'Data' in the same folder of the IPython notebook**\n",
    "\n",
    "## Storing the data in a sql database\n",
    "\n",
    "The following code iterates over the extracted data and converts the ohsumed directory structure to a single sqlite databse with the data. The original dataset is already divided to Test and Training datasets. We will keep this division."
   ]
  },
  {
   "cell_type": "code",
   "execution_count": 6,
   "metadata": {
    "collapsed": false
   },
   "outputs": [],
   "source": [
    "import sqlite3 as sqlite\n",
    "\n",
    "def get_all_tables(c):\n",
    "    \"\"\"\n",
    "    Helper function - Gets a list of all the tables in the database.\n",
    "    \"\"\"\n",
    "    all_tables = []\n",
    "    c.execute('SELECT name FROM SQLITE_MASTER WHERE type = \"table\"')\n",
    "    for tbl in c:\n",
    "        all_tables.append(tbl[0])\n",
    "    return all_tables\n",
    "\n",
    "def drop_tables(c, tables):\n",
    "    \"\"\"\n",
    "    Helper function - Checks that the specified tables exist, and for those that do, drop them.\n",
    "    \"\"\"\n",
    "    all_tables = get_all_tables(c)\n",
    "    for t in tables:\n",
    "        if t in all_tables:\n",
    "            c.execute('DROP TABLE %s' % t)\n",
    "\n",
    "def create_documents_table(c):\n",
    "    \"\"\"\n",
    "    Helper function - This function uses SQL to create the Documents table\n",
    "    \"\"\"\n",
    "    drop_tables(c, [ 'Documents' ])\n",
    "    c.execute(\"\"\"CREATE TABLE Documents ( \n",
    "            DOCID TEXT PRIMARY KEY,\n",
    "            NOTE_TEXT TEXT, \n",
    "            CATEGORY TEXT\n",
    "        )\"\"\")\n",
    "\n",
    "def add_document(c, docid, text, category):\n",
    "    \"\"\"\n",
    "    Helper function - Adds one document to sql Documents database\n",
    "    \"\"\"\n",
    "    c.execute('insert or replace into Documents values ( ?, ?, ? )', (docid, text, category))\n",
    "\n",
    "def ohsumed2sqlite(src_root_dir, dest_sqlite):\n",
    "    start_time = time.time()\n",
    "    print 'Converting ohsumed directory structure {0} to sqlite database'.format(src_root_dir)\n",
    "\n",
    "    conn_out = sqlite.connect(dest_sqlite)\n",
    "    c_out = conn_out.cursor()\n",
    "\n",
    "    fout = open(dest_sqlite, 'w')\n",
    "    fout.close()\n",
    "\n",
    "    create_documents_table(c_out)\n",
    "    # Process the ohsumed directory\n",
    "    dict = {}\n",
    "    for root, dirs, files in os.walk(src_root_dir):\n",
    "        for f in files:\n",
    "            category = os.path.basename(root) # directory name is the category\n",
    "            with open (os.path.join(root, f), \"r\") as cur_file:\n",
    "                data=cur_file.read()\n",
    "                if f in dict:\n",
    "                    category = dict[f] + ',' + category\n",
    "                dict[f] = category\n",
    "                add_document(c_out, f, data, category)\n",
    "    conn_out.commit()\n",
    "    c_out.close()\n",
    "    print(\"--- ohsumed2sqlite %s seconds ---\" % (time.time() - start_time))"
   ]
  },
  {
   "cell_type": "code",
   "execution_count": 7,
   "metadata": {
    "collapsed": false
   },
   "outputs": [
    {
     "name": "stdout",
     "output_type": "stream",
     "text": [
      "Converting ohsumed directory structure .\\Data\\ohsumed-first-20000-docs\\training to sqlite database\n",
      "--- ohsumed2sqlite 17.0759999752 seconds ---\n",
      "Converting ohsumed directory structure .\\Data\\ohsumed-first-20000-docs\\test to sqlite database\n",
      "--- ohsumed2sqlite 20.6119999886 seconds ---\n"
     ]
    }
   ],
   "source": [
    "# Convert the training data\n",
    "ohsumed2sqlite('.\\\\Data\\\\ohsumed-first-20000-docs\\\\training', 'training.sqlite')\n",
    "\n",
    "# Convert the test data\n",
    "ohsumed2sqlite('.\\\\Data\\\\ohsumed-first-20000-docs\\\\test', 'test.sqlite')"
   ]
  },
  {
   "cell_type": "markdown",
   "metadata": {},
   "source": [
    "## Data exploration and preparation \n",
    "\n"
   ]
  },
  {
   "cell_type": "markdown",
   "metadata": {},
   "source": [
    "### Read the data from the sqlite databases into Pandas dataframes"
   ]
  },
  {
   "cell_type": "code",
   "execution_count": 31,
   "metadata": {
    "collapsed": false
   },
   "outputs": [],
   "source": [
    "con = sqlite.connect('training.sqlite')\n",
    "\n",
    "df_train = pd.read_sql_query(\"SELECT * from Documents\", con)\n",
    "\n",
    "con.close()\n",
    "\n",
    "con = sqlite.connect('test.sqlite')\n",
    "\n",
    "df_test = pd.read_sql_query(\"SELECT * from Documents\", con)\n",
    "\n",
    "con.close()\n"
   ]
  },
  {
   "cell_type": "markdown",
   "metadata": {},
   "source": [
    "### Output a random sample of 20 records"
   ]
  },
  {
   "cell_type": "code",
   "execution_count": 32,
   "metadata": {
    "collapsed": false,
    "scrolled": true
   },
   "outputs": [
    {
     "data": {
      "text/html": [
       "<div>\n",
       "<table border=\"1\" class=\"dataframe\">\n",
       "  <thead>\n",
       "    <tr style=\"text-align: right;\">\n",
       "      <th></th>\n",
       "      <th>DOCID</th>\n",
       "      <th>NOTE_TEXT</th>\n",
       "      <th>CATEGORY</th>\n",
       "    </tr>\n",
       "  </thead>\n",
       "  <tbody>\n",
       "    <tr>\n",
       "      <th>64</th>\n",
       "      <td>0005934</td>\n",
       "      <td>Infectious diseases as a Canadian subspecialty, with projections to the year 2000.\\n Infectious diseases is a relatively new subspecialty in Canada.\\n During the past decade, however, important ad...</td>\n",
       "      <td>C01</td>\n",
       "    </tr>\n",
       "    <tr>\n",
       "      <th>2438</th>\n",
       "      <td>0006086</td>\n",
       "      <td>Ultrasonic evaluation of early carotid atherosclerosis.\\n We investigated the prevalence of carotid atherosclerosis, including mild early lesions, and its association with cervical bruits and vari...</td>\n",
       "      <td>C14</td>\n",
       "    </tr>\n",
       "    <tr>\n",
       "      <th>776</th>\n",
       "      <td>0002438</td>\n",
       "      <td>In vivo evaluation of monopolar versus bipolar electrosurgical polypectomy snares.\\n The energy required and tissue damage in bipolar and monopolar polypectomy snares were compared in a canine mod...</td>\n",
       "      <td>C04,C06</td>\n",
       "    </tr>\n",
       "    <tr>\n",
       "      <th>6012</th>\n",
       "      <td>0008653</td>\n",
       "      <td>Helicobacter pylori and associated duodenal ulcer.\\n Twenty three children with coexistent duodenal ulcer and Helicobacter pylori infection were treated with either two weeks of amoxycillin (25 mg...</td>\n",
       "      <td>C01,C06,C23</td>\n",
       "    </tr>\n",
       "    <tr>\n",
       "      <th>5900</th>\n",
       "      <td>0008052</td>\n",
       "      <td>Control of total peripheral resistance during hyperthermia in rats.\\n To elucidate the effect of blood volume on the circulatory adjustment to heat stress, we studied alpha-chloralose-anesthetized...</td>\n",
       "      <td>C23</td>\n",
       "    </tr>\n",
       "    <tr>\n",
       "      <th>2206</th>\n",
       "      <td>0002740</td>\n",
       "      <td>Effects of diltiazem on the functional recovery of the myocardium at organ and cellular level during prolonged hypothermic ischemic cardiac arrest.\\n The effectiveness of diltiazem on the function...</td>\n",
       "      <td>C14</td>\n",
       "    </tr>\n",
       "    <tr>\n",
       "      <th>5323</th>\n",
       "      <td>0005393</td>\n",
       "      <td>Seizures and other neurologic sequelae of bacterial meningitis in children.\\n BACKGROUND.\\n Although the mortality rate among children with bacterial meningitis has decreased dramatically in recen...</td>\n",
       "      <td>C01,C10,C23</td>\n",
       "    </tr>\n",
       "    <tr>\n",
       "      <th>6144</th>\n",
       "      <td>0009336</td>\n",
       "      <td>Adult phosphorylase b kinase deficiency.\\n Phosphorylase b kinase deficiency affecting muscle has been observed infrequently in children with weakness and hepatomegaly, and in 2 adults with cramps...</td>\n",
       "      <td>C10,C23</td>\n",
       "    </tr>\n",
       "    <tr>\n",
       "      <th>2462</th>\n",
       "      <td>0006212</td>\n",
       "      <td>Beta blockers and the primary prevention of nonfatal myocardial infarction in patients with high blood pressure.\\n A population-based, case-control study was conducted to determine whether beta bl...</td>\n",
       "      <td>C14</td>\n",
       "    </tr>\n",
       "    <tr>\n",
       "      <th>1013</th>\n",
       "      <td>0000711</td>\n",
       "      <td>Changes in self-concept during pulmonary rehabilitation, Part 2.\\n This two-part study describes changes in self-concept during pulmonary rehabilitation.\\n A 20-item semantic meaning differential ...</td>\n",
       "      <td>C08</td>\n",
       "    </tr>\n",
       "    <tr>\n",
       "      <th>181</th>\n",
       "      <td>0000221</td>\n",
       "      <td>Prognostic implication of ecto-5'-nucleotidase activity in acute lymphoblastic leukemia.\\n Ecto-5'-nucleotidase (5'-N) activity was determined in 191 patients (71 children and 120 adults) with acu...</td>\n",
       "      <td>C04</td>\n",
       "    </tr>\n",
       "    <tr>\n",
       "      <th>5197</th>\n",
       "      <td>0004691</td>\n",
       "      <td>Comparison of the Goode T-tube with the Armstrong tube in children with chronic otitis media with effusion.\\n Treatment of otitis media with effusion is focused on reaeration of the middle ear cav...</td>\n",
       "      <td>C09,C23</td>\n",
       "    </tr>\n",
       "    <tr>\n",
       "      <th>4012</th>\n",
       "      <td>0000438</td>\n",
       "      <td>Foreign body removal through an appendicostomy.\\n The removal of button cell batteries or small coins impacted in the terminal ileum or right colon through an appendicostomy is described.\\n This t...</td>\n",
       "      <td>C21</td>\n",
       "    </tr>\n",
       "    <tr>\n",
       "      <th>1051</th>\n",
       "      <td>0003714</td>\n",
       "      <td>Prevention of nosocomial lung infection in ventilated patients: use of an antimicrobial pharyngeal nonabsorbable paste.\\n A comparative, prospective study was made of the incidence of infection in...</td>\n",
       "      <td>C01,C08</td>\n",
       "    </tr>\n",
       "    <tr>\n",
       "      <th>5217</th>\n",
       "      <td>0004784</td>\n",
       "      <td>Treatment of chronic relapsing inflammatory demyelinating polyneuropathy by cyclosporin A and plasma exchange. A case report.\\n A patient with chronic relapsing inflammatory demyelinating polyneur...</td>\n",
       "      <td>C10,C23</td>\n",
       "    </tr>\n",
       "    <tr>\n",
       "      <th>4632</th>\n",
       "      <td>0000820</td>\n",
       "      <td>An insertion/deletion polymorphism in the angiotensin I-converting enzyme gene accounting for half the variance of serum enzyme levels.\\n A polymorphism consisting of the presence or absence of a ...</td>\n",
       "      <td>C23</td>\n",
       "    </tr>\n",
       "    <tr>\n",
       "      <th>5790</th>\n",
       "      <td>0007519</td>\n",
       "      <td>Aminoglycosides: assessing the potential for nephrotoxicity.\\n Although aminoglycosides have been a mainstay of antibiotic therapy in postsurgical infections, certain patients may be at risk for p...</td>\n",
       "      <td>C09,C12,C23</td>\n",
       "    </tr>\n",
       "    <tr>\n",
       "      <th>2792</th>\n",
       "      <td>0005251</td>\n",
       "      <td>Renal cell carcinoma associated with sarcoidlike tissue reaction.\\n A 60-year-old man was referred to our institution with the diagnosis of sarcoidosis.\\n Because of several months' complaint of r...</td>\n",
       "      <td>C04,C12,C15</td>\n",
       "    </tr>\n",
       "    <tr>\n",
       "      <th>71</th>\n",
       "      <td>0006532</td>\n",
       "      <td>Evidence for gonococcal transmission within a correctional system.\\n In a study to examine sexually transmissible disease occurring within a large correctional system where sexual activity is proh...</td>\n",
       "      <td>C01</td>\n",
       "    </tr>\n",
       "    <tr>\n",
       "      <th>160</th>\n",
       "      <td>0008203</td>\n",
       "      <td>B cell responses to paramyosin. Isotypic analysis and epitope mapping of filarial paramyosin in patients with onchocerciasis.\\n To examine the fine specificity of the human immune response to fila...</td>\n",
       "      <td>C03</td>\n",
       "    </tr>\n",
       "  </tbody>\n",
       "</table>\n",
       "</div>"
      ],
      "text/plain": [
       "        DOCID                                                                                                                                                                                                NOTE_TEXT     CATEGORY\n",
       "64    0005934  Infectious diseases as a Canadian subspecialty, with projections to the year 2000.\\n Infectious diseases is a relatively new subspecialty in Canada.\\n During the past decade, however, important ad...          C01\n",
       "2438  0006086  Ultrasonic evaluation of early carotid atherosclerosis.\\n We investigated the prevalence of carotid atherosclerosis, including mild early lesions, and its association with cervical bruits and vari...          C14\n",
       "776   0002438  In vivo evaluation of monopolar versus bipolar electrosurgical polypectomy snares.\\n The energy required and tissue damage in bipolar and monopolar polypectomy snares were compared in a canine mod...      C04,C06\n",
       "6012  0008653  Helicobacter pylori and associated duodenal ulcer.\\n Twenty three children with coexistent duodenal ulcer and Helicobacter pylori infection were treated with either two weeks of amoxycillin (25 mg...  C01,C06,C23\n",
       "5900  0008052  Control of total peripheral resistance during hyperthermia in rats.\\n To elucidate the effect of blood volume on the circulatory adjustment to heat stress, we studied alpha-chloralose-anesthetized...          C23\n",
       "2206  0002740  Effects of diltiazem on the functional recovery of the myocardium at organ and cellular level during prolonged hypothermic ischemic cardiac arrest.\\n The effectiveness of diltiazem on the function...          C14\n",
       "5323  0005393  Seizures and other neurologic sequelae of bacterial meningitis in children.\\n BACKGROUND.\\n Although the mortality rate among children with bacterial meningitis has decreased dramatically in recen...  C01,C10,C23\n",
       "6144  0009336  Adult phosphorylase b kinase deficiency.\\n Phosphorylase b kinase deficiency affecting muscle has been observed infrequently in children with weakness and hepatomegaly, and in 2 adults with cramps...      C10,C23\n",
       "2462  0006212  Beta blockers and the primary prevention of nonfatal myocardial infarction in patients with high blood pressure.\\n A population-based, case-control study was conducted to determine whether beta bl...          C14\n",
       "1013  0000711  Changes in self-concept during pulmonary rehabilitation, Part 2.\\n This two-part study describes changes in self-concept during pulmonary rehabilitation.\\n A 20-item semantic meaning differential ...          C08\n",
       "181   0000221  Prognostic implication of ecto-5'-nucleotidase activity in acute lymphoblastic leukemia.\\n Ecto-5'-nucleotidase (5'-N) activity was determined in 191 patients (71 children and 120 adults) with acu...          C04\n",
       "5197  0004691  Comparison of the Goode T-tube with the Armstrong tube in children with chronic otitis media with effusion.\\n Treatment of otitis media with effusion is focused on reaeration of the middle ear cav...      C09,C23\n",
       "4012  0000438  Foreign body removal through an appendicostomy.\\n The removal of button cell batteries or small coins impacted in the terminal ileum or right colon through an appendicostomy is described.\\n This t...          C21\n",
       "1051  0003714  Prevention of nosocomial lung infection in ventilated patients: use of an antimicrobial pharyngeal nonabsorbable paste.\\n A comparative, prospective study was made of the incidence of infection in...      C01,C08\n",
       "5217  0004784  Treatment of chronic relapsing inflammatory demyelinating polyneuropathy by cyclosporin A and plasma exchange. A case report.\\n A patient with chronic relapsing inflammatory demyelinating polyneur...      C10,C23\n",
       "4632  0000820  An insertion/deletion polymorphism in the angiotensin I-converting enzyme gene accounting for half the variance of serum enzyme levels.\\n A polymorphism consisting of the presence or absence of a ...          C23\n",
       "5790  0007519  Aminoglycosides: assessing the potential for nephrotoxicity.\\n Although aminoglycosides have been a mainstay of antibiotic therapy in postsurgical infections, certain patients may be at risk for p...  C09,C12,C23\n",
       "2792  0005251  Renal cell carcinoma associated with sarcoidlike tissue reaction.\\n A 60-year-old man was referred to our institution with the diagnosis of sarcoidosis.\\n Because of several months' complaint of r...  C04,C12,C15\n",
       "71    0006532  Evidence for gonococcal transmission within a correctional system.\\n In a study to examine sexually transmissible disease occurring within a large correctional system where sexual activity is proh...          C01\n",
       "160   0008203  B cell responses to paramyosin. Isotypic analysis and epitope mapping of filarial paramyosin in patients with onchocerciasis.\\n To examine the fine specificity of the human immune response to fila...          C03"
      ]
     },
     "execution_count": 32,
     "metadata": {},
     "output_type": "execute_result"
    }
   ],
   "source": [
    "pd.options.display.max_colwidth = 200\n",
    "\n",
    "df_train.sample(20)"
   ]
  },
  {
   "cell_type": "markdown",
   "metadata": {},
   "source": [
    "### Creating binary classification dataset\n",
    "\n",
    "** As we see, each document is assigned one class or more. ** In this exercise I would like to implement a simple binary classification workflow, so I define 2 binary classes:\n",
    "* **Positive / True** - Documents that belong to class **C14 - Cardiovascular Diseases**\n",
    "* **Negative / False** - Documents that do not belong to C14\n",
    "\n",
    "The following code converts that data to a binary classification dataset:\n"
   ]
  },
  {
   "cell_type": "code",
   "execution_count": 33,
   "metadata": {
    "collapsed": false
   },
   "outputs": [],
   "source": [
    "import re\n",
    "\n",
    "def ConvertCategoryColToBinVal(df, poscat):\n",
    "    df['CATEGORY'] = df['CATEGORY'].apply(lambda x: bool(re.search(poscat, x, re.IGNORECASE) and True))\n",
    "    \n",
    "ConvertCategoryColToBinVal(df_train, 'C14')\n",
    "\n",
    "ConvertCategoryColToBinVal(df_test, 'C14')"
   ]
  },
  {
   "cell_type": "markdown",
   "metadata": {},
   "source": [
    "Let's take another look at the data:"
   ]
  },
  {
   "cell_type": "code",
   "execution_count": 34,
   "metadata": {
    "collapsed": false
   },
   "outputs": [
    {
     "data": {
      "text/html": [
       "<div>\n",
       "<table border=\"1\" class=\"dataframe\">\n",
       "  <thead>\n",
       "    <tr style=\"text-align: right;\">\n",
       "      <th></th>\n",
       "      <th>DOCID</th>\n",
       "      <th>NOTE_TEXT</th>\n",
       "      <th>CATEGORY</th>\n",
       "    </tr>\n",
       "  </thead>\n",
       "  <tbody>\n",
       "    <tr>\n",
       "      <th>5110</th>\n",
       "      <td>0004108</td>\n",
       "      <td>Pivotal role of early and sustained infarct vessel patency in patients with acute myocardial infarction.\\n Thrombolytic therapy in acute myocardial infarction unequivocally has improved short- and...</td>\n",
       "      <td>True</td>\n",
       "    </tr>\n",
       "    <tr>\n",
       "      <th>4612</th>\n",
       "      <td>0000754</td>\n",
       "      <td>Transient cyst-like cortical defects following fractures in children. Medullary fat within the subperiosteal haematoma.\\n Asymptomatic cyst-like cortical defects appearing after fractures in child...</td>\n",
       "      <td>False</td>\n",
       "    </tr>\n",
       "    <tr>\n",
       "      <th>590</th>\n",
       "      <td>0009363</td>\n",
       "      <td>Soft-tissue tumor with abnormal amianthoid collagen fibers.\\n Electron microscopic examination of a solitary soft-tissue tumor from the face demonstrated large areas with abnormal amianthoid colla...</td>\n",
       "      <td>False</td>\n",
       "    </tr>\n",
       "    <tr>\n",
       "      <th>3139</th>\n",
       "      <td>0008807</td>\n",
       "      <td>Estrogen receptor localization in normal and neoplastic epithelium of the uterine cervix.\\n To investigate the estrogen receptor (ER) status of cells during carcinogenesis of the uterine cervix, t...</td>\n",
       "      <td>False</td>\n",
       "    </tr>\n",
       "    <tr>\n",
       "      <th>1350</th>\n",
       "      <td>0004782</td>\n",
       "      <td>Unusual blink reflex with four components in a patient with periodic ataxia.\\n Characteristic findings in blink reflex are reported in a 55-year-old female with periodic ataxia.\\n The blink reflex...</td>\n",
       "      <td>False</td>\n",
       "    </tr>\n",
       "    <tr>\n",
       "      <th>1089</th>\n",
       "      <td>0005836</td>\n",
       "      <td>Breathing exercises for the medical patient: the art and the science.\\n The art of breathing exercises can be traced to the late 1800s.\\n In the past 10 years, the increased demand for treatment f...</td>\n",
       "      <td>False</td>\n",
       "    </tr>\n",
       "    <tr>\n",
       "      <th>2429</th>\n",
       "      <td>0005925</td>\n",
       "      <td>Endocarditis due to ampicillin-resistant nontyphoid Salmonella: cure with a third-generation cephalosporin.\\n A case of ampicillin-resistant salmonella bacteremia complicated by endocarditis in a ...</td>\n",
       "      <td>True</td>\n",
       "    </tr>\n",
       "    <tr>\n",
       "      <th>2023</th>\n",
       "      <td>0000040</td>\n",
       "      <td>Influence of Doppler sample volume location on the assessment of changes in mitral inflow velocity profiles.\\n Previous studies that have validated Doppler indexes of mitral inflow have used pulse...</td>\n",
       "      <td>True</td>\n",
       "    </tr>\n",
       "    <tr>\n",
       "      <th>5962</th>\n",
       "      <td>0008398</td>\n",
       "      <td>Filler DNA is associated with spontaneous deletions in maize.\\n We have determined the structure of five spontaneous deletions within the maize waxy (Wx) gene.\\n Of these, four were found in spont...</td>\n",
       "      <td>False</td>\n",
       "    </tr>\n",
       "    <tr>\n",
       "      <th>1837</th>\n",
       "      <td>0009546</td>\n",
       "      <td>Influence of phosphatidylcholine on ultrafiltration and solute transfer in CAPD patients.\\n Fifteen patients (mean age 59.9 +/- 16.1 years) treated by CAPD for a mean of 21.6 +/- 14 months, underw...</td>\n",
       "      <td>False</td>\n",
       "    </tr>\n",
       "    <tr>\n",
       "      <th>346</th>\n",
       "      <td>0004808</td>\n",
       "      <td>Changes in the clearance of total and unbound etoposide in patients with liver dysfunction.\\n The disposition of total and non-protein-bound etoposide was investigated in 21 cancer patients receiv...</td>\n",
       "      <td>False</td>\n",
       "    </tr>\n",
       "    <tr>\n",
       "      <th>3060</th>\n",
       "      <td>0004457</td>\n",
       "      <td>The role of antihistamines in atopic dermatitis.\\n Although several lines of evidence support a role for histamine in the pathogenesis of atopic dermatitis, antihistamines have generally offered o...</td>\n",
       "      <td>False</td>\n",
       "    </tr>\n",
       "    <tr>\n",
       "      <th>25</th>\n",
       "      <td>0002892</td>\n",
       "      <td>Comparison of cilofungin and amphotericin B for therapy of murine candidiasis.\\n We compared the efficacies of cilofungin and amphotericin B treatment in a murine model of disseminated candidiasis...</td>\n",
       "      <td>False</td>\n",
       "    </tr>\n",
       "    <tr>\n",
       "      <th>1556</th>\n",
       "      <td>0005587</td>\n",
       "      <td>Glaucomatous optic nerve atrophy in small discs with low cup-to-disc ratios \\n Glaucomatous optic nerve damage has generally been associated with high cup-to-disc ratios.\\n Fifteen eyes of nine pa...</td>\n",
       "      <td>False</td>\n",
       "    </tr>\n",
       "    <tr>\n",
       "      <th>3823</th>\n",
       "      <td>0006721</td>\n",
       "      <td>Circadian basis of the late asthmatic response.\\n The late asthmatic response (LAR) to an allergen challenge has a marked impact on lung function in the patient with asthma.\\n Virtually all studie...</td>\n",
       "      <td>False</td>\n",
       "    </tr>\n",
       "    <tr>\n",
       "      <th>605</th>\n",
       "      <td>0000203</td>\n",
       "      <td>Chondrosarcoma of bone in children.\\n Chondrosarcoma of bone rarely occurs in children.\\n This report analyzes the clinicopathologic features in a series of 47 patients with conventional chondrosa...</td>\n",
       "      <td>False</td>\n",
       "    </tr>\n",
       "    <tr>\n",
       "      <th>4094</th>\n",
       "      <td>0002989</td>\n",
       "      <td>Long-term therapeutic use of benzodiazepines. I. Effects of abrupt discontinuation [published erratum appears in Arch Gen Psychiatry 1991 Jan;48(1):51]\\n We compared the effect of abrupt discontin...</td>\n",
       "      <td>False</td>\n",
       "    </tr>\n",
       "    <tr>\n",
       "      <th>2947</th>\n",
       "      <td>0007831</td>\n",
       "      <td>Acetabular dysplasia in the adolescent and young adult.\\n Hip dysplasia is a major cause of osteoarthrosis in adults.\\n Early aggressive osteotomy has the potential of preventing the development o...</td>\n",
       "      <td>False</td>\n",
       "    </tr>\n",
       "    <tr>\n",
       "      <th>6242</th>\n",
       "      <td>0009785</td>\n",
       "      <td>A controlled trial of clobetasol propionate ointment 0.05% in the treatment of experimentally induced Rhus dermatitis.\\n We studied the effectiveness of clobetasol propionate ointment 0.05% in exp...</td>\n",
       "      <td>False</td>\n",
       "    </tr>\n",
       "    <tr>\n",
       "      <th>4022</th>\n",
       "      <td>0000780</td>\n",
       "      <td>Plastic bullet arterial embolization following gunshot injury to the heart. Case report and review of the literature.\\n A plastic bullet penetrating the heart through the right ventricle embolized...</td>\n",
       "      <td>True</td>\n",
       "    </tr>\n",
       "  </tbody>\n",
       "</table>\n",
       "</div>"
      ],
      "text/plain": [
       "        DOCID                                                                                                                                                                                                NOTE_TEXT CATEGORY\n",
       "5110  0004108  Pivotal role of early and sustained infarct vessel patency in patients with acute myocardial infarction.\\n Thrombolytic therapy in acute myocardial infarction unequivocally has improved short- and...     True\n",
       "4612  0000754  Transient cyst-like cortical defects following fractures in children. Medullary fat within the subperiosteal haematoma.\\n Asymptomatic cyst-like cortical defects appearing after fractures in child...    False\n",
       "590   0009363  Soft-tissue tumor with abnormal amianthoid collagen fibers.\\n Electron microscopic examination of a solitary soft-tissue tumor from the face demonstrated large areas with abnormal amianthoid colla...    False\n",
       "3139  0008807  Estrogen receptor localization in normal and neoplastic epithelium of the uterine cervix.\\n To investigate the estrogen receptor (ER) status of cells during carcinogenesis of the uterine cervix, t...    False\n",
       "1350  0004782  Unusual blink reflex with four components in a patient with periodic ataxia.\\n Characteristic findings in blink reflex are reported in a 55-year-old female with periodic ataxia.\\n The blink reflex...    False\n",
       "1089  0005836  Breathing exercises for the medical patient: the art and the science.\\n The art of breathing exercises can be traced to the late 1800s.\\n In the past 10 years, the increased demand for treatment f...    False\n",
       "2429  0005925  Endocarditis due to ampicillin-resistant nontyphoid Salmonella: cure with a third-generation cephalosporin.\\n A case of ampicillin-resistant salmonella bacteremia complicated by endocarditis in a ...     True\n",
       "2023  0000040  Influence of Doppler sample volume location on the assessment of changes in mitral inflow velocity profiles.\\n Previous studies that have validated Doppler indexes of mitral inflow have used pulse...     True\n",
       "5962  0008398  Filler DNA is associated with spontaneous deletions in maize.\\n We have determined the structure of five spontaneous deletions within the maize waxy (Wx) gene.\\n Of these, four were found in spont...    False\n",
       "1837  0009546  Influence of phosphatidylcholine on ultrafiltration and solute transfer in CAPD patients.\\n Fifteen patients (mean age 59.9 +/- 16.1 years) treated by CAPD for a mean of 21.6 +/- 14 months, underw...    False\n",
       "346   0004808  Changes in the clearance of total and unbound etoposide in patients with liver dysfunction.\\n The disposition of total and non-protein-bound etoposide was investigated in 21 cancer patients receiv...    False\n",
       "3060  0004457  The role of antihistamines in atopic dermatitis.\\n Although several lines of evidence support a role for histamine in the pathogenesis of atopic dermatitis, antihistamines have generally offered o...    False\n",
       "25    0002892  Comparison of cilofungin and amphotericin B for therapy of murine candidiasis.\\n We compared the efficacies of cilofungin and amphotericin B treatment in a murine model of disseminated candidiasis...    False\n",
       "1556  0005587  Glaucomatous optic nerve atrophy in small discs with low cup-to-disc ratios \\n Glaucomatous optic nerve damage has generally been associated with high cup-to-disc ratios.\\n Fifteen eyes of nine pa...    False\n",
       "3823  0006721  Circadian basis of the late asthmatic response.\\n The late asthmatic response (LAR) to an allergen challenge has a marked impact on lung function in the patient with asthma.\\n Virtually all studie...    False\n",
       "605   0000203  Chondrosarcoma of bone in children.\\n Chondrosarcoma of bone rarely occurs in children.\\n This report analyzes the clinicopathologic features in a series of 47 patients with conventional chondrosa...    False\n",
       "4094  0002989  Long-term therapeutic use of benzodiazepines. I. Effects of abrupt discontinuation [published erratum appears in Arch Gen Psychiatry 1991 Jan;48(1):51]\\n We compared the effect of abrupt discontin...    False\n",
       "2947  0007831  Acetabular dysplasia in the adolescent and young adult.\\n Hip dysplasia is a major cause of osteoarthrosis in adults.\\n Early aggressive osteotomy has the potential of preventing the development o...    False\n",
       "6242  0009785  A controlled trial of clobetasol propionate ointment 0.05% in the treatment of experimentally induced Rhus dermatitis.\\n We studied the effectiveness of clobetasol propionate ointment 0.05% in exp...    False\n",
       "4022  0000780  Plastic bullet arterial embolization following gunshot injury to the heart. Case report and review of the literature.\\n A plastic bullet penetrating the heart through the right ventricle embolized...     True"
      ]
     },
     "execution_count": 34,
     "metadata": {},
     "output_type": "execute_result"
    }
   ],
   "source": [
    "df_train.sample(20)"
   ]
  },
  {
   "cell_type": "markdown",
   "metadata": {},
   "source": [
    "### How many records do we have in the test / train datasets ?"
   ]
  },
  {
   "cell_type": "code",
   "execution_count": 35,
   "metadata": {
    "collapsed": false
   },
   "outputs": [
    {
     "name": "stdout",
     "output_type": "stream",
     "text": [
      "Training data has:  6286  documents\n",
      "Test data has:  7643  documents\n"
     ]
    }
   ],
   "source": [
    "\n",
    "print 'Training data has: ', len(df_train.index), ' documents'\n",
    "\n",
    "print 'Test data has: ', len(df_test.index), ' documents'"
   ]
  },
  {
   "cell_type": "markdown",
   "metadata": {},
   "source": [
    "### Data distribution"
   ]
  },
  {
   "cell_type": "code",
   "execution_count": 36,
   "metadata": {
    "collapsed": false
   },
   "outputs": [
    {
     "data": {
      "image/png": "[encoded data removed]",
      "text/plain": [
       "<matplotlib.figure.Figure at 0xf20de80>"
      ]
     },
     "metadata": {},
     "output_type": "display_data"
    }
   ],
   "source": [
    "plt.axis('equal')\n",
    "plt.pie(\n",
    "    df_train.CATEGORY.value_counts().tolist(), \n",
    "    labels=['False', 'True'], \n",
    "    autopct='%1.1f%%', \n",
    "    colors=(\"#E13F29\", \"#D69A80\"));"
   ]
  },
  {
   "cell_type": "markdown",
   "metadata": {},
   "source": [
    "**The accuracy of a dumb classifier that classifies all the documents as False is >80%**"
   ]
  },
  {
   "cell_type": "markdown",
   "metadata": {},
   "source": [
    "# Define Target classifier and test method"
   ]
  },
  {
   "cell_type": "code",
   "execution_count": 45,
   "metadata": {
    "collapsed": true
   },
   "outputs": [],
   "source": [
    "from sklearn.feature_extraction.text import CountVectorizer\n",
    "from sklearn.naive_bayes import MultinomialNB\n",
    "from sklearn.grid_search import GridSearchCV\n",
    "from sklearn.pipeline import Pipeline\n",
    "from sklearn.metrics import classification_report, accuracy_score\n",
    "\n",
    "\n",
    "from nltk.stem.porter import *\n",
    "from nltk.tokenize import word_tokenize\n",
    "import string\n",
    "\n",
    "stemmer = PorterStemmer()\n",
    "def stem_tokens(tokens, stemmer):\n",
    "    stemmed = []\n",
    "    for item in tokens:\n",
    "        stemmed.append(stemmer.stem(item))\n",
    "    return stemmed\n",
    "\n",
    "def tokenize(text):\n",
    "    text = \"\".join([ch for ch in text if ch not in string.punctuation])\n",
    "    tokens = word_tokenize(text)\n",
    "    tokens = [item for item in tokens if item.isalpha()]\n",
    "    stems = stem_tokens(tokens, stemmer)\n",
    "    return stems\n",
    "\n",
    "def RenderConfusionMatrix(ytrue, ypred):\n",
    "    \"\"\"\n",
    "    Helper function - renders confusion matrix\n",
    "    \"\"\"\n",
    "    print(pd.crosstab(pd.Series(ytrue), pd.Series(ypred), rownames=['Actual'], colnames=['Predicted'], margins=True)) \n",
    "\n",
    "def TrainAndClassify(df_train, df_test):\n",
    "    \"\"\"\n",
    "    Trains the target classifier with the df_train DataFrame dataset and then \n",
    "    classifies df_test DataFrame dataset, compares the classification results to\n",
    "    the real labels and outputs the performance\n",
    "    \"\"\"    \n",
    "\n",
    "    pipeline = Pipeline([\n",
    "        ('vect', CountVectorizer(tokenizer=tokenize)),\n",
    "        ('clf', MultinomialNB())\n",
    "    ])\n",
    "\n",
    "    # Define some possible parameters for feature extraction and for the classifier\n",
    "    parameters = {\n",
    "        'vect__max_features': (20000, 30000),\n",
    "        'vect__ngram_range': ((1, 1), (1, 2)),  # unigrams or bigrams\n",
    "        'clf__alpha': (0.1, 0.2)\n",
    "    }\n",
    "\n",
    "    # find the best parameters for both the feature extraction and the\n",
    "    # classifier, based on the scorer function we defined\n",
    "    grid_search = GridSearchCV(pipeline, parameters, verbose=1)\n",
    "    \n",
    "    # Fit a classifier to the training data\n",
    "    grid_search.fit(df_train['NOTE_TEXT'].tolist(), df_train.CATEGORY.tolist())\n",
    "    \n",
    "    # Make predictions on the test data\n",
    "    predictions = grid_search.predict(df_test['NOTE_TEXT'].tolist())\n",
    "    \n",
    "    # Render confusion matrix\n",
    "    RenderConfusionMatrix(df_test.CATEGORY.tolist(), predictions)\n",
    "    \n",
    "    # Output performance\n",
    "    print\n",
    "    print 'Accuracy: ', accuracy_score(df_test.CATEGORY.tolist(), predictions)\n",
    "    print\n",
    "    print classification_report(df_test.CATEGORY.tolist(), predictions)"
   ]
  },
  {
   "cell_type": "markdown",
   "metadata": {},
   "source": [
    "# Train with randomly selected 1000 samples from the test data"
   ]
  },
  {
   "cell_type": "code",
   "execution_count": 46,
   "metadata": {
    "collapsed": true
   },
   "outputs": [],
   "source": [
    "def ExploreData(df):\n",
    "    \"\"\"\n",
    "    Helper function - data exploration\n",
    "    \"\"\"\n",
    "    print ('Training data has: ', len(df.index), ' documents')\n",
    "    print (df.columns)\n",
    "    print ('The shape of the data is ', (df.shape))\n",
    "    plt.axis('equal')\n",
    "    plt.pie(\n",
    "        df.CATEGORY.value_counts().tolist(), \n",
    "        labels=['False', 'True'], \n",
    "        autopct='%1.1f%%', \n",
    "        colors=(\"#E13F29\", \"#D69A80\"));"
   ]
  },
  {
   "cell_type": "code",
   "execution_count": 47,
   "metadata": {
    "collapsed": false
   },
   "outputs": [
    {
     "name": "stdout",
     "output_type": "stream",
     "text": [
      "('Training data has: ', 1000, ' documents')\n",
      "Index([u'DOCID', u'NOTE_TEXT', u'CATEGORY'], dtype='object')\n",
      "('The shape of the data is ', (1000, 3))\n"
     ]
    },
    {
     "data": {
      "image/png": "[encoded data removed]",
      "text/plain": [
       "<matplotlib.figure.Figure at 0x105db278>"
      ]
     },
     "metadata": {},
     "output_type": "display_data"
    }
   ],
   "source": [
    "K = 1000 # I will take the first 1,000 documents. Note:: the 1st 2,000 docs don't have any True results for category.\n",
    "L = 50   # The number of new documents to add to the training set.\n",
    "\n",
    "\n",
    "#P1 should be K randome samples, thuse we are more likely to get T/F in category.\n",
    "P1 = df_train.sample(K)\n",
    "\n",
    "ExploreData(P1)"
   ]
  },
  {
   "cell_type": "code",
   "execution_count": 48,
   "metadata": {
    "collapsed": false
   },
   "outputs": [
    {
     "name": "stderr",
     "output_type": "stream",
     "text": [
      "[Parallel(n_jobs=1)]: Done   1 jobs       | elapsed:    2.7s\n",
      "[Parallel(n_jobs=1)]: Done  24 out of  24 | elapsed:  1.2min finished\n"
     ]
    },
    {
     "name": "stdout",
     "output_type": "stream",
     "text": [
      "Fitting 3 folds for each of 8 candidates, totalling 24 fits\n",
      "Predicted  False  True   All\n",
      "Actual                      \n",
      "False       5996   346  6342\n",
      "True         359   942  1301\n",
      "All         6355  1288  7643\n",
      "\n",
      "Accuracy:  0.907758733482\n",
      "\n",
      "             precision    recall  f1-score   support\n",
      "\n",
      "      False       0.94      0.95      0.94      6342\n",
      "       True       0.73      0.72      0.73      1301\n",
      "\n",
      "avg / total       0.91      0.91      0.91      7643\n",
      "\n"
     ]
    }
   ],
   "source": [
    "TrainAndClassify(P1, df_test)"
   ]
  }
 ],
 "metadata": {
  "kernelspec": {
   "display_name": "Python 2",
   "language": "python",
   "name": "python2"
  },
  "language_info": {
   "codemirror_mode": {
    "name": "ipython",
    "version": 2
   },
   "file_extension": ".py",
   "mimetype": "text/x-python",
   "name": "python",
   "nbconvert_exporter": "python",
   "pygments_lexer": "ipython2",
   "version": "2.7.11"
  }
 },
 "nbformat": 4,
 "nbformat_minor": 0
}
