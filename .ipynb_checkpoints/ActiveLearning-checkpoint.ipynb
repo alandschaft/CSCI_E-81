{
 "cells": [
  {
   "cell_type": "markdown",
   "metadata": {
    "slideshow": {
     "slide_type": "-"
    }
   },
   "source": [
    "# Active Learning - Committee-Based Sampling\n",
    "\n",
    "The purpose of this notebook is to demonstrate the Active Learning technique: Committee-Based Sampling"
   ]
  },
  {
   "cell_type": "markdown",
   "metadata": {},
   "source": [
    "## Standard imports and settings"
   ]
  },
  {
   "cell_type": "code",
   "execution_count": 2,
   "metadata": {
    "collapsed": true
   },
   "outputs": [],
   "source": [
    "%matplotlib inline\n",
    "import matplotlib as mpl\n",
    "mpl.rcParams['font.size'] = 16.0\n",
    "import matplotlib.pyplot as plt\n",
    "import numpy as np\n",
    "import pandas as pd            # process data with pandas dataframe\n",
    "pd.set_option('display.width', 500)\n",
    "pd.set_option('display.max_columns', 100)\n",
    "pd.set_option('display.notebook_repr_html', True)\n",
    "import seaborn as sns\n",
    "sns.set_style(\"whitegrid\")\n",
    "sns.set_context(\"poster\")\n",
    "import time\n",
    "import os"
   ]
  },
  {
   "cell_type": "markdown",
   "metadata": {},
   "source": [
    "# The data \n",
    "\n",
    "The **Ohsumed** test collection (available at <ftp://medir.ohsu.edu/pub/ohsumed>) is a subset of the MEDLINE database, which is a bibliographic database of important, peer-reviewed medical literature maintained by the National Library of Medicine. The initial subset I consider in the project is the collection consisting of the first 20,000 documents from the 50,216 medical abstracts of the year 1991. The classification scheme consists of the 23 Medical Subject Headings (MeSH) categories of cardiovascular diseases group: \n",
    "\n",
    "| Category      | Description   |        \n",
    "| ------------- | ------------- |\n",
    "| C01 | Bacterial Infections and Mycoses |\n",
    "| C02 | Virus Diseases |\n",
    "| C03 | Parasitic Diseases |\n",
    "| C04 | Neoplasms |\n",
    "| C05 | Musculoskeletal Diseases |\n",
    "| C06 | Digestive System Diseases |\n",
    "| C07 | Stomatognathic Diseases |\n",
    "| C08 | Respiratory Tract Diseases |\n",
    "| C09 | Otorhinolaryngologic Diseases |\n",
    "| C10 | Nervous System Diseases |\n",
    "| C11 | Eye Diseases |\n",
    "| C12 | Urologic and Male Genital Diseases |\n",
    "| C13 | Female Genital Diseases and Pregnancy Complications |\n",
    "| C14 | Cardiovascular Diseases |\n",
    "| C15 | Hemic and Lymphatic Diseases |\n",
    "| C16 | Neonatal Diseases and Abnormalities |\n",
    "| C17 | Skin and Connective Tissue Diseases |\n",
    "| C18 | Nutritional and Metabolic Diseases |\n",
    "| C19 | Endocrine Diseases |\n",
    "| C20 | Immunologic Diseases |\n",
    "| C21 | Disorders of Environmental Origin |\n",
    "| C22 | Animal Diseases |\n",
    "| C23 | Pathological Conditions, Signs and Symptoms |\n",
    "\n",
    "\n",
    "## Downloading the data:\n",
    "\n",
    "* [Cardiovascular diseases abstracts](http://disi.unitn.it/moschitti/corpora/ohsumed-first-20000-docs.tar.gz) (the first 20,000 abstracts of the year 1991)\n",
    "\n",
    "** The following code assumes that the data is extracted into folder with the name 'Data' in the same folder of the IPython notebook**\n",
    "\n",
    "## Storing the data in a sql database\n",
    "\n",
    "The following code iterates over the extracted data and converts the ohsumed directory structure to a single sqlite databse with the data. The original dataset is already divided to Test and Training datasets. We will keep this division."
   ]
  },
  {
   "cell_type": "code",
   "execution_count": 3,
   "metadata": {
    "collapsed": false
   },
   "outputs": [],
   "source": [
    "import sqlite3 as sqlite\n",
    "\n",
    "def get_all_tables(c):\n",
    "    \"\"\"\n",
    "    Helper function - Gets a list of all the tables in the database.\n",
    "    \"\"\"\n",
    "    all_tables = []\n",
    "    c.execute('SELECT name FROM SQLITE_MASTER WHERE type = \"table\"')\n",
    "    for tbl in c:\n",
    "        all_tables.append(tbl[0])\n",
    "    return all_tables\n",
    "\n",
    "def drop_tables(c, tables):\n",
    "    \"\"\"\n",
    "    Helper function - Checks that the specified tables exist, and for those that do, drop them.\n",
    "    \"\"\"\n",
    "    all_tables = get_all_tables(c)\n",
    "    for t in tables:\n",
    "        if t in all_tables:\n",
    "            c.execute('DROP TABLE %s' % t)\n",
    "\n",
    "def create_documents_table(c):\n",
    "    \"\"\"\n",
    "    Helper function - This function uses SQL to create the Documents table\n",
    "    \"\"\"\n",
    "    drop_tables(c, [ 'Documents' ])\n",
    "    c.execute(\"\"\"CREATE TABLE Documents ( \n",
    "            DOCID TEXT PRIMARY KEY,\n",
    "            NOTE_TEXT TEXT, \n",
    "            CATEGORY TEXT\n",
    "        )\"\"\")\n",
    "\n",
    "def add_document(c, docid, text, category):\n",
    "    \"\"\"\n",
    "    Helper function - Adds one document to sql Documents database\n",
    "    \"\"\"\n",
    "    c.execute('insert or replace into Documents values ( ?, ?, ? )', (docid, text, category))\n",
    "\n",
    "def ohsumed2sqlite(src_root_dir, dest_sqlite):\n",
    "    start_time = time.time()\n",
    "    print 'Converting ohsumed directory structure {0} to sqlite database'.format(src_root_dir)\n",
    "\n",
    "    conn_out = sqlite.connect(dest_sqlite)\n",
    "    c_out = conn_out.cursor()\n",
    "\n",
    "    fout = open(dest_sqlite, 'w')\n",
    "    fout.close()\n",
    "\n",
    "    create_documents_table(c_out)\n",
    "    # Process the ohsumed directory\n",
    "    dict = {}\n",
    "    for root, dirs, files in os.walk(src_root_dir):\n",
    "        for f in files:\n",
    "            category = os.path.basename(root) # directory name is the category\n",
    "            with open (os.path.join(root, f), \"r\") as cur_file:\n",
    "                data=cur_file.read()\n",
    "                if f in dict:\n",
    "                    category = dict[f] + ',' + category\n",
    "                dict[f] = category\n",
    "                add_document(c_out, f, data, category)\n",
    "    conn_out.commit()\n",
    "    c_out.close()\n",
    "    print(\"--- ohsumed2sqlite %s seconds ---\" % (time.time() - start_time))"
   ]
  },
  {
   "cell_type": "code",
   "execution_count": 8,
   "metadata": {
    "collapsed": false
   },
   "outputs": [
    {
     "name": "stdout",
     "output_type": "stream",
     "text": [
      "Converting ohsumed directory structure .\\Data\\ohsumed-first-20000-docs\\training to sqlite database\n",
      "--- ohsumed2sqlite 3.05200004578 seconds ---\n",
      "Converting ohsumed directory structure .\\Data\\ohsumed-first-20000-docs\\test to sqlite database\n",
      "--- ohsumed2sqlite 3.84100008011 seconds ---\n"
     ]
    }
   ],
   "source": [
    "# Convert the training data\n",
    "ohsumed2sqlite('.\\\\Data\\\\ohsumed-first-20000-docs\\\\training', 'training.sqlite')\n",
    "\n",
    "# Convert the test data\n",
    "ohsumed2sqlite('.\\\\Data\\\\ohsumed-first-20000-docs\\\\test', 'test.sqlite')"
   ]
  },
  {
   "cell_type": "markdown",
   "metadata": {},
   "source": [
    "## Data exploration and preparation \n",
    "\n"
   ]
  },
  {
   "cell_type": "markdown",
   "metadata": {},
   "source": [
    "### Read the data from the sqlite databases into Pandas dataframes"
   ]
  },
  {
   "cell_type": "code",
   "execution_count": 9,
   "metadata": {
    "collapsed": false
   },
   "outputs": [],
   "source": [
    "con = sqlite.connect('training.sqlite')\n",
    "\n",
    "df_train = pd.read_sql_query(\"SELECT * from Documents\", con)\n",
    "\n",
    "con.close()\n",
    "\n",
    "con = sqlite.connect('test.sqlite')\n",
    "\n",
    "df_test = pd.read_sql_query(\"SELECT * from Documents\", con)\n",
    "\n",
    "con.close()\n"
   ]
  },
  {
   "cell_type": "markdown",
   "metadata": {},
   "source": [
    "### Output a random sample of 20 records"
   ]
  },
  {
   "cell_type": "code",
   "execution_count": 10,
   "metadata": {
    "collapsed": false,
    "scrolled": true
   },
   "outputs": [
    {
     "data": {
      "text/html": [
       "<div>\n",
       "<table border=\"1\" class=\"dataframe\">\n",
       "  <thead>\n",
       "    <tr style=\"text-align: right;\">\n",
       "      <th></th>\n",
       "      <th>DOCID</th>\n",
       "      <th>NOTE_TEXT</th>\n",
       "      <th>CATEGORY</th>\n",
       "    </tr>\n",
       "  </thead>\n",
       "  <tbody>\n",
       "    <tr>\n",
       "      <th>6122</th>\n",
       "      <td>0009240</td>\n",
       "      <td>Increased septic complications with three-drug sequential immunosuppression for cadaver renal transplants.\\n In 152 renal transplant recipients, the results of immunosuppression with three-drug se...</td>\n",
       "      <td>C01,C02,C23</td>\n",
       "    </tr>\n",
       "    <tr>\n",
       "      <th>2603</th>\n",
       "      <td>0007796</td>\n",
       "      <td>Baroreflex control of renal sympathetic nerve activity is potentiated at early phase of two-kidney, one-clip Goldblatt hypertension in conscious rabbits.\\n Conscious normotensive and two-kidney, o...</td>\n",
       "      <td>C14</td>\n",
       "    </tr>\n",
       "    <tr>\n",
       "      <th>2611</th>\n",
       "      <td>0007880</td>\n",
       "      <td>Systemic hypertension in sleep apnea syndrome. Relationship with sleep architecture and breathing abnormalities.\\n To examine the possible relationship between systemic HT and SAS we compared 21 h...</td>\n",
       "      <td>C08,C10,C14</td>\n",
       "    </tr>\n",
       "    <tr>\n",
       "      <th>4533</th>\n",
       "      <td>0000332</td>\n",
       "      <td>Combined laminoplasty and posterolateral fusion for spinal canal surgery in children and adolescents.\\n Spinal deformities, especially kyphosis and instability, after laminectomy for tumors and ot...</td>\n",
       "      <td>C04,C05,C23</td>\n",
       "    </tr>\n",
       "    <tr>\n",
       "      <th>5489</th>\n",
       "      <td>0006230</td>\n",
       "      <td>Transient left ventricular cavitary dilation during dipyridamole-thallium imaging as an indicator of severe coronary artery disease.\\n Transient left ventricular (LV) cavitary dilation during dipy...</td>\n",
       "      <td>C14,C23</td>\n",
       "    </tr>\n",
       "    <tr>\n",
       "      <th>2899</th>\n",
       "      <td>0004948</td>\n",
       "      <td>Early ribavirin treatment of respiratory syncytial viral infection in high-risk children.\\n A 3-year prospective, blinded, multicenter study was done to assess the efficacy of early ribavirin inte...</td>\n",
       "      <td>C02,C08,C16</td>\n",
       "    </tr>\n",
       "    <tr>\n",
       "      <th>3972</th>\n",
       "      <td>0009409</td>\n",
       "      <td>Differences in knowledge of and risk factors for AIDS between Hispanic and non-Hispanic women attending an urban family planning clinic.\\n Risk factors for AIDS, contraceptive use, seroprevalence ...</td>\n",
       "      <td>C20</td>\n",
       "    </tr>\n",
       "    <tr>\n",
       "      <th>2885</th>\n",
       "      <td>0003538</td>\n",
       "      <td>Hypoplastic left heart syndrome. Outcome after initial reconstruction and before modified Fontan procedure.\\n The outcome and clinical course before modified Fontan procedure were reviewed for 200...</td>\n",
       "      <td>C16</td>\n",
       "    </tr>\n",
       "    <tr>\n",
       "      <th>3480</th>\n",
       "      <td>0003963</td>\n",
       "      <td>Relationship between blood pressure and urinary albumin excretion in development of microalbuminuria.\\n Two hundred nine consecutive normotensive insulin-dependent diabetic (IDDM) patients were fo...</td>\n",
       "      <td>C12,C18,C19</td>\n",
       "    </tr>\n",
       "    <tr>\n",
       "      <th>5799</th>\n",
       "      <td>0007565</td>\n",
       "      <td>Usefulness of tomographic thallium-201 imaging for detection of restenosis after percutaneous transluminal coronary angioplasty.\\n The role of tomographic thallium-201 exercise and redistribution ...</td>\n",
       "      <td>C14,C23</td>\n",
       "    </tr>\n",
       "    <tr>\n",
       "      <th>5927</th>\n",
       "      <td>0008242</td>\n",
       "      <td>Outcome of pregnancies experienced during residency.\\n To investigate potential adverse effects of residency training on pregnancy outcome, a cohort study was conducted among 45 university-affilia...</td>\n",
       "      <td>C10,C13,C23</td>\n",
       "    </tr>\n",
       "    <tr>\n",
       "      <th>6269</th>\n",
       "      <td>0009945</td>\n",
       "      <td>The systemic septic response: concepts of pathogenesis.\\n Following resuscitation from shock, the clinical phase of persistent hypermetabolism is entered from which a substantial number of patient...</td>\n",
       "      <td>C01,C23</td>\n",
       "    </tr>\n",
       "    <tr>\n",
       "      <th>553</th>\n",
       "      <td>0008803</td>\n",
       "      <td>Expression of placental alkaline phosphatase in gastric and colorectal cancers. An immunohistochemical study using the prepared monoclonal antibody.\\n The authors developed monoclonal antibodies (...</td>\n",
       "      <td>C04</td>\n",
       "    </tr>\n",
       "    <tr>\n",
       "      <th>572</th>\n",
       "      <td>0009061</td>\n",
       "      <td>Embryonic stem cell virus, a recombinant murine retrovirus with expression in embryonic stem cells.\\n The expression of Moloney murine leukemia virus and vectors derived from it is restricted in u...</td>\n",
       "      <td>C04</td>\n",
       "    </tr>\n",
       "    <tr>\n",
       "      <th>666</th>\n",
       "      <td>0006040</td>\n",
       "      <td>Effects of rib elongation on the spine. I. Distortion of the vertebral alignment in the rabbit.\\n Elongation of one rib on the right side by 1 cm was achieved in two groups of adult rabbits of dif...</td>\n",
       "      <td>C05</td>\n",
       "    </tr>\n",
       "    <tr>\n",
       "      <th>4413</th>\n",
       "      <td>0009901</td>\n",
       "      <td>Orthostatic hypotension in human immunodeficiency virus infection may be the result of generalized autonomic nervous system dysfunction.\\n We used an autonomic nervous system (ANS) testing battery...</td>\n",
       "      <td>C14,C20,C21</td>\n",
       "    </tr>\n",
       "    <tr>\n",
       "      <th>149</th>\n",
       "      <td>0004664</td>\n",
       "      <td>Bacterial infections in patients with visceral leishmaniasis.\\n Bacterial infections are often seen in patients with visceral leishmaniasis.\\n To determine the incidence of such infection and the ...</td>\n",
       "      <td>C01,C03</td>\n",
       "    </tr>\n",
       "    <tr>\n",
       "      <th>1433</th>\n",
       "      <td>0006992</td>\n",
       "      <td>Cerebrospinal fluid as a reflector of central cholinergic and amino acid neurotransmitter activity in cerebellar ataxia.\\n Cerebrospinal fluid (CSF) amino acid neurotransmitters, related compounds...</td>\n",
       "      <td>C10</td>\n",
       "    </tr>\n",
       "    <tr>\n",
       "      <th>1717</th>\n",
       "      <td>0005051</td>\n",
       "      <td>Long-term urinary continence and renal function in neonates with posterior urethral valves.\\n Posterior urethral valves are known to be associated with considerable morbidity and mortality especia...</td>\n",
       "      <td>C12</td>\n",
       "    </tr>\n",
       "    <tr>\n",
       "      <th>168</th>\n",
       "      <td>0000084</td>\n",
       "      <td>Genotypic characterization of centrocytic lymphoma: frequent rearrangement of the chromosome 11 bcl-1 locus.\\n Centrocytic lymphomas are defined in the Kiel classification as B-cell lymphomas comp...</td>\n",
       "      <td>C04</td>\n",
       "    </tr>\n",
       "  </tbody>\n",
       "</table>\n",
       "</div>"
      ],
      "text/plain": [
       "        DOCID                                                                                                                                                                                                NOTE_TEXT     CATEGORY\n",
       "6122  0009240  Increased septic complications with three-drug sequential immunosuppression for cadaver renal transplants.\\n In 152 renal transplant recipients, the results of immunosuppression with three-drug se...  C01,C02,C23\n",
       "2603  0007796  Baroreflex control of renal sympathetic nerve activity is potentiated at early phase of two-kidney, one-clip Goldblatt hypertension in conscious rabbits.\\n Conscious normotensive and two-kidney, o...          C14\n",
       "2611  0007880  Systemic hypertension in sleep apnea syndrome. Relationship with sleep architecture and breathing abnormalities.\\n To examine the possible relationship between systemic HT and SAS we compared 21 h...  C08,C10,C14\n",
       "4533  0000332  Combined laminoplasty and posterolateral fusion for spinal canal surgery in children and adolescents.\\n Spinal deformities, especially kyphosis and instability, after laminectomy for tumors and ot...  C04,C05,C23\n",
       "5489  0006230  Transient left ventricular cavitary dilation during dipyridamole-thallium imaging as an indicator of severe coronary artery disease.\\n Transient left ventricular (LV) cavitary dilation during dipy...      C14,C23\n",
       "2899  0004948  Early ribavirin treatment of respiratory syncytial viral infection in high-risk children.\\n A 3-year prospective, blinded, multicenter study was done to assess the efficacy of early ribavirin inte...  C02,C08,C16\n",
       "3972  0009409  Differences in knowledge of and risk factors for AIDS between Hispanic and non-Hispanic women attending an urban family planning clinic.\\n Risk factors for AIDS, contraceptive use, seroprevalence ...          C20\n",
       "2885  0003538  Hypoplastic left heart syndrome. Outcome after initial reconstruction and before modified Fontan procedure.\\n The outcome and clinical course before modified Fontan procedure were reviewed for 200...          C16\n",
       "3480  0003963  Relationship between blood pressure and urinary albumin excretion in development of microalbuminuria.\\n Two hundred nine consecutive normotensive insulin-dependent diabetic (IDDM) patients were fo...  C12,C18,C19\n",
       "5799  0007565  Usefulness of tomographic thallium-201 imaging for detection of restenosis after percutaneous transluminal coronary angioplasty.\\n The role of tomographic thallium-201 exercise and redistribution ...      C14,C23\n",
       "5927  0008242  Outcome of pregnancies experienced during residency.\\n To investigate potential adverse effects of residency training on pregnancy outcome, a cohort study was conducted among 45 university-affilia...  C10,C13,C23\n",
       "6269  0009945  The systemic septic response: concepts of pathogenesis.\\n Following resuscitation from shock, the clinical phase of persistent hypermetabolism is entered from which a substantial number of patient...      C01,C23\n",
       "553   0008803  Expression of placental alkaline phosphatase in gastric and colorectal cancers. An immunohistochemical study using the prepared monoclonal antibody.\\n The authors developed monoclonal antibodies (...          C04\n",
       "572   0009061  Embryonic stem cell virus, a recombinant murine retrovirus with expression in embryonic stem cells.\\n The expression of Moloney murine leukemia virus and vectors derived from it is restricted in u...          C04\n",
       "666   0006040  Effects of rib elongation on the spine. I. Distortion of the vertebral alignment in the rabbit.\\n Elongation of one rib on the right side by 1 cm was achieved in two groups of adult rabbits of dif...          C05\n",
       "4413  0009901  Orthostatic hypotension in human immunodeficiency virus infection may be the result of generalized autonomic nervous system dysfunction.\\n We used an autonomic nervous system (ANS) testing battery...  C14,C20,C21\n",
       "149   0004664  Bacterial infections in patients with visceral leishmaniasis.\\n Bacterial infections are often seen in patients with visceral leishmaniasis.\\n To determine the incidence of such infection and the ...      C01,C03\n",
       "1433  0006992  Cerebrospinal fluid as a reflector of central cholinergic and amino acid neurotransmitter activity in cerebellar ataxia.\\n Cerebrospinal fluid (CSF) amino acid neurotransmitters, related compounds...          C10\n",
       "1717  0005051  Long-term urinary continence and renal function in neonates with posterior urethral valves.\\n Posterior urethral valves are known to be associated with considerable morbidity and mortality especia...          C12\n",
       "168   0000084  Genotypic characterization of centrocytic lymphoma: frequent rearrangement of the chromosome 11 bcl-1 locus.\\n Centrocytic lymphomas are defined in the Kiel classification as B-cell lymphomas comp...          C04"
      ]
     },
     "execution_count": 10,
     "metadata": {},
     "output_type": "execute_result"
    }
   ],
   "source": [
    "pd.options.display.max_colwidth = 200\n",
    "\n",
    "df_train.sample(20)"
   ]
  },
  {
   "cell_type": "markdown",
   "metadata": {},
   "source": [
    "### Creating binary classification dataset\n",
    "\n",
    "** As we see, each document is assigned one class or more. ** In this exercise I would like to implement a simple binary classification workflow, so I define 2 binary classes:\n",
    "* **Positive / True** - Documents that belong to class **C14 - Cardiovascular Diseases**\n",
    "* **Negative / False** - Documents that do not belong to C14\n",
    "\n",
    "The following code converts that data to a binary classification dataset:\n"
   ]
  },
  {
   "cell_type": "code",
   "execution_count": 11,
   "metadata": {
    "collapsed": false
   },
   "outputs": [],
   "source": [
    "import re\n",
    "\n",
    "def ConvertCategoryColToBinVal(df, poscat):\n",
    "    df['CATEGORY'] = df['CATEGORY'].apply(lambda x: bool(re.search(poscat, x, re.IGNORECASE) and True))\n",
    "    \n",
    "ConvertCategoryColToBinVal(df_train, 'C14')\n",
    "\n",
    "ConvertCategoryColToBinVal(df_test, 'C14')"
   ]
  },
  {
   "cell_type": "markdown",
   "metadata": {},
   "source": [
    "Let's take another look at the data:"
   ]
  },
  {
   "cell_type": "code",
   "execution_count": 12,
   "metadata": {
    "collapsed": false
   },
   "outputs": [
    {
     "data": {
      "text/html": [
       "<div>\n",
       "<table border=\"1\" class=\"dataframe\">\n",
       "  <thead>\n",
       "    <tr style=\"text-align: right;\">\n",
       "      <th></th>\n",
       "      <th>DOCID</th>\n",
       "      <th>NOTE_TEXT</th>\n",
       "      <th>CATEGORY</th>\n",
       "    </tr>\n",
       "  </thead>\n",
       "  <tbody>\n",
       "    <tr>\n",
       "      <th>2351</th>\n",
       "      <td>0004206</td>\n",
       "      <td>Assessment of major venous anomalies by computerized tomography.\\n Congenital anomalies of major venous structures are not common but their identification and relative position, particularly in re...</td>\n",
       "      <td>True</td>\n",
       "    </tr>\n",
       "    <tr>\n",
       "      <th>5748</th>\n",
       "      <td>0007313</td>\n",
       "      <td>Precipitated abstinence in orally dosed benzodiazepine-dependent dogs.\\n The ability of graded doses of flumazenil (2, 6, 18, 36 and 72 mg/kg) and a lactose placebo to precipitate abstinence was s...</td>\n",
       "      <td>False</td>\n",
       "    </tr>\n",
       "    <tr>\n",
       "      <th>3537</th>\n",
       "      <td>0008339</td>\n",
       "      <td>Genetic evidence equating SRY and the testis-determining factor.\\n The testis-determining factor gene (TDF) lies on the Y chromosome and is responsible for initiating male sex determination.\\n SRY...</td>\n",
       "      <td>False</td>\n",
       "    </tr>\n",
       "    <tr>\n",
       "      <th>787</th>\n",
       "      <td>0003010</td>\n",
       "      <td>Acalculus lymphoeosinophilic cholecystitis associated with interleukin-2 and lymphokine-activated killer cell therapy.\\n A case of unusual cholecystitis that developed on completion of interleukin...</td>\n",
       "      <td>False</td>\n",
       "    </tr>\n",
       "    <tr>\n",
       "      <th>3747</th>\n",
       "      <td>0005161</td>\n",
       "      <td>The HIV-testing policies of US hospitals \\n To determine the human immunodeficiency virus-testing policies adopted by US hospitals, we surveyed a stratified random sample of all nonfederal general...</td>\n",
       "      <td>False</td>\n",
       "    </tr>\n",
       "    <tr>\n",
       "      <th>6105</th>\n",
       "      <td>0009156</td>\n",
       "      <td>Prevalence and prognostic significance of exercise-induced ventricular arrhythmias after coronary artery bypass grafting.\\n Exercise-induced ventricular arrhythmias occur often after coronary arte...</td>\n",
       "      <td>False</td>\n",
       "    </tr>\n",
       "    <tr>\n",
       "      <th>3460</th>\n",
       "      <td>0003005</td>\n",
       "      <td>Solid and cystic ultimobranchial body remnants in the thyroid.\\n In this study we determined the incidence rate (89%) and characterized the morphology of ultimobranchial body (UBB) remnants found ...</td>\n",
       "      <td>False</td>\n",
       "    </tr>\n",
       "    <tr>\n",
       "      <th>5441</th>\n",
       "      <td>0006021</td>\n",
       "      <td>Adenocarcinoma of the appendiceal stump.\\n We have reported the case of a 58-year-old woman with nonspecific abdominal complaints in whom barium enema and subsequent colonoscopy showed a 3 cm lobu...</td>\n",
       "      <td>False</td>\n",
       "    </tr>\n",
       "    <tr>\n",
       "      <th>938</th>\n",
       "      <td>0009716</td>\n",
       "      <td>Role of upper gastrointestinal investigations in a screening study for colorectal neoplasia.\\n Should patients with positive faecal occult blood screening tests who are free of colorectal neoplasi...</td>\n",
       "      <td>False</td>\n",
       "    </tr>\n",
       "    <tr>\n",
       "      <th>2383</th>\n",
       "      <td>0004536</td>\n",
       "      <td>Ultrasound-Doppler diagnosis of Budd-Chiari syndrome.\\n We report a case of apparently idiopathic Budd-Chiari syndrome, diagnosed by ultrasound and Doppler sonography, in a patient with latent mye...</td>\n",
       "      <td>True</td>\n",
       "    </tr>\n",
       "    <tr>\n",
       "      <th>601</th>\n",
       "      <td>0009779</td>\n",
       "      <td>Active specific immunotherapy in patients with melanoma. A clinical trial with mouse antiidiotypic monoclonal antibodies elicited with syngeneic anti-high-molecular-weight-melanoma-associated anti...</td>\n",
       "      <td>False</td>\n",
       "    </tr>\n",
       "    <tr>\n",
       "      <th>4862</th>\n",
       "      <td>0002925</td>\n",
       "      <td>Ileal pouch-anal anastomosis. Reoperation for pouch-related complications.\\n The aim was to assess the value of reoperative surgery for pouch-related complications after ileal pouch-anal anastomos...</td>\n",
       "      <td>False</td>\n",
       "    </tr>\n",
       "    <tr>\n",
       "      <th>702</th>\n",
       "      <td>0000000</td>\n",
       "      <td>Evaluation of women with possible appendicitis using technetium-99m leukocyte scan.\\n The authors evaluated the use of technetium-99m albumin colloid white blood cell (TAC-WBC) scan in women with ...</td>\n",
       "      <td>False</td>\n",
       "    </tr>\n",
       "    <tr>\n",
       "      <th>5029</th>\n",
       "      <td>0003665</td>\n",
       "      <td>Posterior nuchal cystic hygroma [published erratum appears in Clin Perinatol 1990 Dec;17(4):viii]\\n When cystic hygroma is detected antenatally, the prognosis is usually poor, and intrauterine or ...</td>\n",
       "      <td>False</td>\n",
       "    </tr>\n",
       "    <tr>\n",
       "      <th>239</th>\n",
       "      <td>0002258</td>\n",
       "      <td>Selenium. Nutritional, toxicologic, and clinical aspects \\n Despite the recent findings of environmental contamination, selenium toxicosis in humans is exceedingly rare in the United States, with ...</td>\n",
       "      <td>False</td>\n",
       "    </tr>\n",
       "    <tr>\n",
       "      <th>3021</th>\n",
       "      <td>0002897</td>\n",
       "      <td>Ionizing radiation-induced pemphigus. Case presentations and literature review.\\n Reports of pemphigus following ionizing radiation exposure are rare.\\n We report two cases and review the literatu...</td>\n",
       "      <td>False</td>\n",
       "    </tr>\n",
       "    <tr>\n",
       "      <th>1903</th>\n",
       "      <td>0003784</td>\n",
       "      <td>Endometrioma. An intra-abdominal troublemaker.\\n A ten-year review of intestinal and abdominal wall endometriomas is reported.\\n Seven cases of intestinal and two cases of abdominal wall endometri...</td>\n",
       "      <td>False</td>\n",
       "    </tr>\n",
       "    <tr>\n",
       "      <th>4549</th>\n",
       "      <td>0000416</td>\n",
       "      <td>Laryngomalacia in children.\\n Two hundred three (68 percent) of 297 children with laryngomalacia had associated respiratory disorders by flexible fiberoptic bronchoscopy (FFB).\\n Associated disord...</td>\n",
       "      <td>False</td>\n",
       "    </tr>\n",
       "    <tr>\n",
       "      <th>1821</th>\n",
       "      <td>0009426</td>\n",
       "      <td>Shortening of the hemodialysis procedure and mortality in \"healthy\" dialysis patients.\\n The influence of shortening chronic hemodialysis on mortality was studied by following cumulative survival ...</td>\n",
       "      <td>False</td>\n",
       "    </tr>\n",
       "    <tr>\n",
       "      <th>3215</th>\n",
       "      <td>0000809</td>\n",
       "      <td>Induction of renal growth and injury in the intact rat kidney by dietary deficiency of antioxidants.\\n We report induction of renal growth and injury in the intact rat kidney using a diet deficien...</td>\n",
       "      <td>False</td>\n",
       "    </tr>\n",
       "  </tbody>\n",
       "</table>\n",
       "</div>"
      ],
      "text/plain": [
       "        DOCID                                                                                                                                                                                                NOTE_TEXT CATEGORY\n",
       "2351  0004206  Assessment of major venous anomalies by computerized tomography.\\n Congenital anomalies of major venous structures are not common but their identification and relative position, particularly in re...     True\n",
       "5748  0007313  Precipitated abstinence in orally dosed benzodiazepine-dependent dogs.\\n The ability of graded doses of flumazenil (2, 6, 18, 36 and 72 mg/kg) and a lactose placebo to precipitate abstinence was s...    False\n",
       "3537  0008339  Genetic evidence equating SRY and the testis-determining factor.\\n The testis-determining factor gene (TDF) lies on the Y chromosome and is responsible for initiating male sex determination.\\n SRY...    False\n",
       "787   0003010  Acalculus lymphoeosinophilic cholecystitis associated with interleukin-2 and lymphokine-activated killer cell therapy.\\n A case of unusual cholecystitis that developed on completion of interleukin...    False\n",
       "3747  0005161  The HIV-testing policies of US hospitals \\n To determine the human immunodeficiency virus-testing policies adopted by US hospitals, we surveyed a stratified random sample of all nonfederal general...    False\n",
       "6105  0009156  Prevalence and prognostic significance of exercise-induced ventricular arrhythmias after coronary artery bypass grafting.\\n Exercise-induced ventricular arrhythmias occur often after coronary arte...    False\n",
       "3460  0003005  Solid and cystic ultimobranchial body remnants in the thyroid.\\n In this study we determined the incidence rate (89%) and characterized the morphology of ultimobranchial body (UBB) remnants found ...    False\n",
       "5441  0006021  Adenocarcinoma of the appendiceal stump.\\n We have reported the case of a 58-year-old woman with nonspecific abdominal complaints in whom barium enema and subsequent colonoscopy showed a 3 cm lobu...    False\n",
       "938   0009716  Role of upper gastrointestinal investigations in a screening study for colorectal neoplasia.\\n Should patients with positive faecal occult blood screening tests who are free of colorectal neoplasi...    False\n",
       "2383  0004536  Ultrasound-Doppler diagnosis of Budd-Chiari syndrome.\\n We report a case of apparently idiopathic Budd-Chiari syndrome, diagnosed by ultrasound and Doppler sonography, in a patient with latent mye...     True\n",
       "601   0009779  Active specific immunotherapy in patients with melanoma. A clinical trial with mouse antiidiotypic monoclonal antibodies elicited with syngeneic anti-high-molecular-weight-melanoma-associated anti...    False\n",
       "4862  0002925  Ileal pouch-anal anastomosis. Reoperation for pouch-related complications.\\n The aim was to assess the value of reoperative surgery for pouch-related complications after ileal pouch-anal anastomos...    False\n",
       "702   0000000  Evaluation of women with possible appendicitis using technetium-99m leukocyte scan.\\n The authors evaluated the use of technetium-99m albumin colloid white blood cell (TAC-WBC) scan in women with ...    False\n",
       "5029  0003665  Posterior nuchal cystic hygroma [published erratum appears in Clin Perinatol 1990 Dec;17(4):viii]\\n When cystic hygroma is detected antenatally, the prognosis is usually poor, and intrauterine or ...    False\n",
       "239   0002258  Selenium. Nutritional, toxicologic, and clinical aspects \\n Despite the recent findings of environmental contamination, selenium toxicosis in humans is exceedingly rare in the United States, with ...    False\n",
       "3021  0002897  Ionizing radiation-induced pemphigus. Case presentations and literature review.\\n Reports of pemphigus following ionizing radiation exposure are rare.\\n We report two cases and review the literatu...    False\n",
       "1903  0003784  Endometrioma. An intra-abdominal troublemaker.\\n A ten-year review of intestinal and abdominal wall endometriomas is reported.\\n Seven cases of intestinal and two cases of abdominal wall endometri...    False\n",
       "4549  0000416  Laryngomalacia in children.\\n Two hundred three (68 percent) of 297 children with laryngomalacia had associated respiratory disorders by flexible fiberoptic bronchoscopy (FFB).\\n Associated disord...    False\n",
       "1821  0009426  Shortening of the hemodialysis procedure and mortality in \"healthy\" dialysis patients.\\n The influence of shortening chronic hemodialysis on mortality was studied by following cumulative survival ...    False\n",
       "3215  0000809  Induction of renal growth and injury in the intact rat kidney by dietary deficiency of antioxidants.\\n We report induction of renal growth and injury in the intact rat kidney using a diet deficien...    False"
      ]
     },
     "execution_count": 12,
     "metadata": {},
     "output_type": "execute_result"
    }
   ],
   "source": [
    "df_train.sample(20)"
   ]
  },
  {
   "cell_type": "markdown",
   "metadata": {},
   "source": [
    "### How many records do we have in the test / train datasets ?"
   ]
  },
  {
   "cell_type": "code",
   "execution_count": 13,
   "metadata": {
    "collapsed": false
   },
   "outputs": [
    {
     "name": "stdout",
     "output_type": "stream",
     "text": [
      "Training data has:  6286  documents\n",
      "Test data has:  7643  documents\n"
     ]
    }
   ],
   "source": [
    "\n",
    "print 'Training data has: ', len(df_train.index), ' documents'\n",
    "\n",
    "print 'Test data has: ', len(df_test.index), ' documents'"
   ]
  },
  {
   "cell_type": "markdown",
   "metadata": {},
   "source": [
    "### Data distribution"
   ]
  },
  {
   "cell_type": "code",
   "execution_count": 14,
   "metadata": {
    "collapsed": false
   },
   "outputs": [
    {
     "data": {
      "image/png": "[encoded data removed]",
      "text/plain": [
       "<matplotlib.figure.Figure at 0xacb7898>"
      ]
     },
     "metadata": {},
     "output_type": "display_data"
    }
   ],
   "source": [
    "plt.axis('equal')\n",
    "plt.pie(\n",
    "    df_train.CATEGORY.value_counts().tolist(), \n",
    "    labels=['False', 'True'], \n",
    "    autopct='%1.1f%%', \n",
    "    colors=(\"#E13F29\", \"#D69A80\"));"
   ]
  },
  {
   "cell_type": "markdown",
   "metadata": {},
   "source": [
    "**The accuracy of a dumb classifier that classifies all the documents as False is >80%**"
   ]
  },
  {
   "cell_type": "markdown",
   "metadata": {},
   "source": [
    "# Define Target classifier and test method"
   ]
  },
  {
   "cell_type": "code",
   "execution_count": 15,
   "metadata": {
    "collapsed": true
   },
   "outputs": [],
   "source": [
    "from sklearn.feature_extraction.text import CountVectorizer\n",
    "from sklearn.naive_bayes import MultinomialNB\n",
    "from sklearn.grid_search import GridSearchCV\n",
    "from sklearn.pipeline import Pipeline\n",
    "from sklearn.metrics import classification_report, accuracy_score\n",
    "\n",
    "\n",
    "from nltk.stem.porter import *\n",
    "from nltk.tokenize import word_tokenize\n",
    "import string\n",
    "\n",
    "stemmer = PorterStemmer()\n",
    "def stem_tokens(tokens, stemmer):\n",
    "    stemmed = []\n",
    "    for item in tokens:\n",
    "        stemmed.append(stemmer.stem(item))\n",
    "    return stemmed\n",
    "\n",
    "def tokenize(text):\n",
    "    text = \"\".join([ch for ch in text if ch not in string.punctuation])\n",
    "    tokens = word_tokenize(text)\n",
    "    tokens = [item for item in tokens if item.isalpha()]\n",
    "    stems = stem_tokens(tokens, stemmer)\n",
    "    return stems\n",
    "\n",
    "def RenderConfusionMatrix(ytrue, ypred):\n",
    "    \"\"\"\n",
    "    Helper function - renders confusion matrix\n",
    "    \"\"\"\n",
    "    print(pd.crosstab(pd.Series(ytrue), pd.Series(ypred), rownames=['Actual'], colnames=['Predicted'], margins=True)) \n",
    "\n",
    "def TrainAndClassify(df_train, df_test):\n",
    "    \"\"\"\n",
    "    Trains the target classifier with the df_train DataFrame dataset and then \n",
    "    classifies df_test DataFrame dataset, compares the classification results to\n",
    "    the real labels and outputs the performance\n",
    "    \"\"\"    \n",
    "\n",
    "    pipeline = Pipeline([\n",
    "        ('vect', CountVectorizer(tokenizer=tokenize)),\n",
    "        ('clf', MultinomialNB())\n",
    "    ])\n",
    "\n",
    "    # Define some possible parameters for feature extraction and for the classifier\n",
    "    parameters = {\n",
    "        'vect__max_features': (20000, 30000),\n",
    "        'vect__ngram_range': ((1, 1), (1, 2)),  # unigrams or bigrams\n",
    "        'clf__alpha': (0.1, 0.2)\n",
    "    }\n",
    "\n",
    "    # find the best parameters for both the feature extraction and the\n",
    "    # classifier, based on the scorer function we defined\n",
    "    grid_search = GridSearchCV(pipeline, parameters, verbose=1)\n",
    "    \n",
    "    # Fit a classifier to the training data\n",
    "    grid_search.fit(df_train['NOTE_TEXT'].tolist(), df_train.CATEGORY.tolist())\n",
    "    \n",
    "    # Make predictions on the test data\n",
    "    predictions = grid_search.predict(df_test['NOTE_TEXT'].tolist())\n",
    "    \n",
    "    # Render confusion matrix\n",
    "    RenderConfusionMatrix(df_test.CATEGORY.tolist(), predictions)\n",
    "    \n",
    "    # Output performance\n",
    "    print\n",
    "    print 'Accuracy: ', accuracy_score(df_test.CATEGORY.tolist(), predictions)\n",
    "    print\n",
    "    print classification_report(df_test.CATEGORY.tolist(), predictions)"
   ]
  },
  {
   "cell_type": "markdown",
   "metadata": {},
   "source": [
    "# Train with randomly selected 1000 samples from the test data"
   ]
  },
  {
   "cell_type": "code",
   "execution_count": 16,
   "metadata": {
    "collapsed": true
   },
   "outputs": [],
   "source": [
    "def ExploreData(df):\n",
    "    \"\"\"\n",
    "    Helper function - data exploration\n",
    "    \"\"\"\n",
    "    print ('Training data has: ', len(df.index), ' documents')\n",
    "    print (df.columns)\n",
    "    print ('The shape of the data is ', (df.shape))\n",
    "    plt.axis('equal')\n",
    "    plt.pie(\n",
    "        df.CATEGORY.value_counts().tolist(), \n",
    "        labels=['False', 'True'], \n",
    "        autopct='%1.1f%%', \n",
    "        colors=(\"#E13F29\", \"#D69A80\"));"
   ]
  },
  {
   "cell_type": "code",
   "execution_count": 17,
   "metadata": {
    "collapsed": false
   },
   "outputs": [
    {
     "name": "stdout",
     "output_type": "stream",
     "text": [
      "('Training data has: ', 1000, ' documents')\n",
      "Index([u'DOCID', u'NOTE_TEXT', u'CATEGORY'], dtype='object')\n",
      "('The shape of the data is ', (1000, 3))\n"
     ]
    },
    {
     "data": {
      "image/png": "[encoded data removed]",
      "text/plain": [
       "<matplotlib.figure.Figure at 0xcbe7be0>"
      ]
     },
     "metadata": {},
     "output_type": "display_data"
    }
   ],
   "source": [
    "K = 1000 # I will take the first 1,000 documents. Note:: the 1st 2,000 docs don't have any True results for category.\n",
    "L = 50   # The number of new documents to add to the training set.\n",
    "\n",
    "\n",
    "#P1 should be K randome samples, thuse we are more likely to get T/F in category.\n",
    "P1 = df_train.sample(K)\n",
    "\n",
    "ExploreData(P1)"
   ]
  },
  {
   "cell_type": "code",
   "execution_count": 18,
   "metadata": {
    "collapsed": false
   },
   "outputs": [
    {
     "name": "stderr",
     "output_type": "stream",
     "text": [
      "[Parallel(n_jobs=1)]: Done   1 jobs       | elapsed:    5.7s\n",
      "[Parallel(n_jobs=1)]: Done  24 out of  24 | elapsed:  2.4min finished\n"
     ]
    },
    {
     "name": "stdout",
     "output_type": "stream",
     "text": [
      "Fitting 3 folds for each of 8 candidates, totalling 24 fits\n",
      "Predicted  False  True   All\n",
      "Actual                      \n",
      "False       6109   233  6342\n",
      "True         434   867  1301\n",
      "All         6543  1100  7643\n",
      "\n",
      "Accuracy:  0.912730603166\n",
      "\n",
      "             precision    recall  f1-score   support\n",
      "\n",
      "      False       0.93      0.96      0.95      6342\n",
      "       True       0.79      0.67      0.72      1301\n",
      "\n",
      "avg / total       0.91      0.91      0.91      7643\n",
      "\n"
     ]
    }
   ],
   "source": [
    "TrainAndClassify(P1, df_test)"
   ]
  },
  {
   "cell_type": "markdown",
   "metadata": {},
   "source": [
    "# Start Active Learning"
   ]
  },
  {
   "cell_type": "code",
   "execution_count": 19,
   "metadata": {
    "collapsed": false
   },
   "outputs": [],
   "source": [
    "#BM\n",
    "K = 1000 # I will take the first 1,000 documents. Note:: the 1st 2,000 docs don't have any True results for category.\n",
    "L = 50   # The number of new documents to add to the training set.\n",
    "\n",
    "#P1 comes from the outline yesterday.\n",
    "df_reserved_init_train_set = df_train[(len(df_train.index)-K):].copy()\n",
    "df_active_learning_train_set = df_train[:(len(df_train.index)-K-1)].copy()"
   ]
  },
  {
   "cell_type": "code",
   "execution_count": 20,
   "metadata": {
    "collapsed": false
   },
   "outputs": [
    {
     "data": {
      "text/plain": [
       "1000"
      ]
     },
     "execution_count": 20,
     "metadata": {},
     "output_type": "execute_result"
    }
   ],
   "source": [
    "len(df_reserved_init_train_set.index)"
   ]
  },
  {
   "cell_type": "code",
   "execution_count": 21,
   "metadata": {
    "collapsed": false
   },
   "outputs": [
    {
     "data": {
      "text/plain": [
       "5285"
      ]
     },
     "execution_count": 21,
     "metadata": {},
     "output_type": "execute_result"
    }
   ],
   "source": [
    "len(df_active_learning_train_set)"
   ]
  },
  {
   "cell_type": "code",
   "execution_count": 22,
   "metadata": {
    "collapsed": false
   },
   "outputs": [
    {
     "name": "stdout",
     "output_type": "stream",
     "text": [
      "('Training data has: ', 1000, ' documents')\n",
      "Index([u'DOCID', u'NOTE_TEXT', u'CATEGORY'], dtype='object')\n",
      "('The shape of the data is ', (1000, 3))\n"
     ]
    },
    {
     "data": {
      "image/png": "[encoded data removed]",
      "text/plain": [
       "<matplotlib.figure.Figure at 0xef6ab38>"
      ]
     },
     "metadata": {},
     "output_type": "display_data"
    }
   ],
   "source": [
    "ExploreData(df_reserved_init_train_set)"
   ]
  },
  {
   "cell_type": "code",
   "execution_count": 23,
   "metadata": {
    "collapsed": false
   },
   "outputs": [
    {
     "name": "stdout",
     "output_type": "stream",
     "text": [
      "('Training data has: ', 5285, ' documents')\n",
      "Index([u'DOCID', u'NOTE_TEXT', u'CATEGORY'], dtype='object')\n",
      "('The shape of the data is ', (5285, 3))\n"
     ]
    },
    {
     "data": {
      "image/png": "[encoded data removed]",
      "text/plain": [
       "<matplotlib.figure.Figure at 0xf448400>"
      ]
     },
     "metadata": {},
     "output_type": "display_data"
    }
   ],
   "source": [
    "ExploreData(df_active_learning_train_set)"
   ]
  },
  {
   "cell_type": "code",
   "execution_count": 24,
   "metadata": {
    "collapsed": false
   },
   "outputs": [
    {
     "name": "stdout",
     "output_type": "stream",
     "text": [
      "('Training data df_random_sample_train_set has: ', 1050, ' documents')\n",
      "('Training data has: ', 5285, ' documents')\n",
      "Index([u'DOCID', u'NOTE_TEXT', u'CATEGORY'], dtype='object')\n",
      "('The shape of the data is ', (5285, 3))\n"
     ]
    },
    {
     "data": {
      "image/png": "[encoded data removed]",
      "text/plain": [
       "<matplotlib.figure.Figure at 0x1105fcc0>"
      ]
     },
     "metadata": {},
     "output_type": "display_data"
    }
   ],
   "source": [
    "# Baseline training set + randomly selected\n",
    "\n",
    "df_random_sample_train_set = df_train.sample((K + L))\n",
    "print ('Training data df_random_sample_train_set has: ', len(df_random_sample_train_set.index), ' documents')\n",
    "ExploreData(df_active_learning_train_set)"
   ]
  },
  {
   "cell_type": "code",
   "execution_count": 30,
   "metadata": {
    "collapsed": false
   },
   "outputs": [],
   "source": [
    "#BM\n",
    "# Citation:: 'http://scikit-learn.org/stable/auto_examples/ensemble/plot_voting_probas.html' \n",
    "\n",
    "# Active Learning \n",
    "\n",
    "from sklearn.linear_model import LogisticRegression\n",
    "from sklearn.naive_bayes import GaussianNB\n",
    "from sklearn.ensemble import RandomForestClassifier\n",
    "\n",
    "def ActiveLearn(df_train, df_candidates):\n",
    "    clf1 = LogisticRegression(random_state=123)\n",
    "    clf2 = RandomForestClassifier(random_state=123)\n",
    "    clf3 = GaussianNB()\n",
    "\n",
    "    X_train = df_train['NOTE_TEXT'].tolist()\n",
    "    Y_train = df_train.CATEGORY.tolist()\n",
    "    X_candidates = df_candidates['NOTE_TEXT'].tolist()\n",
    "\n",
    "    vectorizer = CountVectorizer(tokenizer=tokenize, ngram_range=(1,2))\n",
    "\n",
    "    wcounts_train = vectorizer.fit_transform(X_train)\n",
    "    \n",
    "    wcounts_candidates = vectorizer.transform(X_candidates)\n",
    "    \n",
    "    probas = [c.fit(wcounts_train.toarray(), Y_train).predict_proba(wcounts_candidates.toarray()) for c in (clf1, clf2, clf3)]\n",
    "    \n",
    "    K = len(df_candidates.index)\n",
    "    \n",
    "    np_doc_id_pr = np.empty((K,2), dtype=np.float64)\n",
    "    num_classifer_method = 3\n",
    "\n",
    "    for row_index in range(K):\n",
    "    \n",
    "        false_pr = 0.0\n",
    "        true_pr = 0.0\n",
    "\n",
    "        for x in range(num_classifer_method):\n",
    "            false_pr += probas[x][row_index][0]\n",
    "            true_pr += probas[x][row_index][1]\n",
    "\n",
    "        false_pr = false_pr/float(num_classifer_method)\n",
    "        true_pr = true_pr/float(num_classifer_method)\n",
    "\n",
    "        amortizeVotingClassifier = abs(false_pr - true_pr)\n",
    "\n",
    "        np_doc_id_pr[row_index][0] = row_index\n",
    "        np_doc_id_pr[row_index][1] = amortizeVotingClassifier\n",
    "    \n",
    "    tmp_np_array =  np_doc_id_pr[np_doc_id_pr[:,1].argsort()]\n",
    "    index_doc = 0\n",
    "    for i in range(L):\n",
    "        index_doc += 1\n",
    "        df_reserved_init_train_set[K + index_doc] = df_active_learning_train_set.iloc[int(tmp_np_array[i][0])]\n",
    "\n"
   ]
  },
  {
   "cell_type": "code",
   "execution_count": 31,
   "metadata": {
    "collapsed": true
   },
   "outputs": [],
   "source": [
    "ActiveLearn(df_random_sample_train_set,df_random_sample_train_set)"
   ]
  },
  {
   "cell_type": "code",
   "execution_count": 26,
   "metadata": {
    "collapsed": false
   },
   "outputs": [
    {
     "ename": "NameError",
     "evalue": "name 'clf1' is not defined",
     "output_type": "error",
     "traceback": [
      "\u001b[1;31m---------------------------------------------------------------------------\u001b[0m",
      "\u001b[1;31mNameError\u001b[0m                                 Traceback (most recent call last)",
      "\u001b[1;32m<ipython-input-26-a77d3ccbddf7>\u001b[0m in \u001b[0;36m<module>\u001b[1;34m()\u001b[0m\n\u001b[0;32m      1\u001b[0m \u001b[1;31m# predict class probabilities for all classifiers\u001b[0m\u001b[1;33m\u001b[0m\u001b[1;33m\u001b[0m\u001b[0m\n\u001b[1;32m----> 2\u001b[1;33m \u001b[0mprobas\u001b[0m \u001b[1;33m=\u001b[0m \u001b[1;33m[\u001b[0m\u001b[0mc\u001b[0m\u001b[1;33m.\u001b[0m\u001b[0mfit\u001b[0m\u001b[1;33m(\u001b[0m\u001b[0mwcounts\u001b[0m\u001b[1;33m.\u001b[0m\u001b[0mtoarray\u001b[0m\u001b[1;33m(\u001b[0m\u001b[1;33m)\u001b[0m\u001b[1;33m,\u001b[0m \u001b[0mY_train\u001b[0m\u001b[1;33m)\u001b[0m\u001b[1;33m.\u001b[0m\u001b[0mpredict_proba\u001b[0m\u001b[1;33m(\u001b[0m\u001b[0mwcounts\u001b[0m\u001b[1;33m.\u001b[0m\u001b[0mtoarray\u001b[0m\u001b[1;33m(\u001b[0m\u001b[1;33m)\u001b[0m\u001b[1;33m)\u001b[0m \u001b[1;32mfor\u001b[0m \u001b[0mc\u001b[0m \u001b[1;32min\u001b[0m \u001b[1;33m(\u001b[0m\u001b[0mclf1\u001b[0m\u001b[1;33m,\u001b[0m \u001b[0mclf2\u001b[0m\u001b[1;33m,\u001b[0m \u001b[0mclf3\u001b[0m\u001b[1;33m)\u001b[0m\u001b[1;33m]\u001b[0m\u001b[1;33m\u001b[0m\u001b[0m\n\u001b[0m\u001b[0;32m      3\u001b[0m \u001b[1;33m\u001b[0m\u001b[0m\n\u001b[0;32m      4\u001b[0m \u001b[1;31m#for testing\u001b[0m\u001b[1;33m\u001b[0m\u001b[1;33m\u001b[0m\u001b[0m\n\u001b[0;32m      5\u001b[0m \u001b[1;31m#probas = clf1.fit(wcounts.toarray(), Y_train).predict_log_proba(wcounts.toarray())\u001b[0m\u001b[1;33m\u001b[0m\u001b[1;33m\u001b[0m\u001b[0m\n",
      "\u001b[1;31mNameError\u001b[0m: name 'clf1' is not defined"
     ]
    }
   ],
   "source": [
    "# predict class probabilities for all classifiers\n",
    "probas = [c.fit(wcounts.toarray(), Y_train).predict_proba(wcounts.toarray()) for c in (clf1, clf2, clf3)]\n",
    "\n",
    "#for testing\n",
    "#probas = clf1.fit(wcounts.toarray(), Y_train).predict_log_proba(wcounts.toarray())\n",
    "\n",
    "print(probas)\n",
    "\n",
    "print(\"--- Time to compute VotingClassifier %s seconds ---\" % (time.time() - start_time))"
   ]
  },
  {
   "cell_type": "code",
   "execution_count": null,
   "metadata": {
    "collapsed": true
   },
   "outputs": [],
   "source": []
  }
 ],
 "metadata": {
  "kernelspec": {
   "display_name": "Python 2",
   "language": "python",
   "name": "python2"
  },
  "language_info": {
   "codemirror_mode": {
    "name": "ipython",
    "version": 2
   },
   "file_extension": ".py",
   "mimetype": "text/x-python",
   "name": "python",
   "nbconvert_exporter": "python",
   "pygments_lexer": "ipython2",
   "version": "2.7.11"
  }
 },
 "nbformat": 4,
 "nbformat_minor": 0
}
